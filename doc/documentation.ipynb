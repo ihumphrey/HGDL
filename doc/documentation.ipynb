{
 "cells": [
  {
   "cell_type": "markdown",
   "metadata": {},
   "source": [
    "$\n",
    "\\Large c = e^{\\frac{\\alpha}{r^2}}\n",
    "$"
   ]
  },
  {
   "cell_type": "markdown",
   "metadata": {},
   "source": [
    "$\n",
    "\\Large b(x-x_0, r, \\alpha) = c e^{\\frac{-\\alpha}{r^2-\\sum_{i=0}^{d} (x_i-x_{0_i})^2}}\n",
    "$"
   ]
  },
  {
   "cell_type": "markdown",
   "metadata": {},
   "source": [
    "$\n",
    "\\Large \\frac{\\partial b} {\\partial x_i} = \n",
    "b(x-x_o, r, \\alpha) \\frac{-2\\alpha(x_i - x_{0_i})}{(r^2 - \\sum_{i=0}^{d} (x_i-x_{0_i})^2)^2}\n",
    "$"
   ]
  },
  {
   "cell_type": "markdown",
   "metadata": {},
   "source": [
    "$\n",
    "\\Large \\text{deflation} = \\frac{1}{1-b}\n",
    "$"
   ]
  },
  {
   "cell_type": "markdown",
   "metadata": {},
   "source": [
    "$\n",
    "\\Large \\frac{\\partial}{\\partial x_i} \\text{deflation} = \\frac{2}{(1-b)^2} \\frac{\\partial}{\\partial x_i} b\n",
    "$"
   ]
  },
  {
   "cell_type": "markdown",
   "metadata": {},
   "source": [
    "$\n",
    "\\Large \\frac{\\frac{\\partial}{\\partial x_i} \\text{deflation}}{\\text{deflation}} = \\frac{2}{1-b} \\frac{\\partial}{\\partial x_i} b = 2 \\times \\text{deflation} \\times \\frac{\\partial}{\\partial x_i} b\n",
    "$"
   ]
  },
  {
   "cell_type": "markdown",
   "metadata": {},
   "source": [
    " * x is the probe point\n",
    " * $x_0$ is a single, technical minima\n",
    " * minima is a list of all technical minima\n",
    " * r is the radius of deflation\n",
    " * alpha is a parameter describing the shape of the bump function."
   ]
  }
 ],
 "metadata": {
  "kernelspec": {
   "display_name": "Python 3",
   "language": "python",
   "name": "python3"
  },
  "language_info": {
   "codemirror_mode": {
    "name": "ipython",
    "version": 3
   },
   "file_extension": ".py",
   "mimetype": "text/x-python",
   "name": "python",
   "nbconvert_exporter": "python",
   "pygments_lexer": "ipython3",
   "version": "3.7.7"
  }
 },
 "nbformat": 4,
 "nbformat_minor": 4
}
