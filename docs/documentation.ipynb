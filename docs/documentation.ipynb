{
 "cells": [
  {
   "cell_type": "markdown",
   "metadata": {},
   "source": [
    "# The HGDL Package: Hybrid HPC Distributed Optimization"
   ]
  },
  {
   "cell_type": "markdown",
   "metadata": {},
   "source": [
    "The problem HGDL is attemting to solve is"
   ]
  },
  {
   "cell_type": "markdown",
   "metadata": {},
   "source": [
    "$\n",
    "\\Large argmin_x f(x)\n",
    "$"
   ]
  },
  {
   "cell_type": "markdown",
   "metadata": {},
   "source": [
    "For HGDL this happens by using local optimization, global optimization and deflation to find many unique optima.\n",
    "The deflation has the power to remove identified optima form the function to avoid the high costs of reidentification. Thnis is done by applying a deflation operator, based on the b ump function. "
   ]
  },
  {
   "cell_type": "markdown",
   "metadata": {},
   "source": [
    "$\n",
    "\\Large b(x-x_0, r, \\alpha) = c e^{\\frac{-\\alpha}{r^2-\\sum_{i=0}^{d} (x_i-x_{0_i})^2}}\n",
    "$"
   ]
  },
  {
   "cell_type": "markdown",
   "metadata": {},
   "source": [
    "$\n",
    "\\Large \\text{deflation} = \\frac{1}{1-b}\n",
    "$"
   ]
  },
  {
   "cell_type": "markdown",
   "metadata": {},
   "source": [
    " * x is the probe point\n",
    " * $x_0$ is a single, technical minima\n",
    " * minima is a list of all technical minima\n",
    " * r is the radius of deflation\n",
    " * alpha is a parameter describing the shape of the bump function.\n",
    " \n",
    "Try it out: (if this does not work from within a jupiter notebook, try to run the code from a script.)"
   ]
  },
  {
   "cell_type": "code",
   "execution_count": null,
   "metadata": {},
   "outputs": [],
   "source": [
    "def test_rosebrock():\n",
    "    from scipy.optimize import rosen, rosen_der, rosen_hess\n",
    "    import numpy as np\n",
    "    from hgdl.hgdl import HGDL\n",
    "    from time import sleep, perf_counter\n",
    "    print('this will create an hgdl object, sleep for 3'\n",
    "            ' seconds, get the best result, sleep for 3 seconds,'\n",
    "            'then get the final result.\\n'\n",
    "            'working on the epochs should happend even during sleeping\\n'\n",
    "            )\n",
    "    a = HGDL(rosen, rosen_der,[[-2,2],[-2,2]], hess = rosen_hess, radius = 0.1, num_epochs = 10000)\n",
    "    a.optimize()\n",
    "\n",
    "\n",
    "    print(\"main thread submitted HGDL and will now sleep for 10 seconds\")\n",
    "    sleep(5)\n",
    "    print(\"main thread asks for 10 best solutions:\")\n",
    "    print(a.get_latest(10))\n",
    "    print(\"main sleeps for another 10 seconds\")\n",
    "    sleep(3)\n",
    "    print(\"main thread kills optimization\")\n",
    "    res = a.kill_client()\n",
    "    print(\"hgdl was killed but I am waiting 2s\")\n",
    "    sleep(2)\n",
    "    print(\"\")\n",
    "    print(\"\")\n",
    "    print(\"\")\n",
    "    print(\"\")\n",
    "    print(res)\n",
    "\n",
    "\n",
    "test_rosebrock()"
   ]
  },
  {
   "cell_type": "code",
   "execution_count": null,
   "metadata": {},
   "outputs": [],
   "source": []
  }
 ],
 "metadata": {
  "kernelspec": {
   "display_name": "hgdl_env",
   "language": "python",
   "name": "hgdl_env"
  },
  "language_info": {
   "codemirror_mode": {
    "name": "ipython",
    "version": 3
   },
   "file_extension": ".py",
   "mimetype": "text/x-python",
   "name": "python",
   "nbconvert_exporter": "python",
   "pygments_lexer": "ipython3",
   "version": "3.8.10"
  }
 },
 "nbformat": 4,
 "nbformat_minor": 4
}
