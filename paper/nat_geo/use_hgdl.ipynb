{
 "cells": [
  {
   "cell_type": "code",
   "execution_count": 1,
   "metadata": {},
   "outputs": [],
   "source": [
    "import numpy as np\n",
    "from matplotlib import pyplot as plt\n",
    "from matplotlib.colors import LogNorm\n",
    "from sklearn.gaussian_process import GaussianProcessRegressor\n",
    "from sklearn.gaussian_process.kernels import RBF, WhiteKernel\n",
    "from mpl_toolkits.axes_grid1.inset_locator import inset_axes"
   ]
  },
  {
   "cell_type": "code",
   "execution_count": 2,
   "metadata": {},
   "outputs": [],
   "source": [
    "data = np.load('us_topo.npy')\n",
    "X, y = data[:,:-1], data[:,-1]"
   ]
  },
  {
   "cell_type": "code",
   "execution_count": 3,
   "metadata": {},
   "outputs": [],
   "source": [
    "from dask.distributed import Client"
   ]
  },
  {
   "cell_type": "code",
   "execution_count": 4,
   "metadata": {},
   "outputs": [],
   "source": [
    "client = Client(scheduler_file='scheduler.json')"
   ]
  },
  {
   "cell_type": "code",
   "execution_count": 5,
   "metadata": {},
   "outputs": [
    {
     "data": {
      "text/html": [
       "<table style=\"border: 2px solid white;\">\n",
       "<tr>\n",
       "<td style=\"vertical-align: top; border: 0px solid white\">\n",
       "<h3 style=\"text-align: left;\">Client</h3>\n",
       "<ul style=\"text-align: left; list-style: none; margin: 0; padding: 0;\">\n",
       "  <li><b>Scheduler: </b>tcp://10.128.0.203:44723</li>\n",
       "  <li><b>Dashboard: </b><a href='http://10.128.0.203:8787/status' target='_blank'>http://10.128.0.203:8787/status</a></li>\n",
       "</ul>\n",
       "</td>\n",
       "<td style=\"vertical-align: top; border: 0px solid white\">\n",
       "<h3 style=\"text-align: left;\">Cluster</h3>\n",
       "<ul style=\"text-align: left; list-style:none; margin: 0; padding: 0;\">\n",
       "  <li><b>Workers: </b>48</li>\n",
       "  <li><b>Cores: </b>3072</li>\n",
       "  <li><b>Memory: </b>6.08 TB</li>\n",
       "</ul>\n",
       "</td>\n",
       "</tr>\n",
       "</table>"
      ],
      "text/plain": [
       "<Client: 'tcp://10.128.0.203:44723' processes=48 threads=3072, memory=6.08 TB>"
      ]
     },
     "execution_count": 5,
     "metadata": {},
     "output_type": "execute_result"
    }
   ],
   "source": [
    "client"
   ]
  },
  {
   "cell_type": "code",
   "execution_count": 6,
   "metadata": {},
   "outputs": [],
   "source": [
    "state = np.random.get_state()"
   ]
  },
  {
   "cell_type": "code",
   "execution_count": 7,
   "metadata": {},
   "outputs": [],
   "source": [
    "np.random.shuffle(X)"
   ]
  },
  {
   "cell_type": "code",
   "execution_count": 8,
   "metadata": {},
   "outputs": [],
   "source": [
    "np.random.set_state(state)"
   ]
  },
  {
   "cell_type": "code",
   "execution_count": 9,
   "metadata": {},
   "outputs": [],
   "source": [
    "np.random.shuffle(y)"
   ]
  },
  {
   "cell_type": "code",
   "execution_count": 10,
   "metadata": {},
   "outputs": [],
   "source": [
    "from fit import fit\n",
    "GaussianProcessRegressor.fit = fit"
   ]
  },
  {
   "cell_type": "code",
   "execution_count": 11,
   "metadata": {},
   "outputs": [
    {
     "data": {
      "text/html": [
       "<b>Future: ndarray</b> <font color=\"gray\">status: </font><font color=\"black\">finished</font>, <font color=\"gray\">type: </font>numpy.ndarray, <font color=\"gray\">key: </font>ndarray-05bf43705660e1d2543e4c6fbc9d1c75"
      ],
      "text/plain": [
       "<Future: finished, type: numpy.ndarray, key: ndarray-05bf43705660e1d2543e4c6fbc9d1c75>"
      ]
     },
     "execution_count": 11,
     "metadata": {},
     "output_type": "execute_result"
    }
   ],
   "source": [
    "client.scatter(X, broadcast=True)"
   ]
  },
  {
   "cell_type": "code",
   "execution_count": 12,
   "metadata": {},
   "outputs": [
    {
     "data": {
      "text/html": [
       "<b>Future: ndarray</b> <font color=\"gray\">status: </font><font color=\"black\">finished</font>, <font color=\"gray\">type: </font>numpy.ndarray, <font color=\"gray\">key: </font>ndarray-4dc7745ad559b79e3392ae1171694a70"
      ],
      "text/plain": [
       "<Future: finished, type: numpy.ndarray, key: ndarray-4dc7745ad559b79e3392ae1171694a70>"
      ]
     },
     "execution_count": 12,
     "metadata": {},
     "output_type": "execute_result"
    }
   ],
   "source": [
    "client.scatter(y, broadcast=True)"
   ]
  },
  {
   "cell_type": "code",
   "execution_count": 13,
   "metadata": {},
   "outputs": [
    {
     "name": "stdout",
     "output_type": "stream",
     "text": [
      "after get latest {'best_x': array([7.33712987, 0.47512307]), 'best_y': 235021.96310341082, 'minima_x': array([], shape=(0, 2), dtype=float64), 'minima_y': array([], dtype=float64), 'global_x': array([[ 7.33712987,  0.47512307],\n",
      "       [ 6.30807114, -1.40737593],\n",
      "       [ 8.25702225,  4.54456682],\n",
      "       [-1.81869676,  5.94728829],\n",
      "       [-9.34441189, 10.95160937]]), 'global_y': array([2.35021963e+05, 9.03348056e+05, 3.42994561e+17, 6.05425434e+17,\n",
      "       2.02087439e+18])}\n"
     ]
    }
   ],
   "source": [
    "hgdl_GPs = GaussianProcessRegressor(kernel=1.0*RBF(1.0), optimizer='hgdl', random_state=42).fit(\n",
    "    X[:1000], y[:1000], client=client, num_individuals=3, num_epochs=5, max_local=2, r=3.0)"
   ]
  },
  {
   "cell_type": "code",
   "execution_count": null,
   "metadata": {},
   "outputs": [],
   "source": []
  },
  {
   "cell_type": "code",
   "execution_count": 14,
   "metadata": {},
   "outputs": [
    {
     "data": {
      "text/plain": [
       "[GaussianProcessRegressor(kernel=39.2**2 * RBF(length_scale=1.61),\n",
       "                          random_state=42),\n",
       " GaussianProcessRegressor(kernel=23.4**2 * RBF(length_scale=0.245),\n",
       "                          random_state=42),\n",
       " GaussianProcessRegressor(kernel=62.1**2 * RBF(length_scale=94.1),\n",
       "                          random_state=42),\n",
       " GaussianProcessRegressor(kernel=0.403**2 * RBF(length_scale=383),\n",
       "                          random_state=42),\n",
       " GaussianProcessRegressor(kernel=0.00935**2 * RBF(length_scale=5.7e+04),\n",
       "                          random_state=42)]"
      ]
     },
     "execution_count": 14,
     "metadata": {},
     "output_type": "execute_result"
    }
   ],
   "source": [
    "hgdl_GPs"
   ]
  },
  {
   "cell_type": "code",
   "execution_count": 15,
   "metadata": {},
   "outputs": [],
   "source": [
    "# print_GPs(hgdl_GPs, 'hgdl')"
   ]
  },
  {
   "cell_type": "code",
   "execution_count": 16,
   "metadata": {},
   "outputs": [],
   "source": [
    "GPs = hgdl_GPs"
   ]
  },
  {
   "cell_type": "code",
   "execution_count": 17,
   "metadata": {},
   "outputs": [],
   "source": [
    "likelihoods = [x.log_marginal_likelihood_value_ for x in GPs]"
   ]
  },
  {
   "cell_type": "code",
   "execution_count": null,
   "metadata": {},
   "outputs": [],
   "source": []
  },
  {
   "cell_type": "code",
   "execution_count": 18,
   "metadata": {},
   "outputs": [
    {
     "data": {
      "text/plain": [
       "[-235021.96310341082,\n",
       " -903348.056128845,\n",
       " -3.4299456128650643e+17,\n",
       " -6.054245656818971e+17,\n",
       " -2.0208743856350892e+18]"
      ]
     },
     "execution_count": 18,
     "metadata": {},
     "output_type": "execute_result"
    }
   ],
   "source": [
    "likelihoods"
   ]
  },
  {
   "cell_type": "code",
   "execution_count": 19,
   "metadata": {},
   "outputs": [
    {
     "data": {
      "text/plain": [
       "[0.19539185761158795,\n",
       " -0.7859099780804824,\n",
       " 0.8114774236818613,\n",
       " 0.7917479953199635,\n",
       " 0.23843486816673043]"
      ]
     },
     "execution_count": 19,
     "metadata": {},
     "output_type": "execute_result"
    }
   ],
   "source": [
    "[z.score(X,y) for z in GPs]"
   ]
  },
  {
   "cell_type": "code",
   "execution_count": 20,
   "metadata": {},
   "outputs": [],
   "source": [
    "with open('GPs.pkl', 'wb') as file:\n",
    "    from pickle import dump\n",
    "    dump(GPs, file)"
   ]
  },
  {
   "cell_type": "code",
   "execution_count": null,
   "metadata": {},
   "outputs": [],
   "source": []
  }
 ],
 "metadata": {
  "kernelspec": {
   "display_name": "hgdlEnv",
   "language": "python",
   "name": "hgdlenv"
  },
  "language_info": {
   "codemirror_mode": {
    "name": "ipython",
    "version": 3
   },
   "file_extension": ".py",
   "mimetype": "text/x-python",
   "name": "python",
   "nbconvert_exporter": "python",
   "pygments_lexer": "ipython3",
   "version": "3.8.5"
  }
 },
 "nbformat": 4,
 "nbformat_minor": 4
}
