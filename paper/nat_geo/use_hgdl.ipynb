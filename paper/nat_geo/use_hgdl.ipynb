{
 "cells": [
  {
   "cell_type": "code",
   "execution_count": 1,
   "metadata": {},
   "outputs": [],
   "source": [
    "import numpy as np\n",
    "from matplotlib import pyplot as plt\n",
    "from matplotlib.colors import LogNorm\n",
    "from sklearn.gaussian_process import GaussianProcessRegressor\n",
    "from sklearn.gaussian_process.kernels import RBF, WhiteKernel\n",
    "from mpl_toolkits.axes_grid1.inset_locator import inset_axes"
   ]
  },
  {
   "cell_type": "code",
   "execution_count": 2,
   "metadata": {},
   "outputs": [],
   "source": [
    "data = np.load('us_topo.npy')\n",
    "X, y = data[:,:-1], data[:,-1]"
   ]
  },
  {
   "cell_type": "markdown",
   "metadata": {},
   "source": [
    "## Some support functions"
   ]
  },
  {
   "cell_type": "code",
   "execution_count": 3,
   "metadata": {},
   "outputs": [],
   "source": [
    "def print_GPs(GPs, name):\n",
    "    plt.plot(X_, 0.5*np.sin(3*X_), label='ground truth')\n",
    "    for i, gp in enumerate(GPs):\n",
    "        print('gp - '+name+' (',i+1,'): ', gp, '\\nkernel:', gp.kernel_)\n",
    "        print('theta:', gp.kernel_.theta, np.exp(gp.kernel_.theta))\n",
    "        print('likelihood:', gp.log_marginal_likelihood_value_)\n",
    "\n",
    "\n",
    "    for i, gp in enumerate(GPs):\n",
    "        y_mean, y_cov = gp.predict(X_[:, np.newaxis], return_cov=True)\n",
    "        #plt.plot(X_, y_mean, 'k', lw=3, zorder=9, label='sklearn kernel: '+str(i+1))\n",
    "        plt.plot(X_, y_mean, label='sklearn kernel: '+str(i+1))\n",
    "\n",
    "    plt.legend()\n",
    "    plt.tight_layout()"
   ]
  },
  {
   "cell_type": "code",
   "execution_count": 4,
   "metadata": {},
   "outputs": [],
   "source": [
    "def make_plots(GPs):\n",
    "    fig, ax = plt.subplots(2,1, figsize=(12,10))\n",
    "    #plt.title('Log Marginal Likelihood Surfaces with Prediction')\n",
    "    for i, gp in enumerate(GPs):\n",
    "        ax = plt.subplot(2,1,i+1)\n",
    "        #ax = plt.subplot(1,1,1)\n",
    "\n",
    "        plt.scatter(np.exp(gp.kernel_.theta[1]), np.exp(gp.kernel_.theta[2]), c='red', marker='x')\n",
    "\n",
    "        a, b = gp.kernel_.bounds[1:]\n",
    "        theta0 = np.linspace(a[0], a[1], 49)\n",
    "        theta1 = np.linspace(b[0], b[1], 50)\n",
    "        Theta0, Theta1 = np.meshgrid(theta0, theta1)\n",
    "        LML = np.empty(Theta0.shape)\n",
    "        for i in range(Theta0.shape[0]):\n",
    "            for j in range(Theta0.shape[1]):\n",
    "                LML[i,j] = gp.log_marginal_likelihood(np.array([gp.kernel_.theta[0], Theta0[i, j], Theta1[i, j]]))\n",
    "\n",
    "        #LML = np.array(LML).T\n",
    "        vmin, vmax = (-LML).min(), (-LML).max()\n",
    "        level = np.around(np.logspace(np.log10(vmin), np.log10(vmax), 50), decimals=1)\n",
    "        plt.contour(np.exp(Theta0), np.exp(Theta1), -LML,\n",
    "                    levels=level, colors='black', linewidths=1., norm=LogNorm(vmin=vmin, vmax=vmax))\n",
    "        plt.yscale('log')\n",
    "        plt.xscale('log')\n",
    "        subAx = inset_axes(ax,\n",
    "                        width=\"70%\", # width = 30% of parent_bbox\n",
    "                        height=\"60%\", # height : 1 inch\n",
    "                        loc='lower right')\n",
    "        subAx.plot(X_, 0.5*np.sin(3*X_), color='black', label='ground truth')\n",
    "        y_mean, y_cov = gp.predict(X_[:, np.newaxis], return_cov=True)\n",
    "        subAx.plot(X_, y_mean, label='prediction')\n",
    "\n",
    "        subAx.scatter(X, y, color='black', marker='o')\n",
    "        subAx.fill_between(X_, y_mean - np.sqrt(np.diag(y_cov)),\n",
    "                     y_mean + np.sqrt(np.diag(y_cov)),\n",
    "                     alpha=0.5, color='grey')\n",
    "        subAx.set_xticks([])\n",
    "        subAx.set_xticks([], minor=True)\n",
    "        subAx.set_yticks([])\n",
    "        subAx.set_yticks([], minor=True)\n",
    "\n",
    "        subAx.legend()\n",
    "    #plt.show()\n",
    "    plt.savefig('hgdl_plot')"
   ]
  },
  {
   "cell_type": "markdown",
   "metadata": {},
   "source": [
    "## Run HGDL"
   ]
  },
  {
   "cell_type": "markdown",
   "metadata": {},
   "source": [
    "Overwrite the normal gaussian process regressor to be the one that I define"
   ]
  },
  {
   "cell_type": "code",
   "execution_count": 5,
   "metadata": {},
   "outputs": [],
   "source": [
    "from fit import fit\n",
    "GaussianProcessRegressor.fit = fit"
   ]
  },
  {
   "cell_type": "code",
   "execution_count": null,
   "metadata": {},
   "outputs": [],
   "source": [
    "hgdl_GPs = GaussianProcessRegressor(kernel=1.0*RBF(1.0), optimizer='hgdl', random_state=42).fit(\n",
    "    X, y, num_individuals=3, num_epochs=5, max_local=2, r=3.0)"
   ]
  },
  {
   "cell_type": "code",
   "execution_count": null,
   "metadata": {},
   "outputs": [],
   "source": [
    "print_GPs(hgdl_GPs, 'hgdl')"
   ]
  },
  {
   "cell_type": "code",
   "execution_count": null,
   "metadata": {},
   "outputs": [],
   "source": [
    "del hgdl_GPs[1]"
   ]
  },
  {
   "cell_type": "code",
   "execution_count": null,
   "metadata": {},
   "outputs": [],
   "source": [
    "make_plots(hgdl_GPs)"
   ]
  },
  {
   "cell_type": "code",
   "execution_count": null,
   "metadata": {},
   "outputs": [],
   "source": [
    "import numpy as np\n",
    "a = np.genfromtxt(\"SRTM_RAMP2_TOPO_2000-02-11_rgb_3600x1800.CSV\", delimiter = \",\")\n",
    "print(a.shape)\n",
    "i = np.where(a == 99999.)\n",
    "a[i] = 0.0\n",
    "plt.imshow(a);plt.show()\n",
    "\n",
    "map1 = a[420:620, 550:1050]\n",
    "map1 = map1[::2,::2]   \n",
    "plt.imshow(map1);plt.show()\n",
    "\n",
    "data = np.empty((100*250,3))\n",
    "counter = 0\n",
    "\n",
    "for i in range(100):\n",
    "    for j in range(250):\n",
    "        data[counter,0] = i\n",
    "        data[counter,1] = j\n",
    "        data[counter,2] = map1[i,j]\n",
    "        counter += 1\n",
    "\n",
    "np.save(\"us_topo\",data)\n",
    "\n"
   ]
  }
 ],
 "metadata": {
  "kernelspec": {
   "display_name": "Python 3",
   "language": "python",
   "name": "python3"
  },
  "language_info": {
   "codemirror_mode": {
    "name": "ipython",
    "version": 3
   },
   "file_extension": ".py",
   "mimetype": "text/x-python",
   "name": "python",
   "nbconvert_exporter": "python",
   "pygments_lexer": "ipython3",
   "version": "3.7.7"
  }
 },
 "nbformat": 4,
 "nbformat_minor": 4
}
