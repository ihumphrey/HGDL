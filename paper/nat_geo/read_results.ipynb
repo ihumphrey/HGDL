{
 "cells": [
  {
   "cell_type": "code",
   "execution_count": 2,
   "metadata": {},
   "outputs": [],
   "source": [
    "import numpy as np\n",
    "from matplotlib import pyplot as plt\n",
    "from matplotlib.colors import LogNorm\n",
    "from sklearn.gaussian_process import GaussianProcessRegressor\n",
    "from sklearn.gaussian_process.kernels import RBF, WhiteKernel, Matern\n",
    "from mpl_toolkits.axes_grid1.inset_locator import inset_axes"
   ]
  },
  {
   "cell_type": "code",
   "execution_count": 16,
   "metadata": {},
   "outputs": [],
   "source": [
    "data = np.load('us_topo.npy')\n",
    "X, y = data[:,:-1], data[:,-1]"
   ]
  },
  {
   "cell_type": "code",
   "execution_count": 17,
   "metadata": {},
   "outputs": [],
   "source": [
    "from dask.distributed import Client"
   ]
  },
  {
   "cell_type": "code",
   "execution_count": 18,
   "metadata": {},
   "outputs": [],
   "source": [
    "state = np.random.get_state()"
   ]
  },
  {
   "cell_type": "code",
   "execution_count": 19,
   "metadata": {},
   "outputs": [],
   "source": [
    "np.random.shuffle(X)"
   ]
  },
  {
   "cell_type": "code",
   "execution_count": 20,
   "metadata": {},
   "outputs": [],
   "source": [
    "np.random.set_state(state)"
   ]
  },
  {
   "cell_type": "code",
   "execution_count": 21,
   "metadata": {},
   "outputs": [],
   "source": [
    "np.random.shuffle(y)"
   ]
  },
  {
   "cell_type": "code",
   "execution_count": 22,
   "metadata": {},
   "outputs": [],
   "source": [
    "X, y = X[:2000], y[:2000]"
   ]
  },
  {
   "cell_type": "code",
   "execution_count": 23,
   "metadata": {},
   "outputs": [
    {
     "name": "stderr",
     "output_type": "stream",
     "text": [
      "/home/elliott/anaconda3/lib/python3.7/site-packages/sklearn/base.py:334: UserWarning: Trying to unpickle estimator GaussianProcessRegressor from version 0.23.2 when using version 0.23.1. This might lead to breaking code or invalid results. Use at your own risk.\n",
      "  UserWarning)\n"
     ]
    }
   ],
   "source": [
    "with open('GPs.pkl', 'rb') as file:\n",
    "    from pickle import load\n",
    "    hgdl_GPs = load(file)"
   ]
  },
  {
   "cell_type": "code",
   "execution_count": 24,
   "metadata": {},
   "outputs": [],
   "source": [
    "hgdl_GPs = hgdl_GPs[:10]"
   ]
  },
  {
   "cell_type": "code",
   "execution_count": 25,
   "metadata": {},
   "outputs": [
    {
     "name": "stdout",
     "output_type": "stream",
     "text": [
      "j 0\n",
      "\tLog Likelihood -8624.881\n",
      "\tR^2 1.0\n",
      "\tCV 0.8973\n",
      "\n",
      "j 1\n",
      "\tLog Likelihood -8762.799\n",
      "\tR^2 1.0\n",
      "\tCV 0.92\n",
      "\n",
      "j 2\n",
      "\tLog Likelihood -9106.186\n",
      "\tR^2 1.0\n",
      "\tCV 0.9201\n",
      "\n",
      "j 3\n",
      "\tLog Likelihood -10001.89\n",
      "\tR^2 1.0\n",
      "\tCV 0.6226\n",
      "\n"
     ]
    }
   ],
   "source": [
    "for j in range(4):\n",
    "    print('j',j)\n",
    "    mine = hgdl_GPs[j]\n",
    "    print('\\tLog Likelihood', mine.log_marginal_likelihood_value_.round(3))\n",
    "    print('\\tR^2',GaussianProcessRegressor(kernel=mine.kernel_, optimizer=None).fit(X,y).score(X,y).round(4))\n",
    "\n",
    "    CV = []\n",
    "    for i in range(3):\n",
    "        test = X[i::3], y[i::3]\n",
    "        train = np.append(X[(i+1)%3::3], X[(i+2)%3::3], 0), np.append(y[(i+1)%3::3], y[(i+2)%3::3])\n",
    "        tmp = GaussianProcessRegressor(kernel=mine.kernel_, optimizer=None).fit(*train).score(*test)\n",
    "        CV.append(tmp)\n",
    "\n",
    "\n",
    "    print('\\tCV',np.mean(CV).round(4))\n",
    "    print()"
   ]
  },
  {
   "cell_type": "code",
   "execution_count": null,
   "metadata": {},
   "outputs": [],
   "source": []
  }
 ],
 "metadata": {
  "kernelspec": {
   "display_name": "Python 3",
   "language": "python",
   "name": "python3"
  },
  "language_info": {
   "codemirror_mode": {
    "name": "ipython",
    "version": 3
   },
   "file_extension": ".py",
   "mimetype": "text/x-python",
   "name": "python",
   "nbconvert_exporter": "python",
   "pygments_lexer": "ipython3",
   "version": "3.7.7"
  }
 },
 "nbformat": 4,
 "nbformat_minor": 4
}
