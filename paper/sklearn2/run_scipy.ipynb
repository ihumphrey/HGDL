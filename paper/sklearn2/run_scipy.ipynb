{
 "cells": [
  {
   "cell_type": "markdown",
   "metadata": {},
   "source": [
    "# Imports"
   ]
  },
  {
   "cell_type": "code",
   "execution_count": 1,
   "metadata": {},
   "outputs": [],
   "source": [
    "import numpy as np\n",
    "from matplotlib import pyplot as plt\n",
    "from matplotlib.colors import LogNorm\n",
    "from sklearn.gaussian_process import GaussianProcessRegressor\n",
    "from sklearn.gaussian_process.kernels import RBF, WhiteKernel\n",
    "from mpl_toolkits.axes_grid1.inset_locator import inset_axes"
   ]
  },
  {
   "cell_type": "code",
   "execution_count": 2,
   "metadata": {},
   "outputs": [],
   "source": [
    "from IPython.display import Image"
   ]
  },
  {
   "cell_type": "markdown",
   "metadata": {},
   "source": [
    "## Initialize test data"
   ]
  },
  {
   "cell_type": "code",
   "execution_count": 3,
   "metadata": {},
   "outputs": [],
   "source": [
    "# generate data exactly as in the example\n",
    "rng = np.random.RandomState(0)\n",
    "X = rng.uniform(0, 5, 20)[:, np.newaxis]\n",
    "y = 0.5 * np.sin(3 * X[:, 0]) + rng.normal(0, 0.5, X.shape[0])"
   ]
  },
  {
   "cell_type": "code",
   "execution_count": 4,
   "metadata": {},
   "outputs": [],
   "source": [
    "X_ = np.linspace(0, 5, 100)"
   ]
  },
  {
   "cell_type": "code",
   "execution_count": 5,
   "metadata": {},
   "outputs": [],
   "source": [
    "kernel1 = 1.0 * RBF(length_scale=100.0, length_scale_bounds=(1e-2, 1e3)) \\\n",
    "    + WhiteKernel(noise_level=1, noise_level_bounds=(1e-10, 1e+1))\n",
    "kernel2 = 1.0 * RBF(length_scale=1.0, length_scale_bounds=(1e-2, 1e3)) \\\n",
    "    + WhiteKernel(noise_level=1e-5, noise_level_bounds=(1e-10, 1e+1))"
   ]
  },
  {
   "cell_type": "markdown",
   "metadata": {},
   "source": [
    "## Some support functions"
   ]
  },
  {
   "cell_type": "code",
   "execution_count": 6,
   "metadata": {},
   "outputs": [],
   "source": [
    "def print_GPs(GPs, name):\n",
    "    plt.plot(X_, 0.5*np.sin(3*X_), label='ground truth')\n",
    "    for i, gp in enumerate(GPs):\n",
    "        print('gp - '+name+' (',i+1,'): ', gp, '\\nkernel:', gp.kernel_)\n",
    "        print('theta:', gp.kernel_.theta, np.exp(gp.kernel_.theta))\n",
    "        print('likelihood:', gp.log_marginal_likelihood_value_)\n",
    "\n",
    "\n",
    "    for i, gp in enumerate(GPs):\n",
    "        y_mean, y_cov = gp.predict(X_[:, np.newaxis], return_cov=True)\n",
    "        #plt.plot(X_, y_mean, 'k', lw=3, zorder=9, label='sklearn kernel: '+str(i+1))\n",
    "        plt.plot(X_, y_mean, label='sklearn kernel: '+str(i+1))\n",
    "\n",
    "    plt.legend()\n",
    "    plt.tight_layout()"
   ]
  },
  {
   "cell_type": "code",
   "execution_count": 7,
   "metadata": {},
   "outputs": [],
   "source": [
    "def make_plots(GPs):\n",
    "    fig, ax = plt.subplots(2,1, figsize=(12,10))\n",
    "    #plt.title('Log Marginal Likelihood Surfaces with Prediction')\n",
    "    for i, gp in enumerate(GPs):\n",
    "        ax = plt.subplot(2,1,i+1)\n",
    "        #ax = plt.subplot(1,1,1)\n",
    "\n",
    "        plt.scatter(np.exp(gp.kernel_.theta[1]), np.exp(gp.kernel_.theta[2]), c='red', marker='x')\n",
    "\n",
    "        a, b = gp.kernel_.bounds[1:]\n",
    "        theta0 = np.linspace(a[0], a[1], 49)\n",
    "        theta1 = np.linspace(b[0], b[1], 50)\n",
    "        Theta0, Theta1 = np.meshgrid(theta0, theta1)\n",
    "        LML = np.empty(Theta0.shape)\n",
    "        for i in range(Theta0.shape[0]):\n",
    "            for j in range(Theta0.shape[1]):\n",
    "                LML[i,j] = gp.log_marginal_likelihood(np.array([gp.kernel_.theta[0], Theta0[i, j], Theta1[i, j]]))\n",
    "\n",
    "        #LML = np.array(LML).T\n",
    "        vmin, vmax = (-LML).min(), (-LML).max()\n",
    "        level = np.around(np.logspace(np.log10(vmin), np.log10(vmax), 50), decimals=1)\n",
    "        plt.contour(np.exp(Theta0), np.exp(Theta1), -LML,\n",
    "                    levels=level, colors='black', linewidths=1., norm=LogNorm(vmin=vmin, vmax=vmax))\n",
    "        plt.yscale('log')\n",
    "        plt.xscale('log')\n",
    "        subAx = inset_axes(ax,\n",
    "                        width=\"70%\", # width = 30% of parent_bbox\n",
    "                        height=\"60%\", # height : 1 inch\n",
    "                        loc='lower right')\n",
    "        subAx.plot(X_, 0.5*np.sin(3*X_), color='black', label='ground truth')\n",
    "        y_mean, y_cov = gp.predict(X_[:, np.newaxis], return_cov=True)\n",
    "        subAx.plot(X_, y_mean, label='prediction')\n",
    "\n",
    "        subAx.scatter(X, y, color='black', marker='o')\n",
    "        subAx.fill_between(X_, y_mean - np.sqrt(np.diag(y_cov)),\n",
    "                     y_mean + np.sqrt(np.diag(y_cov)),\n",
    "                     alpha=0.5, color='grey')\n",
    "        subAx.set_xticks([])\n",
    "        subAx.set_xticks([], minor=True)\n",
    "        subAx.set_yticks([])\n",
    "        subAx.set_yticks([], minor=True)\n",
    "\n",
    "        subAx.legend()\n",
    "    #plt.show()\n",
    "    plt.savefig('scipy_plot')"
   ]
  },
  {
   "cell_type": "markdown",
   "metadata": {},
   "source": [
    "## Run sklearn example"
   ]
  },
  {
   "cell_type": "code",
   "execution_count": 8,
   "metadata": {},
   "outputs": [],
   "source": [
    "def sklearn_ex():\n",
    "\n",
    "    gp1 = GaussianProcessRegressor(kernel=kernel1,\n",
    "                                 alpha=0.0).fit(X, y)\n",
    "\n",
    "    gp2 = GaussianProcessRegressor(kernel=kernel2,\n",
    "                                  alpha=0.0).fit(X, y)\n",
    "    \n",
    "    kernels = [kernel1, kernel2]\n",
    "    GPs = [gp1, gp2]\n",
    "\n",
    "    print_GPs(GPs, 'sklearn')\n",
    "    return GPs"
   ]
  },
  {
   "cell_type": "code",
   "execution_count": 9,
   "metadata": {},
   "outputs": [
    {
     "name": "stdout",
     "output_type": "stream",
     "text": [
      "gp - sklearn ( 1 ):  GaussianProcessRegressor(alpha=0.0,\n",
      "                         kernel=1**2 * RBF(length_scale=100) + WhiteKernel(noise_level=1)) \n",
      "kernel: 0.00316**2 * RBF(length_scale=109) + WhiteKernel(noise_level=0.637)\n",
      "theta: [-11.51292546   4.69457218  -0.45065571] [1.00000000e-05 1.09352016e+02 6.37210191e-01]\n",
      "likelihood: -23.87233736198489\n",
      "gp - sklearn ( 2 ):  GaussianProcessRegressor(alpha=0.0,\n",
      "                         kernel=1**2 * RBF(length_scale=1) + WhiteKernel(noise_level=1e-05)) \n",
      "kernel: 0.64**2 * RBF(length_scale=0.365) + WhiteKernel(noise_level=0.294)\n",
      "theta: [-0.89336431 -1.00663819 -1.22409422] [0.4092765  0.36544547 0.2940239 ]\n",
      "likelihood: -21.80509089016203\n"
     ]
    },
    {
     "data": {
      "image/png": "[encoded data removed]",
      "text/plain": [
       "<Figure size 432x288 with 1 Axes>"
      ]
     },
     "metadata": {
      "needs_background": "light"
     },
     "output_type": "display_data"
    }
   ],
   "source": [
    "sklearn_gps = sklearn_ex()"
   ]
  },
  {
   "cell_type": "code",
   "execution_count": 1,
   "metadata": {},
   "outputs": [
    {
     "ename": "NameError",
     "evalue": "name 'make_plots' is not defined",
     "output_type": "error",
     "traceback": [
      "\u001b[0;31m---------------------------------------------------------------------------\u001b[0m",
      "\u001b[0;31mNameError\u001b[0m                                 Traceback (most recent call last)",
      "\u001b[0;32m<ipython-input-1-db475a665427>\u001b[0m in \u001b[0;36m<module>\u001b[0;34m\u001b[0m\n\u001b[0;32m----> 1\u001b[0;31m \u001b[0mmake_plots\u001b[0m\u001b[0;34m(\u001b[0m\u001b[0msklearn_gps\u001b[0m\u001b[0;34m)\u001b[0m\u001b[0;34m\u001b[0m\u001b[0;34m\u001b[0m\u001b[0m\n\u001b[0m",
      "\u001b[0;31mNameError\u001b[0m: name 'make_plots' is not defined"
     ]
    }
   ],
   "source": [
    "make_plots(sklearn_gps)"
   ]
  },
  {
   "cell_type": "code",
   "execution_count": null,
   "metadata": {},
   "outputs": [],
   "source": []
  }
 ],
 "metadata": {
  "kernelspec": {
   "display_name": "Python 3",
   "language": "python",
   "name": "python3"
  },
  "language_info": {
   "codemirror_mode": {
    "name": "ipython",
    "version": 3
   },
   "file_extension": ".py",
   "mimetype": "text/x-python",
   "name": "python",
   "nbconvert_exporter": "python",
   "pygments_lexer": "ipython3",
   "version": "3.7.7"
  }
 },
 "nbformat": 4,
 "nbformat_minor": 4
}
