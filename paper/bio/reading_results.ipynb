{
 "cells": [
  {
   "cell_type": "code",
   "execution_count": 1,
   "metadata": {},
   "outputs": [],
   "source": [
    "import numpy as np\n",
    "import matplotlib.pyplot as plt"
   ]
  },
  {
   "cell_type": "code",
   "execution_count": 2,
   "metadata": {},
   "outputs": [],
   "source": [
    "data = np.loadtxt('data/qsar_aquatic_toxicity.csv', delimiter=';')\n",
    "X, y = data[:,:-1], data[:,-1]"
   ]
  },
  {
   "cell_type": "markdown",
   "metadata": {},
   "source": [
    "Cassotti got to cut outliers so i do too"
   ]
  },
  {
   "cell_type": "code",
   "execution_count": 3,
   "metadata": {},
   "outputs": [],
   "source": [
    "from sklearn.neighbors import KDTree"
   ]
  },
  {
   "cell_type": "code",
   "execution_count": 4,
   "metadata": {},
   "outputs": [],
   "source": [
    "from sklearn.neighbors import DistanceMetric"
   ]
  },
  {
   "cell_type": "code",
   "execution_count": 5,
   "metadata": {},
   "outputs": [],
   "source": [
    "kd = KDTree(X)"
   ]
  },
  {
   "cell_type": "code",
   "execution_count": 6,
   "metadata": {},
   "outputs": [
    {
     "data": {
      "image/png": "[encoded data removed]",
      "text/plain": [
       "<Figure size 432x288 with 1 Axes>"
      ]
     },
     "metadata": {
      "needs_background": "light"
     },
     "output_type": "display_data"
    }
   ],
   "source": [
    "plt.hist([kd.query(X[i:i+1],k=2)[0][0,1] for i in range(len(X))], bins=100, histtype='step');\n",
    "plt.yscale('log')\n",
    "plt.xscale('log')"
   ]
  },
  {
   "cell_type": "code",
   "execution_count": 7,
   "metadata": {},
   "outputs": [
    {
     "data": {
      "text/plain": [
       "(546, 8)"
      ]
     },
     "execution_count": 7,
     "metadata": {},
     "output_type": "execute_result"
    }
   ],
   "source": [
    "X.shape"
   ]
  },
  {
   "cell_type": "code",
   "execution_count": 8,
   "metadata": {},
   "outputs": [
    {
     "data": {
      "text/plain": [
       "(546, 8)"
      ]
     },
     "execution_count": 8,
     "metadata": {},
     "output_type": "execute_result"
    }
   ],
   "source": [
    "X.shape"
   ]
  },
  {
   "cell_type": "code",
   "execution_count": 9,
   "metadata": {},
   "outputs": [],
   "source": [
    "not_too_far = np.array([True if not x[0][0,1]>10 else False for x in [kd.query(X[i:i+1],2) for i in range(len(X))]])"
   ]
  },
  {
   "cell_type": "code",
   "execution_count": 10,
   "metadata": {},
   "outputs": [
    {
     "data": {
      "text/plain": [
       "0.94"
      ]
     },
     "execution_count": 10,
     "metadata": {},
     "output_type": "execute_result"
    }
   ],
   "source": [
    "np.array(sum(not_too_far) / X.shape[0]).round(3)"
   ]
  },
  {
   "cell_type": "code",
   "execution_count": 11,
   "metadata": {},
   "outputs": [],
   "source": [
    "X, y = X[not_too_far], y[not_too_far]"
   ]
  },
  {
   "cell_type": "code",
   "execution_count": 12,
   "metadata": {},
   "outputs": [
    {
     "name": "stderr",
     "output_type": "stream",
     "text": [
      "/home/elliott/anaconda3/lib/python3.7/site-packages/sklearn/base.py:334: UserWarning: Trying to unpickle estimator GaussianProcessRegressor from version 0.23.2 when using version 0.23.1. This might lead to breaking code or invalid results. Use at your own risk.\n",
      "  UserWarning)\n"
     ]
    }
   ],
   "source": [
    "with open('GPs.pkl', 'rb') as file:\n",
    "    from pickle import load\n",
    "    GPs = load(file)"
   ]
  },
  {
   "cell_type": "code",
   "execution_count": 13,
   "metadata": {},
   "outputs": [
    {
     "data": {
      "text/plain": [
       "([GaussianProcessRegressor(alpha=1e-05,\n",
       "                           kernel=3.16**2 * Matern(length_scale=[66.4, 202, 3.56, 13.2, 4.95, 2.21, 4.47, 3.81], nu=1.5) + 5.73**2 * WhiteKernel(noise_level=0.0181),\n",
       "                           random_state=42),\n",
       "  GaussianProcessRegressor(alpha=1e-05,\n",
       "                           kernel=3.16**2 * Matern(length_scale=[66.4, 202, 3.56, 13.2, 4.95, 2.21, 4.47, 3.81], nu=1.5) + 4.47**2 * WhiteKernel(noise_level=0.0297),\n",
       "                           random_state=42),\n",
       "  GaussianProcessRegressor(alpha=1e-05,\n",
       "                           kernel=3.42**2 * Matern(length_scale=[68.8, 171, 8.83, 11.5, 3.45, 2.59, 5.5, 9.97e+04], nu=1.5) + 0.253**2 * WhiteKernel(noise_level=10.6),\n",
       "                           random_state=42),\n",
       "  GaussianProcessRegressor(alpha=1e-05,\n",
       "                           kernel=3.48**2 * Matern(length_scale=[73.4, 228, 4.53, 14.2, 6.49, 2.87, 4.84, 6.32e-05], nu=1.5) + 5.48**2 * WhiteKernel(noise_level=0.0205),\n",
       "                           random_state=42),\n",
       "  GaussianProcessRegressor(alpha=1e-05,\n",
       "                           kernel=3.48**2 * Matern(length_scale=[73.4, 228, 4.53, 14.2, 6.49, 2.87, 4.84, 0.00507], nu=1.5) + 1.09**2 * WhiteKernel(noise_level=0.517),\n",
       "                           random_state=42)],\n",
       " '',\n",
       " [GaussianProcessRegressor(alpha=1e-05,\n",
       "                           kernel=4.92**2 * Matern(length_scale=[0.0127, 594, 5.23e+04, 1.02, 0.000275, 1.38e-05, 0.00198, 0.000208], nu=1.5) + 5.71**2 * WhiteKernel(noise_level=0.00496),\n",
       "                           random_state=42),\n",
       "  GaussianProcessRegressor(alpha=1e-05,\n",
       "                           kernel=4.92**2 * Matern(length_scale=[1.12e+03, 0.075, 0.00764, 66.8, 0.00025, 0.000998, 1.18e-05, 740], nu=1.5) + 0.538**2 * WhiteKernel(noise_level=0.56),\n",
       "                           random_state=42),\n",
       "  GaussianProcessRegressor(alpha=1e-05,\n",
       "                           kernel=4.92**2 * Matern(length_scale=[0.0151, 1.11, 5.62e+03, 3.25e+03, 2.72e-05, 0.000653, 0.00233, 0.00312], nu=1.5) + 0.992**2 * WhiteKernel(noise_level=0.164),\n",
       "                           random_state=42),\n",
       "  GaussianProcessRegressor(alpha=1e-05,\n",
       "                           kernel=4.92**2 * Matern(length_scale=[8.54e+03, 608, 0.000884, 0.465, 2.74e-05, 0.000349, 67.7, 280], nu=1.5) + 22.2**2 * WhiteKernel(noise_level=0.000327),\n",
       "                           random_state=42),\n",
       "  GaussianProcessRegressor(alpha=1e-05,\n",
       "                           kernel=4.92**2 * Matern(length_scale=[0.0129, 75.3, 113, 0.0757, 8.45e-05, 1.28e-05, 0.00123, 1.78], nu=1.5) + 0.63**2 * WhiteKernel(noise_level=0.408),\n",
       "                           random_state=42)])"
      ]
     },
     "execution_count": 13,
     "metadata": {},
     "output_type": "execute_result"
    }
   ],
   "source": [
    "GPs[:5],'', GPs[-5:]"
   ]
  },
  {
   "cell_type": "code",
   "execution_count": 14,
   "metadata": {},
   "outputs": [
    {
     "data": {
      "text/plain": [
       "<matplotlib.collections.PathCollection at 0x7fe264b3c1d0>"
      ]
     },
     "execution_count": 14,
     "metadata": {},
     "output_type": "execute_result"
    },
    {
     "data": {
      "image/png": "[encoded data removed]",
      "text/plain": [
       "<Figure size 432x288 with 1 Axes>"
      ]
     },
     "metadata": {
      "needs_background": "light"
     },
     "output_type": "display_data"
    }
   ],
   "source": [
    "plt.scatter(np.array([x.log_marginal_likelihood_value_ for x in GPs]), np.array([z.score(X,y) for z in GPs]))"
   ]
  },
  {
   "cell_type": "code",
   "execution_count": 15,
   "metadata": {},
   "outputs": [
    {
     "data": {
      "image/png": "[encoded data removed]",
      "text/plain": [
       "<Figure size 432x288 with 1 Axes>"
      ]
     },
     "metadata": {
      "needs_background": "light"
     },
     "output_type": "display_data"
    },
    {
     "data": {
      "text/plain": [
       "Text(0.5, 1.0, 'real errors / std')"
      ]
     },
     "execution_count": 15,
     "metadata": {},
     "output_type": "execute_result"
    },
    {
     "data": {
      "image/png": "[encoded data removed]",
      "text/plain": [
       "<Figure size 432x288 with 1 Axes>"
      ]
     },
     "metadata": {
      "needs_background": "light"
     },
     "output_type": "display_data"
    }
   ],
   "source": [
    "tmp = GPs[0]\n",
    "y_pred, std_pred = tmp.predict(X, return_std=True)\n",
    "plt.scatter(np.arange(len(y)), y-y_pred)\n",
    "plt.title('real errors')\n",
    "plt.show()\n",
    "plt.scatter(np.arange(len(y)), (y-y_pred)/std_pred)\n",
    "plt.title('real errors / std')\n"
   ]
  },
  {
   "cell_type": "code",
   "execution_count": 16,
   "metadata": {},
   "outputs": [
    {
     "data": {
      "image/png": "[encoded data removed]",
      "text/plain": [
       "<Figure size 432x288 with 1 Axes>"
      ]
     },
     "metadata": {
      "needs_background": "light"
     },
     "output_type": "display_data"
    },
    {
     "data": {
      "text/plain": [
       "Text(0.5, 1.0, 'real errors / std')"
      ]
     },
     "execution_count": 16,
     "metadata": {},
     "output_type": "execute_result"
    },
    {
     "data": {
      "image/png": "[encoded data removed]",
      "text/plain": [
       "<Figure size 432x288 with 1 Axes>"
      ]
     },
     "metadata": {
      "needs_background": "light"
     },
     "output_type": "display_data"
    }
   ],
   "source": [
    "tmp = GPs[-1]\n",
    "y_pred, std_pred = tmp.predict(X, return_std=True)\n",
    "plt.scatter(np.arange(len(y)), y-y_pred)\n",
    "plt.title('real errors')\n",
    "plt.show()\n",
    "plt.scatter(np.arange(len(y)), (y-y_pred)/std_pred)\n",
    "plt.title('real errors / std')\n"
   ]
  },
  {
   "cell_type": "code",
   "execution_count": 17,
   "metadata": {},
   "outputs": [
    {
     "data": {
      "text/plain": [
       "<matplotlib.collections.PathCollection at 0x7fe2649d97d0>"
      ]
     },
     "execution_count": 17,
     "metadata": {},
     "output_type": "execute_result"
    },
    {
     "data": {
      "image/png": "[encoded data removed]",
      "text/plain": [
       "<Figure size 432x288 with 1 Axes>"
      ]
     },
     "metadata": {
      "needs_background": "light"
     },
     "output_type": "display_data"
    }
   ],
   "source": [
    "plt.scatter(np.array([x.log_marginal_likelihood_value_ for x in GPs]), np.array([np.abs(x.kernel.theta[-1]) for x in GPs]))"
   ]
  },
  {
   "cell_type": "code",
   "execution_count": 18,
   "metadata": {},
   "outputs": [
    {
     "data": {
      "text/plain": [
       "<matplotlib.collections.PathCollection at 0x7fe2601d7fd0>"
      ]
     },
     "execution_count": 18,
     "metadata": {},
     "output_type": "execute_result"
    },
    {
     "data": {
      "image/png": "[encoded data removed]",
      "text/plain": [
       "<Figure size 432x288 with 1 Axes>"
      ]
     },
     "metadata": {
      "needs_background": "light"
     },
     "output_type": "display_data"
    }
   ],
   "source": [
    "plt.scatter(np.array([x.log_marginal_likelihood_value_ for x in GPs]), np.array([np.abs(x.kernel.theta[-2]) for x in GPs]))"
   ]
  },
  {
   "cell_type": "code",
   "execution_count": 19,
   "metadata": {},
   "outputs": [
    {
     "data": {
      "text/plain": [
       "<matplotlib.collections.PathCollection at 0x7fe26014bcd0>"
      ]
     },
     "execution_count": 19,
     "metadata": {},
     "output_type": "execute_result"
    },
    {
     "data": {
      "image/png": "[encoded data removed]",
      "text/plain": [
       "<Figure size 432x288 with 1 Axes>"
      ]
     },
     "metadata": {
      "needs_background": "light"
     },
     "output_type": "display_data"
    }
   ],
   "source": [
    "plt.scatter(np.array([x.log_marginal_likelihood_value_ for x in GPs]), np.array([np.abs(x.kernel.theta[-1]) + np.abs(x.kernel.theta[-2]) for x in GPs]))"
   ]
  },
  {
   "cell_type": "code",
   "execution_count": 20,
   "metadata": {},
   "outputs": [
    {
     "data": {
      "text/plain": [
       "[(12,\n",
       "  GaussianProcessRegressor(alpha=1e-05,\n",
       "                           kernel=3.85**2 * Matern(length_scale=[87.2, 220, 5.51, 12.2, 3.21, 4.13, 0.000128, 3e+04], nu=1.5) + 9.72**2 * WhiteKernel(noise_level=0.00654),\n",
       "                           random_state=42)),\n",
       " (13,\n",
       "  GaussianProcessRegressor(alpha=1e-05,\n",
       "                           kernel=3.55**2 * Matern(length_scale=[53.3, 101, 9.97e+04, 6.28, 2.5e+04, 1e+05, 3.65, 0.000191], nu=1.5) + 254**2 * WhiteKernel(noise_level=1e-05),\n",
       "                           random_state=42)),\n",
       " (20,\n",
       "  GaussianProcessRegressor(alpha=1e-05,\n",
       "                           kernel=4.97**2 * Matern(length_scale=[217, 0.000334, 7.67e+04, 10.4, 3.52e+04, 6.42e+04, 7.34, 0.0809], nu=1.5) + 24.6**2 * WhiteKernel(noise_level=0.000866),\n",
       "                           random_state=42)),\n",
       " (25,\n",
       "  GaussianProcessRegressor(alpha=1e-05,\n",
       "                           kernel=4.93**2 * Matern(length_scale=[0.00106, 88.7, 4.05e+03, 0.000209, 0.685, 8.93e-05, 181, 7e-05], nu=1.5) + 33.7**2 * WhiteKernel(noise_level=0.000142),\n",
       "                           random_state=42)),\n",
       " (28,\n",
       "  GaussianProcessRegressor(alpha=1e-05,\n",
       "                           kernel=4.92**2 * Matern(length_scale=[0.0127, 594, 5.23e+04, 1.02, 0.000275, 1.38e-05, 0.00198, 0.000208], nu=1.5) + 5.71**2 * WhiteKernel(noise_level=0.00496),\n",
       "                           random_state=42)),\n",
       " (31,\n",
       "  GaussianProcessRegressor(alpha=1e-05,\n",
       "                           kernel=4.92**2 * Matern(length_scale=[8.54e+03, 608, 0.000884, 0.465, 2.74e-05, 0.000349, 67.7, 280], nu=1.5) + 22.2**2 * WhiteKernel(noise_level=0.000327),\n",
       "                           random_state=42))]"
      ]
     },
     "execution_count": 20,
     "metadata": {},
     "output_type": "execute_result"
    }
   ],
   "source": [
    "[(i,GPs[i]) for i in np.where(np.array([x.kernel.theta[-1] for x in GPs])< -5)[0]]"
   ]
  },
  {
   "cell_type": "code",
   "execution_count": 21,
   "metadata": {},
   "outputs": [
    {
     "data": {
      "text/plain": [
       "[0.8462009096498251,\n",
       " 0.8362273313859274,\n",
       " 0.9005408588362521,\n",
       " 0.9936088631443768,\n",
       " 0.9985878678975157,\n",
       " 0.998587867925558]"
      ]
     },
     "execution_count": 21,
     "metadata": {},
     "output_type": "execute_result"
    }
   ],
   "source": [
    "[GPs[i].score(X,y) for i in np.where(np.array([x.kernel.theta[-1] for x in GPs])< -5)[0]]"
   ]
  },
  {
   "cell_type": "code",
   "execution_count": 22,
   "metadata": {},
   "outputs": [
    {
     "data": {
      "text/plain": [
       "<matplotlib.collections.PathCollection at 0x7fe260206190>"
      ]
     },
     "execution_count": 22,
     "metadata": {},
     "output_type": "execute_result"
    },
    {
     "data": {
      "image/png": "[encoded data removed]",
      "text/plain": [
       "<Figure size 432x288 with 1 Axes>"
      ]
     },
     "metadata": {
      "needs_background": "light"
     },
     "output_type": "display_data"
    }
   ],
   "source": [
    "def get_sum(tmp):\n",
    "    pred, std = tmp.predict(X,return_std=True)\n",
    "    return np.sum(np.abs((y-pred)/std)<1)\n",
    "plt.scatter(np.array([x.log_marginal_likelihood_value_ for x in GPs]), [get_sum(x) for x in GPs])"
   ]
  },
  {
   "cell_type": "code",
   "execution_count": 23,
   "metadata": {},
   "outputs": [
    {
     "data": {
      "image/png": "[encoded data removed]",
      "text/plain": [
       "<Figure size 432x288 with 1 Axes>"
      ]
     },
     "metadata": {
      "needs_background": "light"
     },
     "output_type": "display_data"
    }
   ],
   "source": [
    "for i in range(len(GPs)):\n",
    "    tmp = GPs[i]\n",
    "    y_pred, std_pred = tmp.predict(X, return_std=True)\n",
    "    plt.hist((y-y_pred)/std_pred, bins=50, histtype='step')\n",
    "plt.yscale('log')"
   ]
  },
  {
   "cell_type": "code",
   "execution_count": 24,
   "metadata": {},
   "outputs": [],
   "source": [
    "pred, std = GPs[0].predict(X, return_std=True)"
   ]
  },
  {
   "cell_type": "code",
   "execution_count": 25,
   "metadata": {},
   "outputs": [],
   "source": [
    "std = std * (std_pred / std)"
   ]
  },
  {
   "cell_type": "code",
   "execution_count": 26,
   "metadata": {},
   "outputs": [
    {
     "data": {
      "text/plain": [
       "(array([  6.,   0.,  10.,   0.,   0.,   0.,   0.,   0.,   0., 497.]),\n",
       " array([0.4643077 , 0.47466446, 0.48502122, 0.49537798, 0.50573475,\n",
       "        0.51609151, 0.52644827, 0.53680503, 0.5471618 , 0.55751856,\n",
       "        0.56787532]),\n",
       " <a list of 10 Patch objects>)"
      ]
     },
     "execution_count": 26,
     "metadata": {},
     "output_type": "execute_result"
    },
    {
     "data": {
      "image/png": "[encoded data removed]",
      "text/plain": [
       "<Figure size 432x288 with 1 Axes>"
      ]
     },
     "metadata": {
      "needs_background": "light"
     },
     "output_type": "display_data"
    }
   ],
   "source": [
    "plt.hist(std)"
   ]
  },
  {
   "cell_type": "code",
   "execution_count": 27,
   "metadata": {},
   "outputs": [
    {
     "data": {
      "image/png": "[encoded data removed]",
      "text/plain": [
       "<Figure size 432x288 with 1 Axes>"
      ]
     },
     "metadata": {
      "needs_background": "light"
     },
     "output_type": "display_data"
    }
   ],
   "source": [
    "plt.hist(std_pred);"
   ]
  },
  {
   "cell_type": "code",
   "execution_count": 28,
   "metadata": {},
   "outputs": [
    {
     "data": {
      "image/png": "[encoded data removed]",
      "text/plain": [
       "<Figure size 432x288 with 1 Axes>"
      ]
     },
     "metadata": {
      "needs_background": "light"
     },
     "output_type": "display_data"
    },
    {
     "data": {
      "text/plain": [
       "Text(0.5, 1.0, 'real errors / std')"
      ]
     },
     "execution_count": 28,
     "metadata": {},
     "output_type": "execute_result"
    },
    {
     "data": {
      "image/png": "[encoded data removed]",
      "text/plain": [
       "<Figure size 432x288 with 1 Axes>"
      ]
     },
     "metadata": {
      "needs_background": "light"
     },
     "output_type": "display_data"
    }
   ],
   "source": [
    "tmp = GPs[-1]\n",
    "y_pred, std_pred = tmp.predict(X, return_std=True)\n",
    "tmpy, tmpX = y[std_pred>.54], X[std_pred>.54]\n",
    "y_pred, std_pred = tmp.predict(tmpX, return_std=True)\n",
    "\n",
    "plt.scatter(np.arange(len(tmpy)), tmpy-y_pred)\n",
    "plt.title('real errors')\n",
    "plt.show()\n",
    "plt.scatter(np.arange(len(tmpy)), (tmpy-y_pred)/std_pred)\n",
    "plt.title('real errors / std')\n"
   ]
  },
  {
   "cell_type": "code",
   "execution_count": 29,
   "metadata": {},
   "outputs": [],
   "source": [
    "kdTree = KDTree(X)"
   ]
  },
  {
   "cell_type": "code",
   "execution_count": 40,
   "metadata": {},
   "outputs": [
    {
     "data": {
      "image/png": "[encoded data removed]",
      "text/plain": [
       "<Figure size 432x288 with 1 Axes>"
      ]
     },
     "metadata": {
      "needs_background": "light"
     },
     "output_type": "display_data"
    }
   ],
   "source": [
    "plt.hist([kd.query(X[i:i+1],k=2)[0][0,1] for i in range(len(X))], bins=100, histtype='step');\n",
    "plt.xscale('log')"
   ]
  },
  {
   "cell_type": "code",
   "execution_count": 41,
   "metadata": {},
   "outputs": [],
   "source": [
    "arr = np.array([kd.query(X[i:i+1],k=2)[0][0,1] for i in range(len(X))])"
   ]
  },
  {
   "cell_type": "code",
   "execution_count": 46,
   "metadata": {},
   "outputs": [
    {
     "data": {
      "text/plain": [
       "array([0., 0., 0., 0., 0., 0., 0., 0., 0., 0., 0., 0., 0., 0., 0., 0.])"
      ]
     },
     "execution_count": 46,
     "metadata": {},
     "output_type": "execute_result"
    }
   ],
   "source": [
    "arr[np.where(arr<1e-5)[0]]"
   ]
  },
  {
   "cell_type": "code",
   "execution_count": 47,
   "metadata": {},
   "outputs": [
    {
     "data": {
      "text/plain": [
       "array([ 40,  41,  47, 216, 229, 238, 241, 245, 351, 398, 400, 473, 474,\n",
       "       484, 502, 503])"
      ]
     },
     "execution_count": 47,
     "metadata": {},
     "output_type": "execute_result"
    }
   ],
   "source": [
    "np.where(arr<1e-5)[0]"
   ]
  },
  {
   "cell_type": "code",
   "execution_count": 50,
   "metadata": {},
   "outputs": [
    {
     "data": {
      "text/plain": [
       "array([[17.07 , 25.145,  0.   ,  1.947,  2.005,  1.276,  0.   ,  0.   ],\n",
       "       [ 0.   ,  0.   ,  0.   ,  3.267,  2.119,  1.25 ,  0.   ,  0.   ],\n",
       "       [ 0.   ,  0.   ,  0.   ,  3.267,  2.119,  1.25 ,  0.   ,  0.   ],\n",
       "       [ 0.   ,  0.   ,  0.   ,  3.374,  2.118,  1.204,  0.   ,  0.   ],\n",
       "       [17.07 , 25.145,  0.   , -0.317,  1.155,  1.74 ,  0.   ,  0.   ]])"
      ]
     },
     "execution_count": 50,
     "metadata": {},
     "output_type": "execute_result"
    }
   ],
   "source": [
    "X[39:44]"
   ]
  },
  {
   "cell_type": "code",
   "execution_count": 49,
   "metadata": {},
   "outputs": [
    {
     "data": {
      "text/plain": [
       "array([[17.07 , 25.145,  0.   ,  1.947,  2.005,  1.276,  0.   ,  0.   ],\n",
       "       [ 0.   ,  0.   ,  0.   ,  3.267,  2.119,  1.25 ,  0.   ,  0.   ],\n",
       "       [ 0.   ,  0.   ,  0.   ,  3.267,  2.119,  1.25 ,  0.   ,  0.   ],\n",
       "       [ 0.   ,  0.   ,  0.   ,  3.374,  2.118,  1.204,  0.   ,  0.   ]])"
      ]
     },
     "execution_count": 49,
     "metadata": {},
     "output_type": "execute_result"
    }
   ],
   "source": [
    "X[]"
   ]
  },
  {
   "cell_type": "code",
   "execution_count": 51,
   "metadata": {},
   "outputs": [],
   "source": [
    "import pandas as pd"
   ]
  },
  {
   "cell_type": "code",
   "execution_count": 52,
   "metadata": {},
   "outputs": [
    {
     "name": "stdout",
     "output_type": "stream",
     "text": [
      "dask_mpi.ipynb  data_reader.py  myGPR.py\n",
      "dask_mpi.py     \u001b[0m\u001b[01;36mfit.py\u001b[0m@         reading_results.ipynb\n",
      "\u001b[01;34mdata\u001b[0m/           GPs.pkl         sklearn_with_hgdl.py\n"
     ]
    }
   ],
   "source": [
    "ls"
   ]
  },
  {
   "cell_type": "code",
   "execution_count": 70,
   "metadata": {},
   "outputs": [],
   "source": [
    "data = pd.read_csv('data/qsar_aquatic_toxicity.csv', delimiter=';', header=None)"
   ]
  },
  {
   "cell_type": "code",
   "execution_count": 71,
   "metadata": {},
   "outputs": [
    {
     "data": {
      "text/html": [
       "<div>\n",
       "<style scoped>\n",
       "    .dataframe tbody tr th:only-of-type {\n",
       "        vertical-align: middle;\n",
       "    }\n",
       "\n",
       "    .dataframe tbody tr th {\n",
       "        vertical-align: top;\n",
       "    }\n",
       "\n",
       "    .dataframe thead th {\n",
       "        text-align: right;\n",
       "    }\n",
       "</style>\n",
       "<table border=\"1\" class=\"dataframe\">\n",
       "  <thead>\n",
       "    <tr style=\"text-align: right;\">\n",
       "      <th></th>\n",
       "      <th>0</th>\n",
       "      <th>1</th>\n",
       "      <th>2</th>\n",
       "      <th>3</th>\n",
       "      <th>4</th>\n",
       "      <th>5</th>\n",
       "      <th>6</th>\n",
       "      <th>7</th>\n",
       "      <th>8</th>\n",
       "    </tr>\n",
       "  </thead>\n",
       "  <tbody>\n",
       "    <tr>\n",
       "      <th>0</th>\n",
       "      <td>0.00</td>\n",
       "      <td>0.0</td>\n",
       "      <td>0</td>\n",
       "      <td>2.419</td>\n",
       "      <td>1.225</td>\n",
       "      <td>0.667</td>\n",
       "      <td>0</td>\n",
       "      <td>0</td>\n",
       "      <td>3.740</td>\n",
       "    </tr>\n",
       "    <tr>\n",
       "      <th>1</th>\n",
       "      <td>0.00</td>\n",
       "      <td>0.0</td>\n",
       "      <td>0</td>\n",
       "      <td>2.638</td>\n",
       "      <td>1.401</td>\n",
       "      <td>0.632</td>\n",
       "      <td>0</td>\n",
       "      <td>0</td>\n",
       "      <td>4.330</td>\n",
       "    </tr>\n",
       "    <tr>\n",
       "      <th>2</th>\n",
       "      <td>9.23</td>\n",
       "      <td>11.0</td>\n",
       "      <td>0</td>\n",
       "      <td>5.799</td>\n",
       "      <td>2.930</td>\n",
       "      <td>0.486</td>\n",
       "      <td>0</td>\n",
       "      <td>0</td>\n",
       "      <td>7.019</td>\n",
       "    </tr>\n",
       "    <tr>\n",
       "      <th>3</th>\n",
       "      <td>9.23</td>\n",
       "      <td>11.0</td>\n",
       "      <td>0</td>\n",
       "      <td>5.453</td>\n",
       "      <td>2.887</td>\n",
       "      <td>0.495</td>\n",
       "      <td>0</td>\n",
       "      <td>0</td>\n",
       "      <td>6.723</td>\n",
       "    </tr>\n",
       "    <tr>\n",
       "      <th>4</th>\n",
       "      <td>9.23</td>\n",
       "      <td>11.0</td>\n",
       "      <td>0</td>\n",
       "      <td>4.068</td>\n",
       "      <td>2.758</td>\n",
       "      <td>0.695</td>\n",
       "      <td>0</td>\n",
       "      <td>0</td>\n",
       "      <td>5.979</td>\n",
       "    </tr>\n",
       "  </tbody>\n",
       "</table>\n",
       "</div>"
      ],
      "text/plain": [
       "      0     1  2      3      4      5  6  7      8\n",
       "0  0.00   0.0  0  2.419  1.225  0.667  0  0  3.740\n",
       "1  0.00   0.0  0  2.638  1.401  0.632  0  0  4.330\n",
       "2  9.23  11.0  0  5.799  2.930  0.486  0  0  7.019\n",
       "3  9.23  11.0  0  5.453  2.887  0.495  0  0  6.723\n",
       "4  9.23  11.0  0  4.068  2.758  0.695  0  0  5.979"
      ]
     },
     "execution_count": 71,
     "metadata": {},
     "output_type": "execute_result"
    }
   ],
   "source": [
    "data.head()"
   ]
  },
  {
   "cell_type": "code",
   "execution_count": 68,
   "metadata": {},
   "outputs": [
    {
     "data": {
      "text/plain": [
       "\u001b[0;31mSignature:\u001b[0m\n",
       "\u001b[0mdata\u001b[0m\u001b[0;34m.\u001b[0m\u001b[0mduplicated\u001b[0m\u001b[0;34m(\u001b[0m\u001b[0;34m\u001b[0m\n",
       "\u001b[0;34m\u001b[0m    \u001b[0msubset\u001b[0m\u001b[0;34m:\u001b[0m \u001b[0mUnion\u001b[0m\u001b[0;34m[\u001b[0m\u001b[0mHashable\u001b[0m\u001b[0;34m,\u001b[0m \u001b[0mSequence\u001b[0m\u001b[0;34m[\u001b[0m\u001b[0mHashable\u001b[0m\u001b[0;34m]\u001b[0m\u001b[0;34m,\u001b[0m \u001b[0mNoneType\u001b[0m\u001b[0;34m]\u001b[0m \u001b[0;34m=\u001b[0m \u001b[0;32mNone\u001b[0m\u001b[0;34m,\u001b[0m\u001b[0;34m\u001b[0m\n",
       "\u001b[0;34m\u001b[0m    \u001b[0mkeep\u001b[0m\u001b[0;34m:\u001b[0m \u001b[0mUnion\u001b[0m\u001b[0;34m[\u001b[0m\u001b[0mstr\u001b[0m\u001b[0;34m,\u001b[0m \u001b[0mbool\u001b[0m\u001b[0;34m]\u001b[0m \u001b[0;34m=\u001b[0m \u001b[0;34m'first'\u001b[0m\u001b[0;34m,\u001b[0m\u001b[0;34m\u001b[0m\n",
       "\u001b[0;34m\u001b[0m\u001b[0;34m)\u001b[0m \u001b[0;34m->\u001b[0m \u001b[0;34m'Series'\u001b[0m\u001b[0;34m\u001b[0m\u001b[0;34m\u001b[0m\u001b[0m\n",
       "\u001b[0;31mDocstring:\u001b[0m\n",
       "Return boolean Series denoting duplicate rows.\n",
       "\n",
       "Considering certain columns is optional.\n",
       "\n",
       "Parameters\n",
       "----------\n",
       "subset : column label or sequence of labels, optional\n",
       "    Only consider certain columns for identifying duplicates, by\n",
       "    default use all of the columns.\n",
       "keep : {'first', 'last', False}, default 'first'\n",
       "    Determines which duplicates (if any) to mark.\n",
       "\n",
       "    - ``first`` : Mark duplicates as ``True`` except for the first occurrence.\n",
       "    - ``last`` : Mark duplicates as ``True`` except for the last occurrence.\n",
       "    - False : Mark all duplicates as ``True``.\n",
       "\n",
       "Returns\n",
       "-------\n",
       "Series\n",
       "\u001b[0;31mFile:\u001b[0m      ~/anaconda3/lib/python3.7/site-packages/pandas/core/frame.py\n",
       "\u001b[0;31mType:\u001b[0m      method\n"
      ]
     },
     "metadata": {},
     "output_type": "display_data"
    }
   ],
   "source": [
    "data.duplicated?"
   ]
  },
  {
   "cell_type": "code",
   "execution_count": 81,
   "metadata": {},
   "outputs": [
    {
     "data": {
      "text/plain": [
       "0       0.00\n",
       "1       0.00\n",
       "2       9.23\n",
       "3       9.23\n",
       "4       9.23\n",
       "       ...  \n",
       "541    24.06\n",
       "542     9.23\n",
       "543     0.00\n",
       "544    13.14\n",
       "545     0.00\n",
       "Name: 0, Length: 546, dtype: float64"
      ]
     },
     "execution_count": 81,
     "metadata": {},
     "output_type": "execute_result"
    }
   ],
   "source": [
    "data[0]"
   ]
  },
  {
   "cell_type": "code",
   "execution_count": null,
   "metadata": {},
   "outputs": [],
   "source": []
  },
  {
   "cell_type": "code",
   "execution_count": 96,
   "metadata": {},
   "outputs": [
    {
     "data": {
      "text/plain": [
       "array([ 41, 216, 245, 351, 400, 474, 484, 502, 503])"
      ]
     },
     "execution_count": 96,
     "metadata": {},
     "output_type": "execute_result"
    }
   ],
   "source": [
    "np.where(data.duplicated(subset=np.arange(8)).values[not_too_far])[0]"
   ]
  },
  {
   "cell_type": "code",
   "execution_count": 47,
   "metadata": {},
   "outputs": [
    {
     "data": {
      "text/plain": [
       "array([ 40,  41,  47, 216, 229, 238, 241, 245, 351, 398, 400, 473, 474,\n",
       "       484, 502, 503])"
      ]
     },
     "execution_count": 47,
     "metadata": {},
     "output_type": "execute_result"
    }
   ],
   "source": [
    "np.where(arr<1e-5)[0]"
   ]
  },
  {
   "cell_type": "code",
   "execution_count": 87,
   "metadata": {},
   "outputs": [],
   "source": [
    "arr = np.where(data.duplicated(subset=np.arange(8)).values)[0]"
   ]
  },
  {
   "cell_type": "code",
   "execution_count": 94,
   "metadata": {},
   "outputs": [
    {
     "name": "stdout",
     "output_type": "stream",
     "text": [
      "      0    1  2      3      4      5  6  7      8\n",
      "44  0.0  0.0  0  3.267  2.119  1.250  0  0  4.867\n",
      "45  0.0  0.0  0  3.267  2.119  1.250  0  0  5.373\n",
      "46  0.0  0.0  0  3.374  2.118  1.204  0  0  3.522\n",
      "\n",
      "         0     1  2      3      4      5  6  7      8\n",
      "230   0.00   0.0  0  2.604  1.430  0.505  0  0  3.842\n",
      "231   0.00   0.0  0  2.226  1.401  0.826  0  0  3.339\n",
      "232  12.53  11.0  0  0.408  1.689  1.038  0  0  3.587\n",
      "\n",
      "         0       1  2      3      4      5  6  7      8\n",
      "260   0.00   0.000  0  5.989  2.733  0.529  0  0  6.989\n",
      "261  26.02  32.897  2  2.729  1.975  0.462  1  0  4.742\n",
      "262  29.46  53.683  1  3.842  2.887  0.614  0  0  6.109\n",
      "\n",
      "          0        1  2      3      4      5  6  7      8\n",
      "374  138.45  281.245  6  1.442  3.878  1.205  0  0  5.291\n",
      "375   20.23   42.683  1  2.461  1.975  0.737  0  0  4.852\n",
      "376   20.23   42.683  1  2.296  1.924  0.521  0  0  4.464\n",
      "\n",
      "          0       1  2      3      4      5  6  7      8\n",
      "428   12.89  16.786  0  3.051  2.727  0.800  1  0  4.851\n",
      "429   12.89  16.786  0  2.066  2.284  0.867  1  0  3.530\n",
      "430  132.86  33.571  0  2.892  3.487  0.572  2  0  3.619\n",
      "\n",
      "         0       1  2      3      4     5  6  7     8\n",
      "505  20.23  42.683  1  3.617  2.074  0.34  0  0  5.76\n",
      "506  20.23  42.683  1  3.617  2.074  0.34  0  0  5.61\n",
      "507   0.00   0.000  0  4.366  2.031  0.57  0  0  5.55\n",
      "\n",
      "          0        1  2      3      4      5  6  7      8\n",
      "515  126.44  152.848  3 -0.172  2.629  1.025  4  0  3.839\n",
      "516   26.02   32.897  2  2.729  1.975  0.462  1  0  5.437\n",
      "517   52.04   65.794  4  3.586  2.758  0.518  2  0  5.381\n",
      "\n",
      "         0        1  2      3      4      5  6  7      8\n",
      "534  58.92  107.366  2 -0.937  2.299  1.936  0  0  0.460\n",
      "535  20.23   42.683  1  3.617  2.074  0.340  0  0  6.110\n",
      "536  20.23   42.683  1  3.314  2.027  0.409  0  0  5.461\n",
      "\n",
      "         0       1  2      3      4      5  6  7      8\n",
      "535  20.23  42.683  1  3.617  2.074  0.340  0  0  6.110\n",
      "536  20.23  42.683  1  3.314  2.027  0.409  0  0  5.461\n",
      "537  56.15  36.022  2  3.112  2.997  0.701  2  0  3.531\n",
      "\n"
     ]
    }
   ],
   "source": [
    "for x in arr:\n",
    "    print(data[x-1:x+2])\n",
    "    print()"
   ]
  },
  {
   "cell_type": "code",
   "execution_count": 72,
   "metadata": {},
   "outputs": [
    {
     "data": {
      "text/html": [
       "<div>\n",
       "<style scoped>\n",
       "    .dataframe tbody tr th:only-of-type {\n",
       "        vertical-align: middle;\n",
       "    }\n",
       "\n",
       "    .dataframe tbody tr th {\n",
       "        vertical-align: top;\n",
       "    }\n",
       "\n",
       "    .dataframe thead th {\n",
       "        text-align: right;\n",
       "    }\n",
       "</style>\n",
       "<table border=\"1\" class=\"dataframe\">\n",
       "  <thead>\n",
       "    <tr style=\"text-align: right;\">\n",
       "      <th></th>\n",
       "      <th>0</th>\n",
       "      <th>1</th>\n",
       "      <th>2</th>\n",
       "      <th>3</th>\n",
       "      <th>4</th>\n",
       "      <th>5</th>\n",
       "      <th>6</th>\n",
       "      <th>7</th>\n",
       "      <th>8</th>\n",
       "    </tr>\n",
       "  </thead>\n",
       "  <tbody>\n",
       "    <tr>\n",
       "      <th>30</th>\n",
       "      <td>12.47</td>\n",
       "      <td>14.124</td>\n",
       "      <td>0</td>\n",
       "      <td>3.827</td>\n",
       "      <td>3.362</td>\n",
       "      <td>1.373</td>\n",
       "      <td>1</td>\n",
       "      <td>0</td>\n",
       "      <td>5.102</td>\n",
       "    </tr>\n",
       "    <tr>\n",
       "      <th>31</th>\n",
       "      <td>0.00</td>\n",
       "      <td>0.000</td>\n",
       "      <td>0</td>\n",
       "      <td>2.226</td>\n",
       "      <td>1.265</td>\n",
       "      <td>0.570</td>\n",
       "      <td>0</td>\n",
       "      <td>0</td>\n",
       "      <td>3.718</td>\n",
       "    </tr>\n",
       "    <tr>\n",
       "      <th>32</th>\n",
       "      <td>0.00</td>\n",
       "      <td>14.960</td>\n",
       "      <td>0</td>\n",
       "      <td>2.026</td>\n",
       "      <td>1.265</td>\n",
       "      <td>0.722</td>\n",
       "      <td>0</td>\n",
       "      <td>0</td>\n",
       "      <td>3.577</td>\n",
       "    </tr>\n",
       "    <tr>\n",
       "      <th>33</th>\n",
       "      <td>45.61</td>\n",
       "      <td>28.269</td>\n",
       "      <td>0</td>\n",
       "      <td>3.012</td>\n",
       "      <td>2.557</td>\n",
       "      <td>0.901</td>\n",
       "      <td>1</td>\n",
       "      <td>0</td>\n",
       "      <td>6.458</td>\n",
       "    </tr>\n",
       "    <tr>\n",
       "      <th>34</th>\n",
       "      <td>12.03</td>\n",
       "      <td>18.011</td>\n",
       "      <td>1</td>\n",
       "      <td>1.587</td>\n",
       "      <td>1.654</td>\n",
       "      <td>1.732</td>\n",
       "      <td>1</td>\n",
       "      <td>0</td>\n",
       "      <td>2.352</td>\n",
       "    </tr>\n",
       "    <tr>\n",
       "      <th>35</th>\n",
       "      <td>86.81</td>\n",
       "      <td>121.412</td>\n",
       "      <td>3</td>\n",
       "      <td>0.709</td>\n",
       "      <td>2.938</td>\n",
       "      <td>1.416</td>\n",
       "      <td>2</td>\n",
       "      <td>0</td>\n",
       "      <td>2.958</td>\n",
       "    </tr>\n",
       "    <tr>\n",
       "      <th>36</th>\n",
       "      <td>132.42</td>\n",
       "      <td>196.332</td>\n",
       "      <td>2</td>\n",
       "      <td>4.478</td>\n",
       "      <td>4.984</td>\n",
       "      <td>1.087</td>\n",
       "      <td>4</td>\n",
       "      <td>0</td>\n",
       "      <td>5.440</td>\n",
       "    </tr>\n",
       "    <tr>\n",
       "      <th>37</th>\n",
       "      <td>40.46</td>\n",
       "      <td>85.367</td>\n",
       "      <td>2</td>\n",
       "      <td>5.255</td>\n",
       "      <td>3.001</td>\n",
       "      <td>0.485</td>\n",
       "      <td>0</td>\n",
       "      <td>0</td>\n",
       "      <td>4.838</td>\n",
       "    </tr>\n",
       "    <tr>\n",
       "      <th>38</th>\n",
       "      <td>0.00</td>\n",
       "      <td>0.000</td>\n",
       "      <td>0</td>\n",
       "      <td>5.453</td>\n",
       "      <td>2.837</td>\n",
       "      <td>0.735</td>\n",
       "      <td>0</td>\n",
       "      <td>0</td>\n",
       "      <td>6.858</td>\n",
       "    </tr>\n",
       "    <tr>\n",
       "      <th>39</th>\n",
       "      <td>20.23</td>\n",
       "      <td>42.683</td>\n",
       "      <td>1</td>\n",
       "      <td>3.921</td>\n",
       "      <td>2.494</td>\n",
       "      <td>1.229</td>\n",
       "      <td>0</td>\n",
       "      <td>0</td>\n",
       "      <td>6.360</td>\n",
       "    </tr>\n",
       "    <tr>\n",
       "      <th>40</th>\n",
       "      <td>40.46</td>\n",
       "      <td>85.367</td>\n",
       "      <td>2</td>\n",
       "      <td>3.306</td>\n",
       "      <td>2.832</td>\n",
       "      <td>0.917</td>\n",
       "      <td>0</td>\n",
       "      <td>0</td>\n",
       "      <td>4.301</td>\n",
       "    </tr>\n",
       "    <tr>\n",
       "      <th>41</th>\n",
       "      <td>0.00</td>\n",
       "      <td>0.000</td>\n",
       "      <td>0</td>\n",
       "      <td>3.259</td>\n",
       "      <td>2.048</td>\n",
       "      <td>1.111</td>\n",
       "      <td>0</td>\n",
       "      <td>0</td>\n",
       "      <td>3.772</td>\n",
       "    </tr>\n",
       "    <tr>\n",
       "      <th>42</th>\n",
       "      <td>26.02</td>\n",
       "      <td>32.897</td>\n",
       "      <td>2</td>\n",
       "      <td>2.193</td>\n",
       "      <td>2.031</td>\n",
       "      <td>0.992</td>\n",
       "      <td>1</td>\n",
       "      <td>0</td>\n",
       "      <td>4.179</td>\n",
       "    </tr>\n",
       "    <tr>\n",
       "      <th>43</th>\n",
       "      <td>17.07</td>\n",
       "      <td>25.145</td>\n",
       "      <td>0</td>\n",
       "      <td>1.947</td>\n",
       "      <td>2.005</td>\n",
       "      <td>1.276</td>\n",
       "      <td>0</td>\n",
       "      <td>0</td>\n",
       "      <td>3.061</td>\n",
       "    </tr>\n",
       "    <tr>\n",
       "      <th>44</th>\n",
       "      <td>0.00</td>\n",
       "      <td>0.000</td>\n",
       "      <td>0</td>\n",
       "      <td>3.267</td>\n",
       "      <td>2.119</td>\n",
       "      <td>1.250</td>\n",
       "      <td>0</td>\n",
       "      <td>0</td>\n",
       "      <td>4.867</td>\n",
       "    </tr>\n",
       "    <tr>\n",
       "      <th>45</th>\n",
       "      <td>0.00</td>\n",
       "      <td>0.000</td>\n",
       "      <td>0</td>\n",
       "      <td>3.267</td>\n",
       "      <td>2.119</td>\n",
       "      <td>1.250</td>\n",
       "      <td>0</td>\n",
       "      <td>0</td>\n",
       "      <td>5.373</td>\n",
       "    </tr>\n",
       "    <tr>\n",
       "      <th>46</th>\n",
       "      <td>0.00</td>\n",
       "      <td>0.000</td>\n",
       "      <td>0</td>\n",
       "      <td>3.374</td>\n",
       "      <td>2.118</td>\n",
       "      <td>1.204</td>\n",
       "      <td>0</td>\n",
       "      <td>0</td>\n",
       "      <td>3.522</td>\n",
       "    </tr>\n",
       "    <tr>\n",
       "      <th>47</th>\n",
       "      <td>17.07</td>\n",
       "      <td>25.145</td>\n",
       "      <td>0</td>\n",
       "      <td>-0.317</td>\n",
       "      <td>1.155</td>\n",
       "      <td>1.740</td>\n",
       "      <td>0</td>\n",
       "      <td>0</td>\n",
       "      <td>0.550</td>\n",
       "    </tr>\n",
       "    <tr>\n",
       "      <th>48</th>\n",
       "      <td>29.10</td>\n",
       "      <td>43.156</td>\n",
       "      <td>1</td>\n",
       "      <td>3.076</td>\n",
       "      <td>2.438</td>\n",
       "      <td>0.773</td>\n",
       "      <td>1</td>\n",
       "      <td>1</td>\n",
       "      <td>4.714</td>\n",
       "    </tr>\n",
       "    <tr>\n",
       "      <th>49</th>\n",
       "      <td>37.30</td>\n",
       "      <td>67.828</td>\n",
       "      <td>1</td>\n",
       "      <td>0.133</td>\n",
       "      <td>1.401</td>\n",
       "      <td>1.582</td>\n",
       "      <td>0</td>\n",
       "      <td>1</td>\n",
       "      <td>3.170</td>\n",
       "    </tr>\n",
       "  </tbody>\n",
       "</table>\n",
       "</div>"
      ],
      "text/plain": [
       "         0        1  2      3      4      5  6  7      8\n",
       "30   12.47   14.124  0  3.827  3.362  1.373  1  0  5.102\n",
       "31    0.00    0.000  0  2.226  1.265  0.570  0  0  3.718\n",
       "32    0.00   14.960  0  2.026  1.265  0.722  0  0  3.577\n",
       "33   45.61   28.269  0  3.012  2.557  0.901  1  0  6.458\n",
       "34   12.03   18.011  1  1.587  1.654  1.732  1  0  2.352\n",
       "35   86.81  121.412  3  0.709  2.938  1.416  2  0  2.958\n",
       "36  132.42  196.332  2  4.478  4.984  1.087  4  0  5.440\n",
       "37   40.46   85.367  2  5.255  3.001  0.485  0  0  4.838\n",
       "38    0.00    0.000  0  5.453  2.837  0.735  0  0  6.858\n",
       "39   20.23   42.683  1  3.921  2.494  1.229  0  0  6.360\n",
       "40   40.46   85.367  2  3.306  2.832  0.917  0  0  4.301\n",
       "41    0.00    0.000  0  3.259  2.048  1.111  0  0  3.772\n",
       "42   26.02   32.897  2  2.193  2.031  0.992  1  0  4.179\n",
       "43   17.07   25.145  0  1.947  2.005  1.276  0  0  3.061\n",
       "44    0.00    0.000  0  3.267  2.119  1.250  0  0  4.867\n",
       "45    0.00    0.000  0  3.267  2.119  1.250  0  0  5.373\n",
       "46    0.00    0.000  0  3.374  2.118  1.204  0  0  3.522\n",
       "47   17.07   25.145  0 -0.317  1.155  1.740  0  0  0.550\n",
       "48   29.10   43.156  1  3.076  2.438  0.773  1  1  4.714\n",
       "49   37.30   67.828  1  0.133  1.401  1.582  0  1  3.170"
      ]
     },
     "execution_count": 72,
     "metadata": {},
     "output_type": "execute_result"
    }
   ],
   "source": [
    "data[30:50]"
   ]
  },
  {
   "cell_type": "markdown",
   "metadata": {},
   "source": [
    "# Conclusion:\n",
    "## Models with low noise / good accuracy think they are doing well on duplicates, but ofc that is exactly where they are worst!\n",
    "## Models with high noise / low accuracy have higher likelihoods because they account for duplication better, but ofc they suck at actually predicting"
   ]
  },
  {
   "cell_type": "code",
   "execution_count": null,
   "metadata": {},
   "outputs": [],
   "source": []
  }
 ],
 "metadata": {
  "kernelspec": {
   "display_name": "Python 3",
   "language": "python",
   "name": "python3"
  },
  "language_info": {
   "codemirror_mode": {
    "name": "ipython",
    "version": 3
   },
   "file_extension": ".py",
   "mimetype": "text/x-python",
   "name": "python",
   "nbconvert_exporter": "python",
   "pygments_lexer": "ipython3",
   "version": "3.7.7"
  }
 },
 "nbformat": 4,
 "nbformat_minor": 4
}
