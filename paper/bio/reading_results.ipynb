{
 "cells": [
  {
   "cell_type": "code",
   "execution_count": 1,
   "metadata": {},
   "outputs": [],
   "source": [
    "import numpy as np\n",
    "import matplotlib.pyplot as plt"
   ]
  },
  {
   "cell_type": "code",
   "execution_count": 2,
   "metadata": {},
   "outputs": [],
   "source": [
    "data = np.loadtxt('data/qsar_aquatic_toxicity.csv', delimiter=';')\n",
    "X, y = data[:,:-1], data[:,-1]"
   ]
  },
  {
   "cell_type": "markdown",
   "metadata": {},
   "source": [
    "Cassotti got to cut outliers so i do too"
   ]
  },
  {
   "cell_type": "code",
   "execution_count": 3,
   "metadata": {},
   "outputs": [],
   "source": [
    "from sklearn.neighbors import KDTree"
   ]
  },
  {
   "cell_type": "code",
   "execution_count": 4,
   "metadata": {},
   "outputs": [],
   "source": [
    "from sklearn.neighbors import DistanceMetric"
   ]
  },
  {
   "cell_type": "code",
   "execution_count": 5,
   "metadata": {},
   "outputs": [],
   "source": [
    "kd = KDTree(X)"
   ]
  },
  {
   "cell_type": "code",
   "execution_count": 6,
   "metadata": {},
   "outputs": [
    {
     "data": {
      "image/png": "[encoded data removed]",
      "text/plain": [
       "<Figure size 432x288 with 1 Axes>"
      ]
     },
     "metadata": {
      "needs_background": "light"
     },
     "output_type": "display_data"
    }
   ],
   "source": [
    "plt.hist([kd.query(X[i:i+1],k=2)[0][0,1] for i in range(len(X))], bins=100, histtype='step');\n",
    "plt.yscale('log')\n",
    "plt.xscale('log')"
   ]
  },
  {
   "cell_type": "code",
   "execution_count": 7,
   "metadata": {},
   "outputs": [
    {
     "data": {
      "text/plain": [
       "(546, 8)"
      ]
     },
     "execution_count": 7,
     "metadata": {},
     "output_type": "execute_result"
    }
   ],
   "source": [
    "X.shape"
   ]
  },
  {
   "cell_type": "code",
   "execution_count": 8,
   "metadata": {},
   "outputs": [],
   "source": [
    "not_too_far = np.array([True if not x[0][0,1]>10 else False for x in [kd.query(X[i:i+1],2) for i in range(len(X))]])"
   ]
  },
  {
   "cell_type": "code",
   "execution_count": 9,
   "metadata": {},
   "outputs": [
    {
     "data": {
      "text/plain": [
       "0.94"
      ]
     },
     "execution_count": 9,
     "metadata": {},
     "output_type": "execute_result"
    }
   ],
   "source": [
    "np.array(sum(not_too_far) / X.shape[0]).round(3)"
   ]
  },
  {
   "cell_type": "code",
   "execution_count": 10,
   "metadata": {},
   "outputs": [],
   "source": [
    "X, y = X[not_too_far], y[not_too_far]"
   ]
  },
  {
   "cell_type": "code",
   "execution_count": 11,
   "metadata": {},
   "outputs": [],
   "source": [
    "with open('GPs.pkl', 'rb') as file:\n",
    "    from pickle import load\n",
    "    GPs = load(file)"
   ]
  },
  {
   "cell_type": "code",
   "execution_count": 12,
   "metadata": {},
   "outputs": [
    {
     "data": {
      "text/plain": [
       "([GaussianProcessRegressor(alpha=1e-05,\n",
       "                           kernel=3.16**2 * Matern(length_scale=[66.4, 202, 3.56, 13.2, 4.95, 2.21, 4.47, 3.81], nu=1.5) + 5.73**2 * WhiteKernel(noise_level=0.0181),\n",
       "                           random_state=42),\n",
       "  GaussianProcessRegressor(alpha=1e-05,\n",
       "                           kernel=3.16**2 * Matern(length_scale=[66.4, 202, 3.56, 13.2, 4.95, 2.21, 4.47, 3.81], nu=1.5) + 4.47**2 * WhiteKernel(noise_level=0.0297),\n",
       "                           random_state=42),\n",
       "  GaussianProcessRegressor(alpha=1e-05,\n",
       "                           kernel=3.42**2 * Matern(length_scale=[68.8, 171, 8.83, 11.5, 3.45, 2.59, 5.5, 9.97e+04], nu=1.5) + 0.253**2 * WhiteKernel(noise_level=10.6),\n",
       "                           random_state=42),\n",
       "  GaussianProcessRegressor(alpha=1e-05,\n",
       "                           kernel=3.48**2 * Matern(length_scale=[73.4, 228, 4.53, 14.2, 6.49, 2.87, 4.84, 6.32e-05], nu=1.5) + 5.48**2 * WhiteKernel(noise_level=0.0205),\n",
       "                           random_state=42),\n",
       "  GaussianProcessRegressor(alpha=1e-05,\n",
       "                           kernel=3.48**2 * Matern(length_scale=[73.4, 228, 4.53, 14.2, 6.49, 2.87, 4.84, 0.00507], nu=1.5) + 1.09**2 * WhiteKernel(noise_level=0.517),\n",
       "                           random_state=42)],\n",
       " '',\n",
       " [GaussianProcessRegressor(alpha=1e-05,\n",
       "                           kernel=4.92**2 * Matern(length_scale=[0.0127, 594, 5.23e+04, 1.02, 0.000275, 1.38e-05, 0.00198, 0.000208], nu=1.5) + 5.71**2 * WhiteKernel(noise_level=0.00496),\n",
       "                           random_state=42),\n",
       "  GaussianProcessRegressor(alpha=1e-05,\n",
       "                           kernel=4.92**2 * Matern(length_scale=[1.12e+03, 0.075, 0.00764, 66.8, 0.00025, 0.000998, 1.18e-05, 740], nu=1.5) + 0.538**2 * WhiteKernel(noise_level=0.56),\n",
       "                           random_state=42),\n",
       "  GaussianProcessRegressor(alpha=1e-05,\n",
       "                           kernel=4.92**2 * Matern(length_scale=[0.0151, 1.11, 5.62e+03, 3.25e+03, 2.72e-05, 0.000653, 0.00233, 0.00312], nu=1.5) + 0.992**2 * WhiteKernel(noise_level=0.164),\n",
       "                           random_state=42),\n",
       "  GaussianProcessRegressor(alpha=1e-05,\n",
       "                           kernel=4.92**2 * Matern(length_scale=[8.54e+03, 608, 0.000884, 0.465, 2.74e-05, 0.000349, 67.7, 280], nu=1.5) + 22.2**2 * WhiteKernel(noise_level=0.000327),\n",
       "                           random_state=42),\n",
       "  GaussianProcessRegressor(alpha=1e-05,\n",
       "                           kernel=4.92**2 * Matern(length_scale=[0.0129, 75.3, 113, 0.0757, 8.45e-05, 1.28e-05, 0.00123, 1.78], nu=1.5) + 0.63**2 * WhiteKernel(noise_level=0.408),\n",
       "                           random_state=42)])"
      ]
     },
     "execution_count": 12,
     "metadata": {},
     "output_type": "execute_result"
    }
   ],
   "source": [
    "GPs[:5],'', GPs[-5:]"
   ]
  },
  {
   "cell_type": "code",
   "execution_count": 14,
   "metadata": {},
   "outputs": [
    {
     "data": {
      "text/plain": [
       "<matplotlib.collections.PathCollection at 0x7f14558d7fd0>"
      ]
     },
     "execution_count": 14,
     "metadata": {},
     "output_type": "execute_result"
    },
    {
     "data": {
      "image/png": "[encoded data removed]",
      "text/plain": [
       "<Figure size 432x288 with 1 Axes>"
      ]
     },
     "metadata": {
      "needs_background": "light"
     },
     "output_type": "display_data"
    }
   ],
   "source": [
    "z = np.array([z.log_marginal_likelihood_value_ for z in GPs]);\n",
    "plt.scatter(np.arange(len(z)), z)"
   ]
  },
  {
   "cell_type": "code",
   "execution_count": 15,
   "metadata": {},
   "outputs": [],
   "source": [
    "z = GPs[0]"
   ]
  },
  {
   "cell_type": "code",
   "execution_count": 16,
   "metadata": {},
   "outputs": [],
   "source": [
    "kernels = np.array([z.kernel_.theta for z in GPs])"
   ]
  },
  {
   "cell_type": "code",
   "execution_count": 17,
   "metadata": {},
   "outputs": [],
   "source": [
    "kernels = np.array([2*np.max(kernels, 0), 2*np.min(kernels, 0)])"
   ]
  },
  {
   "cell_type": "code",
   "execution_count": 18,
   "metadata": {},
   "outputs": [],
   "source": [
    "base_theta = .5*(kernels[0] - kernels[1])"
   ]
  },
  {
   "cell_type": "code",
   "execution_count": 19,
   "metadata": {},
   "outputs": [],
   "source": [
    "M_i, N_i = 9, 10\n",
    "M, N = 30, 30\n",
    "Z = np.empty(shape=(M,N))\n",
    "for i in range(M):\n",
    "    for j in range(N):\n",
    "        t = np.array(base_theta, copy=True)\n",
    "        #print(t.round(2)[:3])\n",
    "        t[M_i] = t[M_i] + i*(1./M) * (kernels[0][M_i]-kernels[1][M_i])\n",
    "        t[N_i] = t[N_i] + j*(1./N) * (kernels[0][N_i]-kernels[1][N_i])\n",
    "        #print(t.round(2)[:3])\n",
    "        Z[i,j] = z.log_marginal_likelihood(theta=t)"
   ]
  },
  {
   "cell_type": "code",
   "execution_count": 20,
   "metadata": {},
   "outputs": [
    {
     "data": {
      "image/png": "[encoded data removed]",
      "text/plain": [
       "<Figure size 432x288 with 1 Axes>"
      ]
     },
     "metadata": {},
     "output_type": "display_data"
    }
   ],
   "source": [
    "plt.imshow(Z, interpolation='bilinear')\n",
    "plt.title('Scale Parameters for Noise')\n",
    "plt.yticks([])\n",
    "plt.ylabel('Noise Level')\n",
    "plt.xlabel('Scale Parameter for White Kernel')\n",
    "plt.xticks([]);\n",
    "plt.savefig('lml2')"
   ]
  },
  {
   "cell_type": "code",
   "execution_count": 21,
   "metadata": {},
   "outputs": [],
   "source": [
    "kernels = np.array([2*np.max(kernels, 0), 2*np.min(kernels, 0)])"
   ]
  },
  {
   "cell_type": "code",
   "execution_count": 22,
   "metadata": {},
   "outputs": [],
   "source": [
    "base_theta = kernels[1]"
   ]
  },
  {
   "cell_type": "code",
   "execution_count": 23,
   "metadata": {},
   "outputs": [],
   "source": [
    "M_i, N_i = 9, 10\n",
    "M, N = 30, 30\n",
    "Z = np.empty(shape=(M,N))\n",
    "for i in range(M):\n",
    "    for j in range(N):\n",
    "        t = np.array(base_theta, copy=True)\n",
    "        #print(t.round(2)[:3])\n",
    "        t[M_i] = t[M_i] + i*(1./M) * (kernels[0][M_i]-kernels[1][M_i])\n",
    "        t[N_i] = t[N_i] + j*(1./N) * (kernels[0][N_i]-kernels[1][N_i])\n",
    "        #print(t.round(2)[:3])\n",
    "        Z[i,j] = z.log_marginal_likelihood(theta=t)"
   ]
  },
  {
   "cell_type": "code",
   "execution_count": 24,
   "metadata": {},
   "outputs": [
    {
     "data": {
      "image/png": "[encoded data removed]",
      "text/plain": [
       "<Figure size 432x288 with 2 Axes>"
      ]
     },
     "metadata": {
      "needs_background": "light"
     },
     "output_type": "display_data"
    }
   ],
   "source": [
    "plt.imshow(Z, interpolation='bilinear')\n",
    "plt.title('Scale Parameters for Noise')\n",
    "#plt.yticks([])\n",
    "plt.ylabel('Noise Level')\n",
    "plt.colorbar()\n",
    "plt.xlabel('Scale Parameter for White Kernel')\n",
    "#plt.xticks([]);\n",
    "plt.savefig('lml')"
   ]
  },
  {
   "cell_type": "markdown",
   "metadata": {},
   "source": [
    "Corrections:\n",
    " * how did hgdl and the characteristics of hgdl help solve this problem better than it was solved before?\n",
    "     * efficiency\n",
    "         * more minimizations run - parallelism\n",
    "         * minimizations in more useuful places\n",
    "             * deflation\n",
    "             * global method starting point\n",
    "         * conclusion: spend more time looking at new areas of the likelihood - more minimizers run, minimizers run in useful place (better start, avoids minimum)\n",
    "     * meta-analysis\n",
    "         * many models found, can reason about many models\n",
    "\n",
    " * Show slices of posterior mean and variance\n",
    " * mark solutions that i find on the likelihood surface\n",
    " * connect with interpretations\n",
    " * mark figure 6 (models) with different colors for different models\n",
    " * remember to email funke"
   ]
  },
  {
   "cell_type": "code",
   "execution_count": null,
   "metadata": {},
   "outputs": [],
   "source": []
  }
 ],
 "metadata": {
  "kernelspec": {
   "display_name": "Python 3",
   "language": "python",
   "name": "python3"
  },
  "language_info": {
   "codemirror_mode": {
    "name": "ipython",
    "version": 3
   },
   "file_extension": ".py",
   "mimetype": "text/x-python",
   "name": "python",
   "nbconvert_exporter": "python",
   "pygments_lexer": "ipython3",
   "version": "3.7.9"
  }
 },
 "nbformat": 4,
 "nbformat_minor": 4
}
