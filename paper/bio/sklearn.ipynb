{
 "cells": [
  {
   "cell_type": "code",
   "execution_count": 1,
   "metadata": {},
   "outputs": [],
   "source": [
    "import numpy as np\n",
    "import matplotlib.pyplot as plt\n",
    "\n",
    "from sklearn.gaussian_process import GaussianProcessRegressor\n",
    "from sklearn.gaussian_process.kernels import WhiteKernel, RBF, Matern\n",
    "\n",
    "\"\"\"\n",
    "https://archive.ics.uci.edu/ml/datasets/QSAR+aquatic+toxicity\n",
    "\n",
    "1) TPSA(Tot)\n",
    "2) SAacc\n",
    "3) H-050\n",
    "4) MLOGP\n",
    "5) RDCHI\n",
    "6) GATS1p\n",
    "7) nN\n",
    "8) C-040\n",
    "9) quantitative response, LC50 [-LOG(mol/L)]\n",
    "\n",
    "\"\"\";"
   ]
  },
  {
   "cell_type": "code",
   "execution_count": 2,
   "metadata": {},
   "outputs": [],
   "source": [
    "class dataReader(object):\n",
    "    def __init__(self, seed):\n",
    "        \n",
    "        rng = np.random.default_rng(seed)\n",
    "        data = np.loadtxt('qsar_aquatic_toxicity.csv', delimiter=';')\n",
    "        rng.shuffle(data)    \n",
    "        mark = int(len(data)*.8)\n",
    "        training, test = data[:mark], data[mark:]\n",
    "        \n",
    "        X, y = training[:,:-1], training[:,-1]\n",
    "        self.training_mean_x = np.mean(X, 0)\n",
    "        X -= self.training_mean_x\n",
    "        self.training_std_x = np.std(X, 0)\n",
    "        X /= self.training_std_x\n",
    "        self.training_mean_y = np.mean(y)\n",
    "        y -= self.training_mean_y\n",
    "        self.training_std_y = np.std(y)\n",
    "        y /= self.training_std_y\n",
    "        \n",
    "        X_test, y_test = test[:,:-1], test[:,-1]\n",
    "        X_test -= self.training_mean_x\n",
    "        X_test /= self.training_std_x\n",
    "        y_test -= self.training_mean_y\n",
    "        y_test /= self.training_std_y\n",
    "        \n",
    "        self.X_train, self.y_train = X, y\n",
    "        self.X_test, self.y_test = X_test, y_test\n",
    "\n",
    "    def get_training(self):\n",
    "        return self.X_train, self.y_train\n",
    "    def get_test(self):\n",
    "        return self.X_test, self.y_test\n",
    "\n",
    "    def coefficient_of_determination(self, y_true, y_pred):\n",
    "        \"\"\"\n",
    "        use wikipedia formalism\n",
    "        \"\"\"\n",
    "        y_hat = np.mean(y_true)\n",
    "        ss_res = np.sum(np.power(y_true-y_pred,2))\n",
    "        ss_tot = np.sum(np.power(y_true-y_hat,2))\n",
    "        return 1.-ss_res/ss_tot\n",
    "    def info(self,x,y,gp):\n",
    "        y_pred, y_cov = gp.predict(x, return_cov=True)\n",
    "        y_std = np.sqrt(np.diag(y_cov))\n",
    "        residual = y-y_pred\n",
    "\n",
    "        # make histogram\n",
    "        plt.hist(residual, bins=30)\n",
    "        plt.title('residual: y-y_pred')\n",
    "        plt.show()\n",
    "\n",
    "        # make scatter plots\n",
    "        useless = np.arange(len(y))\n",
    "        plt.title('residual: y-y_pred')\n",
    "        plt.scatter(useless, residual)\n",
    "        plt.show()\n",
    "\n",
    "        print('calculating percentages that are 1,2,3,&4 sigma away')\n",
    "        for i in range(1,5):\n",
    "            within = np.logical_and(y-i*y_std<=y_pred, y_pred<=y+i*y_std)\n",
    "            print('sigma:',i,(np.sum(within)/len(within)).round(3))\n",
    "        print('coeff. of det.',self.coefficient_of_determination(y,y_pred))"
   ]
  },
  {
   "cell_type": "code",
   "execution_count": 3,
   "metadata": {},
   "outputs": [],
   "source": [
    "data = dataReader(42)"
   ]
  },
  {
   "cell_type": "code",
   "execution_count": 4,
   "metadata": {},
   "outputs": [],
   "source": [
    "x, y = data.get_training()"
   ]
  },
  {
   "cell_type": "code",
   "execution_count": 5,
   "metadata": {},
   "outputs": [
    {
     "data": {
      "text/plain": [
       "(array([[ 1.35,  1.74,  0.81,  0.03,  0.8 , -0.57,  0.03, -0.49],\n",
       "        [ 0.15,  0.27, -0.62,  1.01,  1.5 ,  0.27, -0.75,  2.84],\n",
       "        [ 0.9 ,  1.14,  0.81, -1.28,  0.39,  0.56,  0.82,  1.17],\n",
       "        [-0.42, -0.92, -0.62,  0.89,  0.21, -0.93, -0.75, -0.49],\n",
       "        [ 0.51,  0.6 ,  1.52, -1.52, -0.39, -0.34,  1.6 ,  1.17],\n",
       "        [-0.14,  0.49,  0.81, -0.95, -1.04,  1.34, -0.75, -0.49],\n",
       "        [-1.09, -0.92, -0.62, -0.39, -1.66, -1.14, -0.75, -0.49],\n",
       "        [-0.65, -0.56, -0.62, -0.51, -0.42,  0.44, -0.75, -0.49],\n",
       "        [-0.61, -0.22,  0.09,  0.74, -0.52, -1.68, -0.75, -0.49],\n",
       "        [-0.78, -0.65, -0.62, -0.47, -0.54,  0.4 ,  0.03, -0.49]]),\n",
       " array([-0.29,  0.36, -1.38,  0.61, -0.51, -2.08, -0.82, -1.03,  0.93,\n",
       "        -0.69]))"
      ]
     },
     "execution_count": 5,
     "metadata": {},
     "output_type": "execute_result"
    }
   ],
   "source": [
    "x[:10].round(2), y[:10].round(2)"
   ]
  },
  {
   "cell_type": "code",
   "execution_count": 6,
   "metadata": {},
   "outputs": [
    {
     "data": {
      "text/plain": [
       "0.9999999999999999"
      ]
     },
     "execution_count": 6,
     "metadata": {},
     "output_type": "execute_result"
    },
    {
     "data": {
      "image/png": "[encoded data removed]",
      "text/plain": [
       "<Figure size 432x288 with 1 Axes>"
      ]
     },
     "metadata": {
      "needs_background": "light"
     },
     "output_type": "display_data"
    }
   ],
   "source": [
    "plt.hist(y)\n",
    "np.std(y)"
   ]
  },
  {
   "cell_type": "code",
   "execution_count": 7,
   "metadata": {},
   "outputs": [],
   "source": [
    "kernel = 1.**2 * Matern(length_scale=.1*np.ones(x.shape[1]),nu=2.0)\\\n",
    "            + 0.1**2 * WhiteKernel(noise_level=1.)"
   ]
  },
  {
   "cell_type": "code",
   "execution_count": 8,
   "metadata": {},
   "outputs": [],
   "source": [
    "gpr = GaussianProcessRegressor(kernel=kernel,\n",
    "                                  alpha=1e-5, \n",
    "                                  optimizer='fmin_l_bfgs_b', \n",
    "                                  n_restarts_optimizer=15, \n",
    "                                  normalize_y=False, \n",
    "                                  copy_X_train=True, \n",
    "                                  random_state=42)"
   ]
  },
  {
   "cell_type": "code",
   "execution_count": 9,
   "metadata": {},
   "outputs": [
    {
     "name": "stderr",
     "output_type": "stream",
     "text": [
      "/home/elliott/anaconda3/lib/python3.7/site-packages/sklearn/gaussian_process/_gpr.py:504: ConvergenceWarning: lbfgs failed to converge (status=2):\n",
      "ABNORMAL_TERMINATION_IN_LNSRCH.\n",
      "\n",
      "Increase the number of iterations (max_iter) or scale the data as shown in:\n",
      "    https://scikit-learn.org/stable/modules/preprocessing.html\n",
      "  _check_optimize_result(\"lbfgs\", opt_res)\n"
     ]
    }
   ],
   "source": [
    "gpr = gpr.fit(x, y)"
   ]
  },
  {
   "cell_type": "code",
   "execution_count": 10,
   "metadata": {},
   "outputs": [
    {
     "data": {
      "text/plain": [
       "-440.91168623681625"
      ]
     },
     "execution_count": 10,
     "metadata": {},
     "output_type": "execute_result"
    }
   ],
   "source": [
    "gpr.log_marginal_likelihood_value_"
   ]
  },
  {
   "cell_type": "code",
   "execution_count": 11,
   "metadata": {},
   "outputs": [
    {
     "data": {
      "text/plain": [
       "0.954**2 * Matern(length_scale=[0.458, 1.19, 1.55, 1.59, 1.09, 4.21, 0.896, 0.1], nu=2) + 0.227**2 * WhiteKernel(noise_level=2.76)"
      ]
     },
     "execution_count": 11,
     "metadata": {},
     "output_type": "execute_result"
    }
   ],
   "source": [
    "gpr.kernel_"
   ]
  },
  {
   "cell_type": "code",
   "execution_count": 12,
   "metadata": {},
   "outputs": [
    {
     "data": {
      "image/png": "[encoded data removed]",
      "text/plain": [
       "<Figure size 432x288 with 1 Axes>"
      ]
     },
     "metadata": {
      "needs_background": "light"
     },
     "output_type": "display_data"
    },
    {
     "data": {
      "image/png": "[encoded data removed]",
      "text/plain": [
       "<Figure size 432x288 with 1 Axes>"
      ]
     },
     "metadata": {
      "needs_background": "light"
     },
     "output_type": "display_data"
    },
    {
     "name": "stdout",
     "output_type": "stream",
     "text": [
      "calculating percentages that are 1,2,3,&4 sigma away\n",
      "sigma: 1 0.911\n",
      "sigma: 2 0.993\n",
      "sigma: 3 1.0\n",
      "sigma: 4 1.0\n",
      "coeff. of det. 0.9304125455382257\n"
     ]
    }
   ],
   "source": [
    "data.info(x,y,gpr)"
   ]
  },
  {
   "cell_type": "code",
   "execution_count": 13,
   "metadata": {},
   "outputs": [],
   "source": [
    "x, y = data.get_test()"
   ]
  },
  {
   "cell_type": "code",
   "execution_count": 14,
   "metadata": {},
   "outputs": [
    {
     "data": {
      "image/png": "[encoded data removed]",
      "text/plain": [
       "<Figure size 432x288 with 1 Axes>"
      ]
     },
     "metadata": {
      "needs_background": "light"
     },
     "output_type": "display_data"
    },
    {
     "data": {
      "image/png": "[encoded data removed]",
      "text/plain": [
       "<Figure size 432x288 with 1 Axes>"
      ]
     },
     "metadata": {
      "needs_background": "light"
     },
     "output_type": "display_data"
    },
    {
     "name": "stdout",
     "output_type": "stream",
     "text": [
      "calculating percentages that are 1,2,3,&4 sigma away\n",
      "sigma: 1 0.736\n",
      "sigma: 2 0.918\n",
      "sigma: 3 0.982\n",
      "sigma: 4 0.991\n",
      "coeff. of det. 0.5380484173975293\n"
     ]
    }
   ],
   "source": [
    "data.info(x,y,gpr)"
   ]
  },
  {
   "cell_type": "code",
   "execution_count": 15,
   "metadata": {},
   "outputs": [],
   "source": [
    "np.save('data/sklearn_theta',gpr.kernel_.theta)"
   ]
  },
  {
   "cell_type": "code",
   "execution_count": null,
   "metadata": {},
   "outputs": [],
   "source": []
  }
 ],
 "metadata": {
  "kernelspec": {
   "display_name": "Python 3",
   "language": "python",
   "name": "python3"
  },
  "language_info": {
   "codemirror_mode": {
    "name": "ipython",
    "version": 3
   },
   "file_extension": ".py",
   "mimetype": "text/x-python",
   "name": "python",
   "nbconvert_exporter": "python",
   "pygments_lexer": "ipython3",
   "version": "3.7.7"
  }
 },
 "nbformat": 4,
 "nbformat_minor": 4
}
