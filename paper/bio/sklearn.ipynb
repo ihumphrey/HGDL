{
 "cells": [
  {
   "cell_type": "markdown",
   "metadata": {},
   "source": [
    "# Bio dataset - 1 optima vs Many"
   ]
  },
  {
   "cell_type": "markdown",
   "metadata": {},
   "source": [
    "These are just helper classes so we can reuse code"
   ]
  },
  {
   "cell_type": "code",
   "execution_count": 1,
   "metadata": {},
   "outputs": [],
   "source": [
    "import numpy as np\n",
    "import pandas as pd\n",
    "\n",
    "class data_reader(object):\n",
    "    def __init__(self, seed=42):\n",
    "        data = pd.read_csv('data/toxicity_data.csv')\n",
    "\n",
    "        train = data[(data['train/test']=='train')].to_numpy()[:,3:].astype(np.float64)\n",
    "        test = data[(data['train/test']=='test')].to_numpy()[:,3:].astype(np.float64)\n",
    "        \n",
    "        test -= np.mean(train, 0)\n",
    "        test /= np.std(train, 0)\n",
    "        train -= np.mean(train, 0)\n",
    "        test /= np.std(train, 0)\n",
    "        \n",
    "        self.X_train = train[:,1:]\n",
    "        self.y_train = train[:,0]\n",
    "        self.X_test = test[:,1:]\n",
    "        self.y_test = test[:,0]\n",
    "\n",
    "    def get_training(self):\n",
    "        return self.X_train, self.y_train\n",
    "    \n",
    "    def get_test(self):\n",
    "        return self.X_test, self.y_test"
   ]
  },
  {
   "cell_type": "code",
   "execution_count": 16,
   "metadata": {},
   "outputs": [],
   "source": [
    "class evaluator(object):\n",
    "    def __init__(self, data, seed=42):\n",
    "        self.data = data\n",
    "        self.rng = np.random.default_rng(seed)\n",
    "        \n",
    "    def R2(self, gp):\n",
    "        return gp.score(gp.X_train_, gp.y_train_)\n",
    "    \n",
    "    def Q2_cv(self, gp, cv_num=5):\n",
    "        x, y = np.copy(self.data.X_train), np.copy(self.data.y_train)\n",
    "        shuffle = self.rng.permutation(len(x))\n",
    "        x, y = x[shuffle], y[shuffle]\n",
    "        \n",
    "        chunk_size = int(len(x)/cv_num)\n",
    "        q2 = np.empty(cv_num)\n",
    "\n",
    "        for i in range(cv_num):\n",
    "            train_x = np.append(x[:chunk_size*i],x[chunk_size*(i+1):],0)\n",
    "            train_y = np.append(y[:chunk_size*i],y[chunk_size*(i+1):])\n",
    "\n",
    "            test_x = x[chunk_size*i:chunk_size*(i+1)]\n",
    "            test_y = y[chunk_size*i:chunk_size*(i+1)]\n",
    "            \n",
    "            n_ext = len(test_x)\n",
    "            n_tr = len(train_x)\n",
    "            mean_tr = np.mean(train_y)\n",
    "            y_pred = gp.fit(train_x, train_y).predict(test_x)\n",
    "\n",
    "            press = np.sum(np.power(y_pred-test_y,2))\n",
    "            tss = np.sum(np.power(train_y-mean_tr,2))\n",
    "\n",
    "            q2[i] = 1. - (press/n_ext) / (tss/n_tr)\n",
    "\n",
    "        print(q2)\n",
    "        return np.mean(q2)\n",
    "    \n",
    "    def Q2_ext(self, gp):\n",
    "        n_ext = len(self.data.X_test)\n",
    "        n_tr = len(self.data.X_train)\n",
    "        mean_tr = np.mean(self.data.y_train)\n",
    "        y_pred = gp.fit(self.data.X_train, self.data.y_train).predict(self.data.X_test)\n",
    "        \n",
    "        press = np.sum(np.power(y_pred-self.data.y_test,2))\n",
    "        tss = np.sum(np.power(self.data.y_train-mean_tr,2))\n",
    "        \n",
    "        return 1. - (press/n_ext) / (tss/n_tr)\n",
    "    \n",
    "    \n",
    "    def empirical_error(self, gp):\n",
    "        \n",
    "        y_pred, y_cov = gp.predict(self.data.X_test, return_cov=True)\n",
    "        y_std = np.sqrt(np.diag(y_cov))\n",
    "        residual = self.data.y_test-y_pred\n",
    "\n",
    "        # percentages within x sigma from wikipedia\n",
    "        true_remain = 1.-np.array([\n",
    "        0.382924922548026,\n",
    "        0.682689492137086,\n",
    "        0.866385597462284,\n",
    "        0.954499736103642,\n",
    "        0.987580669348448,\n",
    "        0.997300203936740,\n",
    "        0.999534741841929,\n",
    "        0.999936657516334,\n",
    "        0.999993204653751,\n",
    "        0.999999426696856,\n",
    "        0.999999962020875,\n",
    "        0.999999998026825,\n",
    "        0.999999999919680,\n",
    "        ])\n",
    "\n",
    "        print('empircal error checks...')\n",
    "        for i in range(1,6):\n",
    "            within = np.logical_and(\n",
    "                self.data.y_test-i*y_std<=y_pred, \n",
    "                y_pred<=self.data.y_test+i*y_std)\n",
    "            perc_out = (1.-np.sum(within)/len(within)).round(4)\n",
    "            print(perc_out,'% are beyond',i,'sigma, while there should be',true_remain[i-1].round(4),'%')\n",
    "            print('this comes from ',len(y_std)-np.sum(within),'outlier(s)\\n')\n",
    "            "
   ]
  },
  {
   "cell_type": "code",
   "execution_count": 17,
   "metadata": {},
   "outputs": [],
   "source": [
    "import numpy as np\n",
    "import matplotlib.pyplot as plt\n",
    "\n",
    "from sklearn.gaussian_process import GaussianProcessRegressor\n",
    "from sklearn.gaussian_process.kernels import WhiteKernel, Matern\n",
    "\n",
    "\"\"\"\n",
    "https://archive.ics.uci.edu/ml/datasets/QSAR+aquatic+toxicity\n",
    "\n",
    "1) TPSA(Tot)\n",
    "2) SAacc\n",
    "3) H-050\n",
    "4) MLOGP\n",
    "5) RDCHI\n",
    "6) GATS1p\n",
    "7) nN\n",
    "8) C-040\n",
    "9) quantitative response, LC50 [-LOG(mol/L)]\n",
    "\n",
    "\"\"\";"
   ]
  },
  {
   "cell_type": "markdown",
   "metadata": {},
   "source": [
    "Load up the data. For our purposes, this is an 8 dimensional regression problem"
   ]
  },
  {
   "cell_type": "code",
   "execution_count": 18,
   "metadata": {},
   "outputs": [],
   "source": [
    "data = data_reader()\n",
    "tester = evaluator(data)"
   ]
  },
  {
   "cell_type": "markdown",
   "metadata": {},
   "source": [
    "## Sklearn with only one fitting method"
   ]
  },
  {
   "cell_type": "code",
   "execution_count": 5,
   "metadata": {},
   "outputs": [],
   "source": [
    "kernel = 1.**2 * Matern(length_scale=.1*np.ones(8),nu=2.0)\\\n",
    "            + 0.1**2 * WhiteKernel(noise_level=1.)"
   ]
  },
  {
   "cell_type": "code",
   "execution_count": 6,
   "metadata": {},
   "outputs": [],
   "source": [
    "sklearn_gpr = GaussianProcessRegressor(kernel=kernel,\n",
    "                                  alpha=1e-5, \n",
    "                                  optimizer='fmin_l_bfgs_b', \n",
    "                                  n_restarts_optimizer=5, \n",
    "                                  normalize_y=False, \n",
    "                                  copy_X_train=True, \n",
    "                                  random_state=42)"
   ]
  },
  {
   "cell_type": "code",
   "execution_count": 7,
   "metadata": {},
   "outputs": [],
   "source": [
    "x, y = data.get_training()\n",
    "sklearn_gpr = sklearn_gpr.fit(x,y)"
   ]
  },
  {
   "cell_type": "code",
   "execution_count": 8,
   "metadata": {},
   "outputs": [
    {
     "data": {
      "text/plain": [
       "0.9501965003659342"
      ]
     },
     "execution_count": 8,
     "metadata": {},
     "output_type": "execute_result"
    }
   ],
   "source": [
    "tester.R2(sklearn_gpr)"
   ]
  },
  {
   "cell_type": "code",
   "execution_count": 9,
   "metadata": {},
   "outputs": [
    {
     "data": {
      "text/plain": [
       "1.67**2 * Matern(length_scale=[5.35e+03, 0.00133, 0.000658, 3.2, 1.72, 1.47, 0.209, 0.00817], nu=2) + 4.8**2 * WhiteKernel(noise_level=0.0141)"
      ]
     },
     "execution_count": 9,
     "metadata": {},
     "output_type": "execute_result"
    }
   ],
   "source": [
    "sklearn_gpr.kernel_"
   ]
  },
  {
   "cell_type": "markdown",
   "metadata": {},
   "source": [
    "### Cross validation scores"
   ]
  },
  {
   "cell_type": "code",
   "execution_count": 10,
   "metadata": {},
   "outputs": [
    {
     "name": "stdout",
     "output_type": "stream",
     "text": [
      "[0.44936541 0.5725588  0.53693668 0.23011427 0.31440954]\n"
     ]
    },
    {
     "data": {
      "text/plain": [
       "0.42067693987014343"
      ]
     },
     "execution_count": 10,
     "metadata": {},
     "output_type": "execute_result"
    }
   ],
   "source": [
    "tester.Q2_cv(sklearn_gpr)"
   ]
  },
  {
   "cell_type": "markdown",
   "metadata": {},
   "source": [
    "### Test Score"
   ]
  },
  {
   "cell_type": "code",
   "execution_count": 11,
   "metadata": {},
   "outputs": [
    {
     "data": {
      "text/plain": [
       "0.868542382448999"
      ]
     },
     "execution_count": 11,
     "metadata": {},
     "output_type": "execute_result"
    }
   ],
   "source": [
    "tester.Q2_ext(sklearn_gpr)"
   ]
  },
  {
   "cell_type": "markdown",
   "metadata": {},
   "source": [
    "This is a pretty ok score. Let's check if the errors are accurate and what the residuals look like"
   ]
  },
  {
   "cell_type": "code",
   "execution_count": 19,
   "metadata": {},
   "outputs": [
    {
     "name": "stdout",
     "output_type": "stream",
     "text": [
      "empircal error checks...\n",
      "0.0 % are beyond 1 sigma, while there should be 0.6171 %\n",
      "this comes from  0 outlier(s)\n",
      "\n",
      "0.0 % are beyond 2 sigma, while there should be 0.3173 %\n",
      "this comes from  0 outlier(s)\n",
      "\n",
      "0.0 % are beyond 3 sigma, while there should be 0.1336 %\n",
      "this comes from  0 outlier(s)\n",
      "\n",
      "0.0 % are beyond 4 sigma, while there should be 0.0455 %\n",
      "this comes from  0 outlier(s)\n",
      "\n",
      "0.0 % are beyond 5 sigma, while there should be 0.0124 %\n",
      "this comes from  0 outlier(s)\n",
      "\n"
     ]
    }
   ],
   "source": [
    "tester.empirical_error(sklearn_gpr)"
   ]
  },
  {
   "cell_type": "markdown",
   "metadata": {},
   "source": [
    "So from this it looks like the errors are pretty big - it covers 100% of the data in 1 sigma, when it should be roughly 2/3. "
   ]
  },
  {
   "cell_type": "code",
   "execution_count": 20,
   "metadata": {},
   "outputs": [],
   "source": [
    "x, y = data.get_test()"
   ]
  },
  {
   "cell_type": "code",
   "execution_count": 21,
   "metadata": {},
   "outputs": [],
   "source": [
    "y_pred, y_cov = sklearn_gpr.predict(x, return_cov=True)"
   ]
  },
  {
   "cell_type": "code",
   "execution_count": 22,
   "metadata": {},
   "outputs": [],
   "source": [
    "y_err = np.sqrt(np.diag(y_cov))"
   ]
  },
  {
   "cell_type": "code",
   "execution_count": 23,
   "metadata": {},
   "outputs": [],
   "source": [
    "useless = np.arange(len(x))"
   ]
  },
  {
   "cell_type": "code",
   "execution_count": 24,
   "metadata": {},
   "outputs": [
    {
     "data": {
      "image/png": "[encoded data removed]",
      "text/plain": [
       "<Figure size 432x288 with 1 Axes>"
      ]
     },
     "metadata": {
      "needs_background": "light"
     },
     "output_type": "display_data"
    }
   ],
   "source": [
    "plt.errorbar(useless, y_pred-y, yerr=y_err, fmt='x');"
   ]
  },
  {
   "cell_type": "markdown",
   "metadata": {},
   "source": [
    "So we can see that this is what's happening. The errors are quite large"
   ]
  },
  {
   "cell_type": "markdown",
   "metadata": {},
   "source": [
    "## Sklearn with many optima"
   ]
  },
  {
   "cell_type": "code",
   "execution_count": 25,
   "metadata": {},
   "outputs": [],
   "source": [
    "from hgdl.hgdl import HGDL"
   ]
  },
  {
   "cell_type": "code",
   "execution_count": 30,
   "metadata": {},
   "outputs": [],
   "source": [
    "from scipy.optimize import rosen, rosen_der, rosen_hess"
   ]
  },
  {
   "cell_type": "code",
   "execution_count": 31,
   "metadata": {},
   "outputs": [
    {
     "name": "stderr",
     "output_type": "stream",
     "text": [
      "distributed.worker - WARNING -  Compute Failed\n",
      "Function:  newton\n",
      "args:      (array([1.57579376, 1.27631226]))\n",
      "kwargs:    {}\n",
      "Exception: TypeError(\"'NoneType' object is not callable\")\n",
      "\n",
      "distributed.worker - WARNING -  Compute Failed\n",
      "Function:  newton\n",
      "args:      (array([-0.71746796,  3.78060116]))\n",
      "kwargs:    {}\n",
      "Exception: TypeError(\"'NoneType' object is not callable\")\n",
      "\n",
      "distributed.worker - WARNING -  Compute Failed\n",
      "Function:  newton\n",
      "args:      (array([1.28341911, 2.07457875]))\n",
      "kwargs:    {}\n",
      "Exception: TypeError(\"'NoneType' object is not callable\")\n",
      "\n",
      "distributed.worker - WARNING -  Compute Failed\n",
      "Function:  newton\n",
      "args:      (array([-0.6156591 , -0.94652656]))\n",
      "kwargs:    {}\n",
      "Exception: TypeError(\"'NoneType' object is not callable\")\n",
      "\n",
      "distributed.worker - WARNING -  Compute Failed\n",
      "Function:  newton\n",
      "args:      (array([0.11239407, 3.3408849 ]))\n",
      "kwargs:    {}\n",
      "Exception: TypeError(\"'NoneType' object is not callable\")\n",
      "\n",
      "distributed.worker - WARNING -  Compute Failed\n",
      "Function:  newton\n",
      "args:      (array([0.93159536, 2.40485452]))\n",
      "kwargs:    {}\n",
      "Exception: TypeError(\"'NoneType' object is not callable\")\n",
      "\n",
      "distributed.worker - WARNING -  Compute Failed\n",
      "Function:  newton\n",
      "args:      (array([1.91209407, 3.03809009]))\n",
      "kwargs:    {}\n",
      "Exception: TypeError(\"'NoneType' object is not callable\")\n",
      "\n",
      "distributed.worker - WARNING -  Compute Failed\n",
      "Function:  newton\n",
      "args:      (array([ 0.3302426, -2.9548515]))\n",
      "kwargs:    {}\n",
      "Exception: TypeError(\"'NoneType' object is not callable\")\n",
      "\n",
      "distributed.worker - WARNING -  Compute Failed\n",
      "Function:  newton\n",
      "args:      (array([ 0.66375436, -4.4256447 ]))\n",
      "kwargs:    {}\n",
      "Exception: TypeError(\"'NoneType' object is not callable\")\n",
      "\n",
      "distributed.worker - WARNING -  Compute Failed\n",
      "Function:  newton\n",
      "args:      (array([1.48289352, 0.68497959]))\n",
      "kwargs:    {}\n",
      "Exception: TypeError(\"'NoneType' object is not callable\")\n",
      "\n",
      "distributed.worker - WARNING -  Compute Failed\n",
      "Function:  newton\n",
      "args:      (array([ 1.33515049, -3.24825163]))\n",
      "kwargs:    {}\n",
      "Exception: TypeError(\"'NoneType' object is not callable\")\n",
      "\n",
      "distributed.worker - WARNING -  Compute Failed\n",
      "Function:  newton\n",
      "args:      (array([ 1.27426322, -1.80926629]))\n",
      "kwargs:    {}\n",
      "Exception: TypeError(\"'NoneType' object is not callable\")\n",
      "\n",
      "distributed.worker - WARNING -  Compute Failed\n",
      "Function:  newton\n",
      "args:      (array([ 1.32186815, -1.05009404]))\n",
      "kwargs:    {}\n",
      "Exception: TypeError(\"'NoneType' object is not callable\")\n",
      "\n",
      "distributed.worker - WARNING -  Compute Failed\n",
      "Function:  newton\n",
      "args:      (array([ 0.40016301, -4.60576611]))\n",
      "kwargs:    {}\n",
      "Exception: TypeError(\"'NoneType' object is not callable\")\n",
      "\n",
      "distributed.worker - WARNING -  Compute Failed\n",
      "Function:  newton\n",
      "args:      (array([-0.53713152,  1.14744058]))\n",
      "kwargs:    {}\n",
      "Exception: TypeError(\"'NoneType' object is not callable\")\n",
      "\n",
      "distributed.worker - WARNING -  Compute Failed\n",
      "Function:  newton\n",
      "args:      (array([1.23428647, 3.70758759]))\n",
      "kwargs:    {}\n",
      "Exception: TypeError(\"'NoneType' object is not callable\")\n",
      "\n",
      "distributed.worker - WARNING -  Compute Failed\n",
      "Function:  newton\n",
      "args:      (array([-0.02252393, -1.66586265]))\n",
      "kwargs:    {}\n",
      "Exception: TypeError(\"'NoneType' object is not callable\")\n",
      "\n",
      "distributed.worker - WARNING -  Compute Failed\n",
      "Function:  newton\n",
      "args:      (array([ 0.40866743, -3.29475777]))\n",
      "kwargs:    {}\n",
      "Exception: TypeError(\"'NoneType' object is not callable\")\n",
      "\n",
      "distributed.worker - WARNING -  Compute Failed\n",
      "Function:  newton\n",
      "args:      (array([-0.61023548, -0.71865566]))\n",
      "kwargs:    {}\n",
      "Exception: TypeError(\"'NoneType' object is not callable\")\n",
      "\n",
      "distributed.worker - WARNING -  Compute Failed\n",
      "Function:  newton\n",
      "args:      (array([-0.31927195,  1.02832595]))\n",
      "kwargs:    {}\n",
      "Exception: TypeError(\"'NoneType' object is not callable\")\n",
      "\n",
      "distributed.worker - WARNING -  Compute Failed\n",
      "Function:  newton\n",
      "args:      (array([0.31145576, 2.49410376]))\n",
      "kwargs:    {}\n",
      "Exception: TypeError(\"'NoneType' object is not callable\")\n",
      "\n",
      "distributed.worker - WARNING -  Compute Failed\n",
      "Function:  newton\n",
      "args:      (array([ 1.10079531, -2.18870023]))\n",
      "kwargs:    {}\n",
      "Exception: TypeError(\"'NoneType' object is not callable\")\n",
      "\n",
      "distributed.worker - WARNING -  Compute Failed\n",
      "Function:  newton\n",
      "args:      (array([1.4967794 , 2.24287922]))\n",
      "kwargs:    {}\n",
      "Exception: TypeError(\"'NoneType' object is not callable\")\n",
      "\n",
      "distributed.worker - WARNING -  Compute Failed\n",
      "Function:  newton\n",
      "args:      (array([ 0.16243514, -2.40504706]))\n",
      "kwargs:    {}\n",
      "Exception: TypeError(\"'NoneType' object is not callable\")\n",
      "\n",
      "distributed.worker - WARNING -  Compute Failed\n",
      "Function:  newton\n",
      "args:      (array([ 1.04748651, -3.74222765]))\n",
      "kwargs:    {}\n",
      "Exception: TypeError(\"'NoneType' object is not callable\")\n",
      "\n",
      "distributed.worker - WARNING -  Compute Failed\n",
      "Function:  run_epoch\n",
      "args:      (<hgdl.info.info object at 0x7f95c0496d10>)\n",
      "kwargs:    {}\n",
      "Exception: TypeError(\"'NoneType' object is not callable\")\n",
      "\n"
     ]
    }
   ],
   "source": [
    "h = HGDL(rosen, rosen_hess, np.array([[-1,2.],[-5,4]]))"
   ]
  },
  {
   "cell_type": "code",
   "execution_count": 32,
   "metadata": {},
   "outputs": [
    {
     "data": {
      "text/plain": [
       "True"
      ]
     },
     "execution_count": 32,
     "metadata": {},
     "output_type": "execute_result"
    }
   ],
   "source": [
    "isinstance(h, HGDL)"
   ]
  },
  {
   "cell_type": "code",
   "execution_count": null,
   "metadata": {},
   "outputs": [],
   "source": [
    "from fit import fit\n",
    "GaussianProcessRegressor.fit = fit"
   ]
  },
  {
   "cell_type": "markdown",
   "metadata": {},
   "source": [
    "import numpy as np\n",
    "  \n",
    "from matplotlib import pyplot as plt\n",
    "from matplotlib.colors import LogNorm\n",
    "\n",
    "from sklearn.gaussian_process import GaussianProcessRegressor\n",
    "from sklearn.gaussian_process.kernels import RBF, WhiteKernel\n",
    "\n",
    "def main():\n",
    "    # declare that we should use my fitting method\n",
    "    from fit import fit\n",
    "    GaussianProcessRegressor.fit = fit\n",
    "    from data_reader import data_reader\n",
    "    data = data_reader(42)\n",
    "    x, y = data.get_training()\n",
    "\n",
    "    print('HGDL -----------------------------------------------------------')\n",
    "    from sklearn.gaussian_process.kernels import WhiteKernel, Matern\n",
    "    kernel = 1.**2 * Matern(length_scale=.01*np.ones(x.shape[1]),nu=2.0)\\\n",
    "            + 1.**2 * WhiteKernel(noise_level=1.)\n",
    "    GPs = GaussianProcessRegressor(kernel=kernel,\n",
    "                                  alpha=1e-5,\n",
    "                                  optimizer='hgdl',\n",
    "                                  random_state=42).fit(x,y)\n",
    "    for i, gp in enumerate(GPs):\n",
    "        print('gp - HGDL (',i+1,'): ', gp, '\\nkernel:', gp.kernel_)\n",
    "        print('theta:', gp.kernel_.theta, np.exp(gp.kernel_.theta))\n",
    "        print('likelihood:', gp.log_marginal_likelihood_value_)\n",
    "\n",
    "    key = str(np.random.randint(low=0,high=10000))\n",
    "    with open('data/GPs'+key+'.pkl','wb') as file:\n",
    "        import pickle\n",
    "        pickle.dump(GPs, file)\n",
    "\n",
    "    thetas = np.array([gp.kernel_.theta for gp in GPs])\n",
    "    print(thetas)\n",
    "    np.save('data/hgdl_thetas', thetas)\n",
    "\n",
    "\n",
    "if __name__ == \"__main__\":\n",
    "    main()\n",
    "~                                                                                                                      \n",
    "~                                                                                                                      \n",
    "~                                                                                                                      \n",
    "~                     "
   ]
  },
  {
   "cell_type": "code",
   "execution_count": 10,
   "metadata": {},
   "outputs": [],
   "source": [
    "sklearn_gpr = sklearn_gpr.fit(x,y)"
   ]
  },
  {
   "cell_type": "code",
   "execution_count": 11,
   "metadata": {},
   "outputs": [
    {
     "data": {
      "text/plain": [
       "-440.91168623681625"
      ]
     },
     "execution_count": 11,
     "metadata": {},
     "output_type": "execute_result"
    }
   ],
   "source": [
    "sklearn_gpr.log_marginal_likelihood_value_"
   ]
  },
  {
   "cell_type": "code",
   "execution_count": 12,
   "metadata": {},
   "outputs": [
    {
     "data": {
      "text/plain": [
       "0.954**2 * Matern(length_scale=[0.458, 1.19, 1.55, 1.59, 1.09, 4.21, 0.896, 0.1], nu=2) + 0.227**2 * WhiteKernel(noise_level=2.76)"
      ]
     },
     "execution_count": 12,
     "metadata": {},
     "output_type": "execute_result"
    }
   ],
   "source": [
    "sklearn_gpr.kernel_"
   ]
  },
  {
   "cell_type": "code",
   "execution_count": 13,
   "metadata": {},
   "outputs": [
    {
     "name": "stdout",
     "output_type": "stream",
     "text": [
      "train ---------------------------------------\n"
     ]
    },
    {
     "data": {
      "image/png": "[encoded data removed]",
      "text/plain": [
       "<Figure size 432x288 with 1 Axes>"
      ]
     },
     "metadata": {
      "needs_background": "light"
     },
     "output_type": "display_data"
    },
    {
     "data": {
      "image/png": "[encoded data removed]",
      "text/plain": [
       "<Figure size 432x288 with 1 Axes>"
      ]
     },
     "metadata": {
      "needs_background": "light"
     },
     "output_type": "display_data"
    },
    {
     "data": {
      "image/png": "[encoded data removed]",
      "text/plain": [
       "<Figure size 432x288 with 1 Axes>"
      ]
     },
     "metadata": {
      "needs_background": "light"
     },
     "output_type": "display_data"
    },
    {
     "name": "stdout",
     "output_type": "stream",
     "text": [
      "calculating percentage covered when 1,2,3,&4 sigma away\n",
      "sigma: 1 0.911\n",
      "sigma: 2 0.993\n",
      "sigma: 3 1.0\n",
      "sigma: 4 1.0\n",
      "test ---------------------------------------\n"
     ]
    },
    {
     "data": {
      "image/png": "[encoded data removed]",
      "text/plain": [
       "<Figure size 432x288 with 1 Axes>"
      ]
     },
     "metadata": {
      "needs_background": "light"
     },
     "output_type": "display_data"
    },
    {
     "data": {
      "image/png": "[encoded data removed]",
      "text/plain": [
       "<Figure size 432x288 with 1 Axes>"
      ]
     },
     "metadata": {
      "needs_background": "light"
     },
     "output_type": "display_data"
    },
    {
     "data": {
      "image/png": "[encoded data removed]",
      "text/plain": [
       "<Figure size 432x288 with 1 Axes>"
      ]
     },
     "metadata": {
      "needs_background": "light"
     },
     "output_type": "display_data"
    },
    {
     "name": "stdout",
     "output_type": "stream",
     "text": [
      "calculating percentage covered when 1,2,3,&4 sigma away\n",
      "sigma: 1 0.736\n",
      "sigma: 2 0.918\n",
      "sigma: 3 0.982\n",
      "sigma: 4 0.991\n",
      "f1 : 0.55\n",
      "f2 : 0.54\n",
      "f3 : 0.86\n"
     ]
    }
   ],
   "source": [
    "data.info(sklearn_gpr)"
   ]
  },
  {
   "cell_type": "markdown",
   "metadata": {},
   "source": [
    "So from this we can get what looks like a pretty good score for the problem. There are a few things that seem odd though. First, the test set has more outliers. It makes sense that there would be outliers because it has not trained on these points and has trouble generalizing. Gaussian proecesses should estimate the error at a given point though, which means that we can test if the errors are appropriate. From the percentages covered, we can see that there are some points more than 4 sigma away. For a test set that has only about 110 examples, this is quite unlikely, and means instead that the errors are too small. This matters because a component of this problem is understanding the domain of applicability"
   ]
  },
  {
   "cell_type": "markdown",
   "metadata": {},
   "source": [
    "## Sklearn with many models given by HGDL"
   ]
  },
  {
   "cell_type": "code",
   "execution_count": 14,
   "metadata": {},
   "outputs": [],
   "source": [
    "import os"
   ]
  },
  {
   "cell_type": "code",
   "execution_count": 15,
   "metadata": {},
   "outputs": [],
   "source": [
    "import pickle"
   ]
  },
  {
   "cell_type": "code",
   "execution_count": 16,
   "metadata": {},
   "outputs": [],
   "source": [
    "hgdl_GP_paths = [x for x in os.listdir('data') if x.endswith('.pkl')]"
   ]
  },
  {
   "cell_type": "code",
   "execution_count": 17,
   "metadata": {},
   "outputs": [],
   "source": [
    "with open('data/'+hgdl_GP_paths[0], 'rb') as file:\n",
    "    GPs = pickle.load(file)"
   ]
  },
  {
   "cell_type": "code",
   "execution_count": 18,
   "metadata": {},
   "outputs": [],
   "source": [
    "GPs = sorted(GPs, key=lambda x: x.log_marginal_likelihood_value_)"
   ]
  },
  {
   "cell_type": "code",
   "execution_count": 25,
   "metadata": {},
   "outputs": [
    {
     "name": "stdout",
     "output_type": "stream",
     "text": [
      "\n",
      "\n",
      "gp: 1 ---------------------------\n",
      "f1 : 0.01\n",
      "f2 : -0.0\n",
      "f3 : 0.75\n",
      "plotting last cross validation set as an example\n"
     ]
    },
    {
     "data": {
      "image/png": "[encoded data removed]",
      "text/plain": [
       "<Figure size 432x288 with 1 Axes>"
      ]
     },
     "metadata": {
      "needs_background": "light"
     },
     "output_type": "display_data"
    },
    {
     "data": {
      "image/png": "[encoded data removed]",
      "text/plain": [
       "<Figure size 432x288 with 1 Axes>"
      ]
     },
     "metadata": {
      "needs_background": "light"
     },
     "output_type": "display_data"
    },
    {
     "name": "stdout",
     "output_type": "stream",
     "text": [
      "calculating percentage covered when 1,2,3,&4 sigma away\n",
      "sigma: 1 0.724\n",
      "sigma: 2 0.908\n",
      "sigma: 3 1.0\n",
      "sigma: 4 1.0\n",
      "\n",
      "\n",
      "gp: 2 ---------------------------\n",
      "f1 : 0.01\n",
      "f2 : -0.0\n",
      "f3 : 0.75\n",
      "plotting last cross validation set as an example\n"
     ]
    },
    {
     "data": {
      "image/png": "[encoded data removed]",
      "text/plain": [
       "<Figure size 432x288 with 1 Axes>"
      ]
     },
     "metadata": {
      "needs_background": "light"
     },
     "output_type": "display_data"
    },
    {
     "data": {
      "image/png": "[encoded data removed]",
      "text/plain": [
       "<Figure size 432x288 with 1 Axes>"
      ]
     },
     "metadata": {
      "needs_background": "light"
     },
     "output_type": "display_data"
    },
    {
     "name": "stdout",
     "output_type": "stream",
     "text": [
      "calculating percentage covered when 1,2,3,&4 sigma away\n",
      "sigma: 1 0.724\n",
      "sigma: 2 0.908\n",
      "sigma: 3 1.0\n",
      "sigma: 4 1.0\n",
      "\n",
      "\n",
      "gp: 3 ---------------------------\n",
      "f1 : 0.02\n",
      "f2 : 0.01\n",
      "f3 : 0.75\n",
      "plotting last cross validation set as an example\n"
     ]
    },
    {
     "data": {
      "image/png": "[encoded data removed]",
      "text/plain": [
       "<Figure size 432x288 with 1 Axes>"
      ]
     },
     "metadata": {
      "needs_background": "light"
     },
     "output_type": "display_data"
    },
    {
     "data": {
      "image/png": "[encoded data removed]",
      "text/plain": [
       "<Figure size 432x288 with 1 Axes>"
      ]
     },
     "metadata": {
      "needs_background": "light"
     },
     "output_type": "display_data"
    },
    {
     "name": "stdout",
     "output_type": "stream",
     "text": [
      "calculating percentage covered when 1,2,3,&4 sigma away\n",
      "sigma: 1 0.724\n",
      "sigma: 2 0.908\n",
      "sigma: 3 1.0\n",
      "sigma: 4 1.0\n",
      "\n",
      "\n",
      "gp: 4 ---------------------------\n",
      "f1 : 0.14\n",
      "f2 : 0.13\n",
      "f3 : 0.78\n",
      "plotting last cross validation set as an example\n"
     ]
    },
    {
     "data": {
      "image/png": "[encoded data removed]",
      "text/plain": [
       "<Figure size 432x288 with 1 Axes>"
      ]
     },
     "metadata": {
      "needs_background": "light"
     },
     "output_type": "display_data"
    },
    {
     "data": {
      "image/png": "[encoded data removed]",
      "text/plain": [
       "<Figure size 432x288 with 1 Axes>"
      ]
     },
     "metadata": {
      "needs_background": "light"
     },
     "output_type": "display_data"
    },
    {
     "name": "stdout",
     "output_type": "stream",
     "text": [
      "calculating percentage covered when 1,2,3,&4 sigma away\n",
      "sigma: 1 0.724\n",
      "sigma: 2 0.908\n",
      "sigma: 3 0.989\n",
      "sigma: 4 1.0\n",
      "\n",
      "\n",
      "gp: 5 ---------------------------\n",
      "f1 : 0.15\n",
      "f2 : 0.14\n",
      "f3 : 0.78\n",
      "plotting last cross validation set as an example\n"
     ]
    },
    {
     "data": {
      "image/png": "[encoded data removed]",
      "text/plain": [
       "<Figure size 432x288 with 1 Axes>"
      ]
     },
     "metadata": {
      "needs_background": "light"
     },
     "output_type": "display_data"
    },
    {
     "data": {
      "image/png": "[encoded data removed]",
      "text/plain": [
       "<Figure size 432x288 with 1 Axes>"
      ]
     },
     "metadata": {
      "needs_background": "light"
     },
     "output_type": "display_data"
    },
    {
     "name": "stdout",
     "output_type": "stream",
     "text": [
      "calculating percentage covered when 1,2,3,&4 sigma away\n",
      "sigma: 1 0.724\n",
      "sigma: 2 0.908\n",
      "sigma: 3 0.989\n",
      "sigma: 4 1.0\n",
      "\n",
      "\n",
      "gp: 6 ---------------------------\n",
      "f1 : 0.48\n",
      "f2 : 0.47\n",
      "f3 : 0.87\n",
      "plotting last cross validation set as an example\n"
     ]
    },
    {
     "data": {
      "image/png": "[encoded data removed]",
      "text/plain": [
       "<Figure size 432x288 with 1 Axes>"
      ]
     },
     "metadata": {
      "needs_background": "light"
     },
     "output_type": "display_data"
    },
    {
     "data": {
      "image/png": "[encoded data removed]",
      "text/plain": [
       "<Figure size 432x288 with 1 Axes>"
      ]
     },
     "metadata": {
      "needs_background": "light"
     },
     "output_type": "display_data"
    },
    {
     "name": "stdout",
     "output_type": "stream",
     "text": [
      "calculating percentage covered when 1,2,3,&4 sigma away\n",
      "sigma: 1 0.713\n",
      "sigma: 2 0.885\n",
      "sigma: 3 0.977\n",
      "sigma: 4 1.0\n"
     ]
    }
   ],
   "source": [
    "chunk = int(len(x)/5)\n",
    "for i, gp in enumerate(GPs):\n",
    "    f1, f2, f3 = 0, 0, 0\n",
    "    print('\\n\\ngp:',i+1,'---------------------------')\n",
    "    for i in range(5):\n",
    "        # get the training data for that cross validation split\n",
    "        x_train = np.append(x[:chunk*i],x[chunk*(i+1):],0)\n",
    "        y_train = np.append(y[:chunk*i],y[chunk*(i+1):],0)\n",
    "        x_test = x[chunk*i:chunk*(i+1)]\n",
    "        y_test = y[chunk*i:chunk*(i+1)]\n",
    "        # train\n",
    "        gp = gp.fit(x_train, y_train)\n",
    "        # evaluate\n",
    "\n",
    "        press = np.sum(np.power(y_test-gp.predict(x_test),2))\n",
    "        ss_tr = np.sum(np.power(y_test-np.mean(y_train),2))\n",
    "        ss_ext = np.sum(np.power(y_test-np.mean(y_test),2))\n",
    "        tss = np.sum(np.power(y_train-np.mean(y_train),2))\n",
    "        tmp1 = 1. - press/ss_tr\n",
    "        tmp2 = 1. - press/ss_ext\n",
    "        tmp3 = 1. - press * x_train.shape[1] / (tss*x_test.shape[1])\n",
    "#         print('scores this round:')\n",
    "#         for f in ['tmp1','tmp2','tmp3']:\n",
    "#             print(f,':', eval(f).round(2))\n",
    "        f1, f2, f3 = f1+tmp1/5., f2+tmp2/5., f3+tmp3/5.\n",
    "    for f in ['f1','f2','f3']:\n",
    "        print(f,':', eval(f).round(2))\n",
    "    \n",
    "    print('plotting last cross validation set as an example')\n",
    "    y_pred, y_cov = gp.predict(x_test, return_cov=True)\n",
    "    y_std = np.sqrt(np.diag(y_cov))\n",
    "    residual = y_test-y_pred\n",
    "\n",
    "    # make scatter plots\n",
    "    useless = np.arange(len(y_test))\n",
    "    plt.title('residual: y-y_pred')\n",
    "    plt.scatter(useless, residual)\n",
    "    plt.show()\n",
    "    plt.errorbar(useless, residual, yerr=y_std, fmt='.')\n",
    "    plt.show()\n",
    "\n",
    "    print('calculating percentage covered when 1,2,3,&4 sigma away')\n",
    "    for i in range(1,5):\n",
    "        within = np.logical_and(y_test-i*y_std<=y_pred, y_pred<=y_test+i*y_std)\n",
    "        print('sigma:',i,(np.sum(within)/len(within)).round(3))\n"
   ]
  },
  {
   "cell_type": "code",
   "execution_count": null,
   "metadata": {},
   "outputs": [],
   "source": []
  },
  {
   "cell_type": "code",
   "execution_count": null,
   "metadata": {},
   "outputs": [],
   "source": []
  },
  {
   "cell_type": "code",
   "execution_count": null,
   "metadata": {},
   "outputs": [],
   "source": []
  },
  {
   "cell_type": "code",
   "execution_count": null,
   "metadata": {},
   "outputs": [],
   "source": []
  },
  {
   "cell_type": "code",
   "execution_count": null,
   "metadata": {},
   "outputs": [],
   "source": []
  },
  {
   "cell_type": "code",
   "execution_count": null,
   "metadata": {},
   "outputs": [],
   "source": []
  },
  {
   "cell_type": "code",
   "execution_count": null,
   "metadata": {},
   "outputs": [],
   "source": []
  },
  {
   "cell_type": "code",
   "execution_count": 15,
   "metadata": {},
   "outputs": [],
   "source": [
    "kernel = 1.**2 * Matern(length_scale=.1*np.ones(x.shape[1]),nu=2.0)\\\n",
    "            + 0.1**2 * Matern(length_scale=.1*np.ones(x.shape[1]),nu=2) * WhiteKernel(noise_level=1.)"
   ]
  },
  {
   "cell_type": "code",
   "execution_count": 16,
   "metadata": {},
   "outputs": [],
   "source": [
    "sklearn_gpr = GaussianProcessRegressor(kernel=kernel,\n",
    "                                  alpha=1e-5, \n",
    "                                  optimizer='fmin_l_bfgs_b', \n",
    "                                  n_restarts_optimizer=5, \n",
    "                                  normalize_y=False, \n",
    "                                  copy_X_train=True, \n",
    "                                  random_state=42)"
   ]
  },
  {
   "cell_type": "markdown",
   "metadata": {},
   "source": [
    "### Cross validation scores"
   ]
  },
  {
   "cell_type": "code",
   "execution_count": 17,
   "metadata": {},
   "outputs": [
    {
     "name": "stdout",
     "output_type": "stream",
     "text": [
      "f1 : 0.49\n",
      "f2 : 0.48\n",
      "f3 : 0.87\n"
     ]
    }
   ],
   "source": [
    "chunk = int(len(x)/5)\n",
    "f1, f2, f3 = 0, 0, 0\n",
    "\n",
    "for i in range(5):\n",
    "    # get the training data for that cross validation split\n",
    "    x_train = np.append(x[:chunk*i],x[chunk*(i+1):],0)\n",
    "    y_train = np.append(y[:chunk*i],y[chunk*(i+1):],0)\n",
    "    x_test = x[chunk*i:chunk*(i+1)]\n",
    "    y_test = y[chunk*i:chunk*(i+1)]\n",
    "    # train\n",
    "    sklearn_gpr.fit(x_train, y_train)\n",
    "    # evaluate\n",
    "\n",
    "    press = np.sum(np.power(y_test-sklearn_gpr.predict(x_test),2))\n",
    "    ss_tr = np.sum(np.power(y_test-np.mean(y_train),2))\n",
    "    ss_ext = np.sum(np.power(y_test-np.mean(y_test),2))\n",
    "    tss = np.sum(np.power(y_train-np.mean(y_train),2))\n",
    "    tmp1 = 1. - press/ss_tr\n",
    "    tmp2 = 1. - press/ss_ext\n",
    "    tmp3 = 1. - press * x_train.shape[1] / (tss*x_test.shape[1])\n",
    "#     print('scores this round:')\n",
    "#     for f in ['tmp1','tmp2','tmp3']:\n",
    "#         print(f,':', eval(f).round(2))\n",
    "    f1, f2, f3 = f1+tmp1/5., f2+tmp2/5., f3+tmp3/5.\n",
    "for f in ['f1','f2','f3']:\n",
    "    print(f,':', eval(f).round(2))"
   ]
  },
  {
   "cell_type": "markdown",
   "metadata": {},
   "source": [
    "So we can see that sklearn performs seemingly pretty well on this dataset. I have already tuned the initial parameters to get good scores on the cross validation"
   ]
  },
  {
   "cell_type": "markdown",
   "metadata": {},
   "source": [
    "### Test scores"
   ]
  },
  {
   "cell_type": "code",
   "execution_count": 18,
   "metadata": {},
   "outputs": [],
   "source": [
    "sklearn_gpr = sklearn_gpr.fit(x,y)"
   ]
  },
  {
   "cell_type": "code",
   "execution_count": 19,
   "metadata": {},
   "outputs": [
    {
     "data": {
      "text/plain": [
       "-440.9116862185076"
      ]
     },
     "execution_count": 19,
     "metadata": {},
     "output_type": "execute_result"
    }
   ],
   "source": [
    "sklearn_gpr.log_marginal_likelihood_value_"
   ]
  },
  {
   "cell_type": "code",
   "execution_count": 20,
   "metadata": {},
   "outputs": [
    {
     "data": {
      "text/plain": [
       "0.954**2 * Matern(length_scale=[0.458, 1.19, 1.55, 1.59, 1.09, 4.21, 0.896, 0.1], nu=2) + 0.224**2 * Matern(length_scale=[0.1, 0.1, 0.1, 0.1, 0.1, 0.1, 0.1, 0.1], nu=2) * WhiteKernel(noise_level=2.84)"
      ]
     },
     "execution_count": 20,
     "metadata": {},
     "output_type": "execute_result"
    }
   ],
   "source": [
    "sklearn_gpr.kernel_"
   ]
  },
  {
   "cell_type": "code",
   "execution_count": 21,
   "metadata": {},
   "outputs": [
    {
     "name": "stdout",
     "output_type": "stream",
     "text": [
      "train ---------------------------------------\n"
     ]
    },
    {
     "data": {
      "image/png": "[encoded data removed]",
      "text/plain": [
       "<Figure size 432x288 with 1 Axes>"
      ]
     },
     "metadata": {
      "needs_background": "light"
     },
     "output_type": "display_data"
    },
    {
     "data": {
      "image/png": "[encoded data removed]",
      "text/plain": [
       "<Figure size 432x288 with 1 Axes>"
      ]
     },
     "metadata": {
      "needs_background": "light"
     },
     "output_type": "display_data"
    },
    {
     "data": {
      "image/png": "[encoded data removed]",
      "text/plain": [
       "<Figure size 432x288 with 1 Axes>"
      ]
     },
     "metadata": {
      "needs_background": "light"
     },
     "output_type": "display_data"
    },
    {
     "name": "stdout",
     "output_type": "stream",
     "text": [
      "calculating percentage covered when 1,2,3,&4 sigma away\n",
      "sigma: 1 0.911\n",
      "sigma: 2 0.993\n",
      "sigma: 3 1.0\n",
      "sigma: 4 1.0\n",
      "test ---------------------------------------\n"
     ]
    },
    {
     "data": {
      "image/png": "[encoded data removed]",
      "text/plain": [
       "<Figure size 432x288 with 1 Axes>"
      ]
     },
     "metadata": {
      "needs_background": "light"
     },
     "output_type": "display_data"
    },
    {
     "data": {
      "image/png": "[encoded data removed]",
      "text/plain": [
       "<Figure size 432x288 with 1 Axes>"
      ]
     },
     "metadata": {
      "needs_background": "light"
     },
     "output_type": "display_data"
    },
    {
     "data": {
      "image/png": "[encoded data removed]",
      "text/plain": [
       "<Figure size 432x288 with 1 Axes>"
      ]
     },
     "metadata": {
      "needs_background": "light"
     },
     "output_type": "display_data"
    },
    {
     "name": "stdout",
     "output_type": "stream",
     "text": [
      "calculating percentage covered when 1,2,3,&4 sigma away\n",
      "sigma: 1 0.736\n",
      "sigma: 2 0.918\n",
      "sigma: 3 0.982\n",
      "sigma: 4 0.991\n",
      "f1 : 0.55\n",
      "f2 : 0.54\n",
      "f3 : 0.86\n"
     ]
    }
   ],
   "source": [
    "data.info(sklearn_gpr)"
   ]
  },
  {
   "cell_type": "code",
   "execution_count": null,
   "metadata": {},
   "outputs": [],
   "source": []
  },
  {
   "cell_type": "code",
   "execution_count": null,
   "metadata": {},
   "outputs": [],
   "source": []
  }
 ],
 "metadata": {
  "kernelspec": {
   "display_name": "Python 3",
   "language": "python",
   "name": "python3"
  },
  "language_info": {
   "codemirror_mode": {
    "name": "ipython",
    "version": 3
   },
   "file_extension": ".py",
   "mimetype": "text/x-python",
   "name": "python",
   "nbconvert_exporter": "python",
   "pygments_lexer": "ipython3",
   "version": "3.7.7"
  }
 },
 "nbformat": 4,
 "nbformat_minor": 4
}
