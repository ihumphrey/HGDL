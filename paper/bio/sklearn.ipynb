{
 "cells": [
  {
   "cell_type": "markdown",
   "metadata": {},
   "source": [
    "# Bio dataset - 1 optima vs Many"
   ]
  },
  {
   "cell_type": "markdown",
   "metadata": {},
   "source": [
    "These are just helper classes so we can reuse code"
   ]
  },
  {
   "cell_type": "code",
   "execution_count": null,
   "metadata": {},
   "outputs": [],
   "source": [
    "import numpy as np\n",
    "import pandas as pd\n",
    "from sklearn.neighbors import KDTree\n",
    "\n",
    "class data_reader(object):\n",
    "    def __init__(self, seed=42):\n",
    "        data = pd.read_csv('data/toxicity_data.csv')\n",
    "\n",
    "        train = data[(data['train/test']=='train')].to_numpy()[:,3:].astype(np.float64)\n",
    "        test = data[(data['train/test']=='test')].to_numpy()[:,3:].astype(np.float64)\n",
    "        \n",
    "        test -= np.mean(train, 0)\n",
    "        test /= np.std(train, 0)\n",
    "        train -= np.mean(train, 0)\n",
    "        test /= np.std(train, 0)\n",
    "        \n",
    "        # clear out the stuff that cassotti 2014 cuts\n",
    "        # this is about 30 % of training and 16% of test\n",
    "        kd_tree = KDTree(train[:,1:])\n",
    "        train_pass, test_pass = np.ones(len(train), dtype=bool), np.ones(len(test), dtype=bool)\n",
    "        for i in range(len(train)):\n",
    "            if np.mean(kd_tree.query(train[i,1:].reshape(1,-1), k=4)[0][0][1:]) > 1.26**8:\n",
    "                train_pass[i] = False\n",
    "        #print((len(train_pass)-np.sum(train_pass))/len(train_pass))\n",
    "        \n",
    "        train = train[train_pass]\n",
    "        kd_tree = KDTree(train[:,1:])\n",
    "        \n",
    "        for i in range(len(test)):\n",
    "            if np.mean(kd_tree.query(test[i,1:].reshape(1,-1), k=4)[0][0][1:]) > 1.26**8:\n",
    "                test_pass[i] = False\n",
    "        #print((len(test_pass)-np.sum(test_pass))/len(test))\n",
    "        test = test[test_pass]\n",
    "    \n",
    "        self.X_train = train[:,1:]\n",
    "        self.y_train = train[:,0]\n",
    "        self.X_test = test[:,1:]\n",
    "        self.y_test = test[:,0]\n",
    "\n",
    "    def get_training(self):\n",
    "        return self.X_train, self.y_train\n",
    "    \n",
    "    def get_test(self):\n",
    "        return self.X_test, self.y_test"
   ]
  },
  {
   "cell_type": "code",
   "execution_count": 2,
   "metadata": {},
   "outputs": [],
   "source": [
    "data = data_reader()"
   ]
  },
  {
   "cell_type": "code",
   "execution_count": 34,
   "metadata": {},
   "outputs": [],
   "source": [
    "class evaluator(object):\n",
    "    def __init__(self, data, seed=42):\n",
    "        self.data = data\n",
    "        self.rng = np.random.default_rng(seed)\n",
    "        \n",
    "    def R2(self, gp):\n",
    "        return gp.score(gp.X_train_, gp.y_train_)\n",
    "    \n",
    "    def Q2_cv(self, gp, cv_num=5, verbose=False):\n",
    "        x, y = np.copy(self.data.X_train), np.copy(self.data.y_train)\n",
    "        shuffle = self.rng.permutation(len(x))\n",
    "        x, y = x[shuffle], y[shuffle]\n",
    "        \n",
    "        chunk_size = int(len(x)/cv_num)\n",
    "        q2 = np.empty(cv_num)\n",
    "\n",
    "        for i in range(cv_num):\n",
    "            train_x = np.append(x[:chunk_size*i],x[chunk_size*(i+1):],0)\n",
    "            train_y = np.append(y[:chunk_size*i],y[chunk_size*(i+1):])\n",
    "\n",
    "            test_x = x[chunk_size*i:chunk_size*(i+1)]\n",
    "            test_y = y[chunk_size*i:chunk_size*(i+1)]\n",
    "            \n",
    "            n_ext = len(test_x)\n",
    "            n_tr = len(train_x)\n",
    "            mean_tr = np.mean(train_y)\n",
    "            newGP = GaussianProcessRegressor(alpha=gp.alpha, kernel=gp.kernel_, optimizer=None)\n",
    "            newGP.fit(train_x, train_y)\n",
    "            y_pred = newGP.predict(test_x)\n",
    "\n",
    "            press = np.sum(np.power(y_pred-test_y,2))\n",
    "            tss = np.sum(np.power(train_y-mean_tr,2))\n",
    "\n",
    "            q2[i] = 1. - (press/n_ext) / (tss/n_tr)\n",
    "\n",
    "        if verbose: print(q2)\n",
    "        return np.mean(q2)\n",
    "    \n",
    "    def Q2_ext(self, gp):\n",
    "        n_ext = len(self.data.X_test)\n",
    "        n_tr = len(self.data.X_train)\n",
    "        mean_tr = np.mean(self.data.y_train)\n",
    "        y_pred = gp.predict(self.data.X_test)\n",
    "        \n",
    "        press = np.sum(np.power(y_pred-self.data.y_test,2))\n",
    "        tss = np.sum(np.power(self.data.y_train-mean_tr,2))\n",
    "        \n",
    "        return 1. - (press/n_ext) / (tss/n_tr)\n",
    "    \n",
    "    \n",
    "    def empirical_error(self, gp):\n",
    "        \n",
    "        y_pred, y_cov = gp.predict(self.data.X_test, return_cov=True)\n",
    "        y_std = np.sqrt(np.diag(y_cov))\n",
    "        residual = self.data.y_test-y_pred\n",
    "\n",
    "        # percentages within x sigma from wikipedia\n",
    "        true_remain = 1.-np.array([\n",
    "        0.382924922548026,\n",
    "        0.682689492137086,\n",
    "        0.866385597462284,\n",
    "        0.954499736103642,\n",
    "        0.987580669348448,\n",
    "        0.997300203936740,\n",
    "        0.999534741841929,\n",
    "        0.999936657516334,\n",
    "        0.999993204653751,\n",
    "        0.999999426696856,\n",
    "        0.999999962020875,\n",
    "        0.999999998026825,\n",
    "        0.999999999919680,\n",
    "        ])\n",
    "\n",
    "        print('empircal error checks...')\n",
    "        for i in range(1,6):\n",
    "            within = np.logical_and(\n",
    "                self.data.y_test-i*y_std<=y_pred, \n",
    "                y_pred<=self.data.y_test+i*y_std)\n",
    "            perc_out = (1.-np.sum(within)/len(within)).round(4)\n",
    "            print(perc_out,'% are beyond',i,'sigma, while there should be',true_remain[i-1].round(4),'%')\n",
    "            print('this comes from ',len(y_std)-np.sum(within),'outlier(s)\\n')\n",
    "            "
   ]
  },
  {
   "cell_type": "markdown",
   "metadata": {},
   "source": [
    "Load up the data. For our purposes, this is an 8 dimensional regression problem"
   ]
  },
  {
   "cell_type": "code",
   "execution_count": 35,
   "metadata": {},
   "outputs": [],
   "source": [
    "tester = evaluator(data)"
   ]
  },
  {
   "cell_type": "code",
   "execution_count": 4,
   "metadata": {},
   "outputs": [],
   "source": [
    "import numpy as np\n",
    "import matplotlib.pyplot as plt\n",
    "\n",
    "from sklearn.gaussian_process import GaussianProcessRegressor\n",
    "from sklearn.gaussian_process.kernels import WhiteKernel, Matern\n",
    "\n",
    "\"\"\"\n",
    "https://archive.ics.uci.edu/ml/datasets/QSAR+aquatic+toxicity\n",
    "\n",
    "1) TPSA(Tot)\n",
    "2) SAacc\n",
    "3) H-050\n",
    "4) MLOGP\n",
    "5) RDCHI\n",
    "6) GATS1p\n",
    "7) nN\n",
    "8) C-040\n",
    "9) quantitative response, LC50 [-LOG(mol/L)]\n",
    "\n",
    "\"\"\";"
   ]
  },
  {
   "cell_type": "markdown",
   "metadata": {},
   "source": [
    "## Sklearn with only one fitting method"
   ]
  },
  {
   "cell_type": "code",
   "execution_count": 6,
   "metadata": {},
   "outputs": [],
   "source": [
    "kernel = 1.**2 * Matern(length_scale=.1*np.ones(8),nu=2.0)\\\n",
    "            + 0.1**2 * WhiteKernel(noise_level=1.)"
   ]
  },
  {
   "cell_type": "code",
   "execution_count": 7,
   "metadata": {},
   "outputs": [],
   "source": [
    "sklearn_gpr = GaussianProcessRegressor(kernel=kernel,\n",
    "                                  alpha=1e-5, \n",
    "                                  optimizer='fmin_l_bfgs_b', \n",
    "                                  n_restarts_optimizer=5, \n",
    "                                  normalize_y=False, \n",
    "                                  copy_X_train=True, \n",
    "                                  random_state=42)"
   ]
  },
  {
   "cell_type": "code",
   "execution_count": 8,
   "metadata": {},
   "outputs": [],
   "source": [
    "x, y = data.get_training()\n",
    "sklearn_gpr = sklearn_gpr.fit(x,y)"
   ]
  },
  {
   "cell_type": "code",
   "execution_count": 9,
   "metadata": {},
   "outputs": [
    {
     "data": {
      "text/plain": [
       "0.9294222194730939"
      ]
     },
     "execution_count": 9,
     "metadata": {},
     "output_type": "execute_result"
    }
   ],
   "source": [
    "tester.R2(sklearn_gpr)"
   ]
  },
  {
   "cell_type": "markdown",
   "metadata": {},
   "source": [
    "### Cross validation scores"
   ]
  },
  {
   "cell_type": "code",
   "execution_count": 10,
   "metadata": {},
   "outputs": [
    {
     "name": "stdout",
     "output_type": "stream",
     "text": [
      "[0.5272964  0.67937215 0.74914004 0.73079947 0.46614746]\n"
     ]
    },
    {
     "data": {
      "text/plain": [
       "0.6305511031497929"
      ]
     },
     "execution_count": 10,
     "metadata": {},
     "output_type": "execute_result"
    }
   ],
   "source": [
    "tester.Q2_cv(sklearn_gpr)"
   ]
  },
  {
   "cell_type": "markdown",
   "metadata": {},
   "source": [
    "### Test Score"
   ]
  },
  {
   "cell_type": "code",
   "execution_count": 11,
   "metadata": {},
   "outputs": [
    {
     "data": {
      "text/plain": [
       "0.8785047172407496"
      ]
     },
     "execution_count": 11,
     "metadata": {},
     "output_type": "execute_result"
    }
   ],
   "source": [
    "tester.Q2_ext(sklearn_gpr)"
   ]
  },
  {
   "cell_type": "markdown",
   "metadata": {},
   "source": [
    "This is a pretty ok score. Let's check if the errors are accurate and what the residuals look like"
   ]
  },
  {
   "cell_type": "code",
   "execution_count": 12,
   "metadata": {},
   "outputs": [
    {
     "name": "stdout",
     "output_type": "stream",
     "text": [
      "empircal error checks...\n",
      "0.0 % are beyond 1 sigma, while there should be 0.6171 %\n",
      "this comes from  0 outlier(s)\n",
      "\n",
      "0.0 % are beyond 2 sigma, while there should be 0.3173 %\n",
      "this comes from  0 outlier(s)\n",
      "\n",
      "0.0 % are beyond 3 sigma, while there should be 0.1336 %\n",
      "this comes from  0 outlier(s)\n",
      "\n",
      "0.0 % are beyond 4 sigma, while there should be 0.0455 %\n",
      "this comes from  0 outlier(s)\n",
      "\n",
      "0.0 % are beyond 5 sigma, while there should be 0.0124 %\n",
      "this comes from  0 outlier(s)\n",
      "\n"
     ]
    }
   ],
   "source": [
    "tester.empirical_error(sklearn_gpr)"
   ]
  },
  {
   "cell_type": "markdown",
   "metadata": {},
   "source": [
    "So from this it looks like the errors are pretty big - it covers 100% of the data in 1 sigma, when it should be roughly 2/3. "
   ]
  },
  {
   "cell_type": "code",
   "execution_count": 13,
   "metadata": {},
   "outputs": [],
   "source": [
    "x, y = data.get_test()"
   ]
  },
  {
   "cell_type": "code",
   "execution_count": 14,
   "metadata": {},
   "outputs": [],
   "source": [
    "y_pred, y_cov = sklearn_gpr.predict(x, return_cov=True)"
   ]
  },
  {
   "cell_type": "code",
   "execution_count": 15,
   "metadata": {},
   "outputs": [],
   "source": [
    "y_err = np.sqrt(np.diag(y_cov))"
   ]
  },
  {
   "cell_type": "code",
   "execution_count": 16,
   "metadata": {},
   "outputs": [],
   "source": [
    "useless = np.arange(len(x))"
   ]
  },
  {
   "cell_type": "code",
   "execution_count": 17,
   "metadata": {},
   "outputs": [
    {
     "data": {
      "image/png": "[encoded data removed]",
      "text/plain": [
       "<Figure size 432x288 with 1 Axes>"
      ]
     },
     "metadata": {
      "needs_background": "light"
     },
     "output_type": "display_data"
    }
   ],
   "source": [
    "plt.errorbar(useless, y_pred-y, yerr=y_err, fmt='x');"
   ]
  },
  {
   "cell_type": "markdown",
   "metadata": {},
   "source": [
    "So we can see that this is what's happening. The errors are quite large"
   ]
  },
  {
   "cell_type": "markdown",
   "metadata": {},
   "source": [
    "## Sklearn with many models given by HGDL"
   ]
  },
  {
   "cell_type": "code",
   "execution_count": 23,
   "metadata": {},
   "outputs": [],
   "source": [
    "# this overwrites GaussianProcessRegressor's fit to use HGDL and \n",
    "#  return a list of Gaussian Processes\n",
    "from fit import fit\n",
    "GaussianProcessRegressor.fit = fit"
   ]
  },
  {
   "cell_type": "code",
   "execution_count": 24,
   "metadata": {},
   "outputs": [],
   "source": [
    "GPs = GaussianProcessRegressor(kernel=kernel,\n",
    "                              alpha=1e-5,\n",
    "                              optimizer='hgdl',\n",
    "                              random_state=42).fit(x,y)"
   ]
  },
  {
   "cell_type": "code",
   "execution_count": 25,
   "metadata": {},
   "outputs": [],
   "source": [
    "GPs = sorted(GPs, key=lambda x: x.log_marginal_likelihood_value_)"
   ]
  },
  {
   "cell_type": "code",
   "execution_count": 27,
   "metadata": {},
   "outputs": [
    {
     "data": {
      "text/plain": [
       "[GaussianProcessRegressor(alpha=1e-05,\n",
       "                          kernel=0.555**2 * Matern(length_scale=[6.99e-05, 0.144, 2.61e-05, 0.871, 0.0459, 0.000279, 0.000108, 7.52], nu=2) + 0.00928**2 * WhiteKernel(noise_level=354),\n",
       "                          random_state=42),\n",
       " GaussianProcessRegressor(alpha=1e-05,\n",
       "                          kernel=0.582**2 * Matern(length_scale=[0.011, 2.03e-05, 0.233, 0.0014, 0.0316, 3.42e+03, 0.00218, 3.83e-05], nu=2) + 0.0808**2 * WhiteKernel(noise_level=0.00865),\n",
       "                          random_state=42),\n",
       " GaussianProcessRegressor(alpha=1e-05,\n",
       "                          kernel=0.294**2 * Matern(length_scale=[67.3, 2.3e+03, 0.00456, 3.48e+04, 1.13, 3.5e+04, 9.94e+04, 0.00528], nu=2) + 0.0695**2 * WhiteKernel(noise_level=50.4),\n",
       "                          random_state=42),\n",
       " GaussianProcessRegressor(alpha=1e-05,\n",
       "                          kernel=0.576**2 * Matern(length_scale=[0.000382, 8.05, 1.69e-05, 3.56e+04, 1.38, 6.46e+03, 6.72e-05, 388], nu=2) + 0.111**2 * WhiteKernel(noise_level=4.9),\n",
       "                          random_state=42),\n",
       " GaussianProcessRegressor(alpha=1e-05,\n",
       "                          kernel=0.616**2 * Matern(length_scale=[7.28e-05, 0.484, 118, 0.899, 3.6e+03, 59, 158, 0.211], nu=2) + 0.466**2 * WhiteKernel(noise_level=0.114),\n",
       "                          random_state=42)]"
      ]
     },
     "execution_count": 27,
     "metadata": {},
     "output_type": "execute_result"
    }
   ],
   "source": [
    "GPs"
   ]
  },
  {
   "cell_type": "code",
   "execution_count": 37,
   "metadata": {},
   "outputs": [
    {
     "name": "stdout",
     "output_type": "stream",
     "text": [
      "\n",
      "\n",
      "gp: 1\n",
      "cross validation scores:\n",
      "R2 0.991\n",
      "Q2_ext 0.077\n",
      "\n",
      "\n",
      "gp: 2\n",
      "cross validation scores:\n",
      "R2 1.0\n",
      "Q2_ext 0.064\n",
      "\n",
      "\n",
      "gp: 3\n",
      "cross validation scores:\n",
      "R2 0.364\n",
      "Q2_ext 0.402\n",
      "\n",
      "\n",
      "gp: 4\n",
      "cross validation scores:\n",
      "R2 0.935\n",
      "Q2_ext 0.534\n",
      "\n",
      "\n",
      "gp: 5\n",
      "cross validation scores:\n",
      "R2 0.98\n",
      "Q2_ext 0.543\n"
     ]
    }
   ],
   "source": [
    "for i in range(len(GPs)):\n",
    "    print('\\n\\ngp:',i+1)\n",
    "    print('cross validation scores:')\n",
    "\n",
    "    print('R2',tester.R2(GPs[i]).round(3))\n",
    "    print('Q2_ext',tester.Q2_cv(GPs[i]).round(3))"
   ]
  },
  {
   "cell_type": "code",
   "execution_count": null,
   "metadata": {},
   "outputs": [],
   "source": []
  },
  {
   "cell_type": "code",
   "execution_count": null,
   "metadata": {},
   "outputs": [],
   "source": []
  },
  {
   "cell_type": "code",
   "execution_count": 12,
   "metadata": {},
   "outputs": [
    {
     "name": "stdout",
     "output_type": "stream",
     "text": [
      "empircal error checks...\n",
      "0.0 % are beyond 1 sigma, while there should be 0.6171 %\n",
      "this comes from  0 outlier(s)\n",
      "\n",
      "0.0 % are beyond 2 sigma, while there should be 0.3173 %\n",
      "this comes from  0 outlier(s)\n",
      "\n",
      "0.0 % are beyond 3 sigma, while there should be 0.1336 %\n",
      "this comes from  0 outlier(s)\n",
      "\n",
      "0.0 % are beyond 4 sigma, while there should be 0.0455 %\n",
      "this comes from  0 outlier(s)\n",
      "\n",
      "0.0 % are beyond 5 sigma, while there should be 0.0124 %\n",
      "this comes from  0 outlier(s)\n",
      "\n"
     ]
    }
   ],
   "source": [
    "tester.empirical_error(sklearn_gpr)"
   ]
  },
  {
   "cell_type": "markdown",
   "metadata": {},
   "source": [
    "So from this it looks like the errors are pretty big - it covers 100% of the data in 1 sigma, when it should be roughly 2/3. "
   ]
  },
  {
   "cell_type": "code",
   "execution_count": 13,
   "metadata": {},
   "outputs": [],
   "source": [
    "x, y = data.get_test()"
   ]
  },
  {
   "cell_type": "code",
   "execution_count": 14,
   "metadata": {},
   "outputs": [],
   "source": [
    "y_pred, y_cov = sklearn_gpr.predict(x, return_cov=True)"
   ]
  },
  {
   "cell_type": "code",
   "execution_count": 15,
   "metadata": {},
   "outputs": [],
   "source": [
    "y_err = np.sqrt(np.diag(y_cov))"
   ]
  },
  {
   "cell_type": "code",
   "execution_count": 16,
   "metadata": {},
   "outputs": [],
   "source": [
    "useless = np.arange(len(x))"
   ]
  },
  {
   "cell_type": "code",
   "execution_count": 17,
   "metadata": {},
   "outputs": [
    {
     "data": {
      "image/png": "[encoded data removed]",
      "text/plain": [
       "<Figure size 432x288 with 1 Axes>"
      ]
     },
     "metadata": {
      "needs_background": "light"
     },
     "output_type": "display_data"
    }
   ],
   "source": [
    "plt.errorbar(useless, y_pred-y, yerr=y_err, fmt='x');"
   ]
  },
  {
   "cell_type": "code",
   "execution_count": null,
   "metadata": {},
   "outputs": [],
   "source": []
  },
  {
   "cell_type": "code",
   "execution_count": null,
   "metadata": {},
   "outputs": [],
   "source": []
  },
  {
   "cell_type": "code",
   "execution_count": null,
   "metadata": {},
   "outputs": [],
   "source": []
  },
  {
   "cell_type": "code",
   "execution_count": null,
   "metadata": {},
   "outputs": [],
   "source": []
  },
  {
   "cell_type": "code",
   "execution_count": null,
   "metadata": {},
   "outputs": [],
   "source": []
  },
  {
   "cell_type": "code",
   "execution_count": 15,
   "metadata": {},
   "outputs": [],
   "source": [
    "kernel = 1.**2 * Matern(length_scale=.1*np.ones(x.shape[1]),nu=2.0)\\\n",
    "            + 0.1**2 * Matern(length_scale=.1*np.ones(x.shape[1]),nu=2) * WhiteKernel(noise_level=1.)"
   ]
  },
  {
   "cell_type": "code",
   "execution_count": 16,
   "metadata": {},
   "outputs": [],
   "source": [
    "sklearn_gpr = GaussianProcessRegressor(kernel=kernel,\n",
    "                                  alpha=1e-5, \n",
    "                                  optimizer='fmin_l_bfgs_b', \n",
    "                                  n_restarts_optimizer=5, \n",
    "                                  normalize_y=False, \n",
    "                                  copy_X_train=True, \n",
    "                                  random_state=42)"
   ]
  },
  {
   "cell_type": "markdown",
   "metadata": {},
   "source": [
    "### Cross validation scores"
   ]
  },
  {
   "cell_type": "code",
   "execution_count": 17,
   "metadata": {},
   "outputs": [
    {
     "name": "stdout",
     "output_type": "stream",
     "text": [
      "f1 : 0.49\n",
      "f2 : 0.48\n",
      "f3 : 0.87\n"
     ]
    }
   ],
   "source": [
    "chunk = int(len(x)/5)\n",
    "f1, f2, f3 = 0, 0, 0\n",
    "\n",
    "for i in range(5):\n",
    "    # get the training data for that cross validation split\n",
    "    x_train = np.append(x[:chunk*i],x[chunk*(i+1):],0)\n",
    "    y_train = np.append(y[:chunk*i],y[chunk*(i+1):],0)\n",
    "    x_test = x[chunk*i:chunk*(i+1)]\n",
    "    y_test = y[chunk*i:chunk*(i+1)]\n",
    "    # train\n",
    "    sklearn_gpr.fit(x_train, y_train)\n",
    "    # evaluate\n",
    "\n",
    "    press = np.sum(np.power(y_test-sklearn_gpr.predict(x_test),2))\n",
    "    ss_tr = np.sum(np.power(y_test-np.mean(y_train),2))\n",
    "    ss_ext = np.sum(np.power(y_test-np.mean(y_test),2))\n",
    "    tss = np.sum(np.power(y_train-np.mean(y_train),2))\n",
    "    tmp1 = 1. - press/ss_tr\n",
    "    tmp2 = 1. - press/ss_ext\n",
    "    tmp3 = 1. - press * x_train.shape[1] / (tss*x_test.shape[1])\n",
    "#     print('scores this round:')\n",
    "#     for f in ['tmp1','tmp2','tmp3']:\n",
    "#         print(f,':', eval(f).round(2))\n",
    "    f1, f2, f3 = f1+tmp1/5., f2+tmp2/5., f3+tmp3/5.\n",
    "for f in ['f1','f2','f3']:\n",
    "    print(f,':', eval(f).round(2))"
   ]
  },
  {
   "cell_type": "markdown",
   "metadata": {},
   "source": [
    "So we can see that sklearn performs seemingly pretty well on this dataset. I have already tuned the initial parameters to get good scores on the cross validation"
   ]
  },
  {
   "cell_type": "markdown",
   "metadata": {},
   "source": [
    "### Test scores"
   ]
  },
  {
   "cell_type": "code",
   "execution_count": 18,
   "metadata": {},
   "outputs": [],
   "source": [
    "sklearn_gpr = sklearn_gpr.fit(x,y)"
   ]
  },
  {
   "cell_type": "code",
   "execution_count": 19,
   "metadata": {},
   "outputs": [
    {
     "data": {
      "text/plain": [
       "-440.9116862185076"
      ]
     },
     "execution_count": 19,
     "metadata": {},
     "output_type": "execute_result"
    }
   ],
   "source": [
    "sklearn_gpr.log_marginal_likelihood_value_"
   ]
  },
  {
   "cell_type": "code",
   "execution_count": 20,
   "metadata": {},
   "outputs": [
    {
     "data": {
      "text/plain": [
       "0.954**2 * Matern(length_scale=[0.458, 1.19, 1.55, 1.59, 1.09, 4.21, 0.896, 0.1], nu=2) + 0.224**2 * Matern(length_scale=[0.1, 0.1, 0.1, 0.1, 0.1, 0.1, 0.1, 0.1], nu=2) * WhiteKernel(noise_level=2.84)"
      ]
     },
     "execution_count": 20,
     "metadata": {},
     "output_type": "execute_result"
    }
   ],
   "source": [
    "sklearn_gpr.kernel_"
   ]
  },
  {
   "cell_type": "code",
   "execution_count": 21,
   "metadata": {},
   "outputs": [
    {
     "name": "stdout",
     "output_type": "stream",
     "text": [
      "train ---------------------------------------\n"
     ]
    },
    {
     "data": {
      "image/png": "[encoded data removed]",
      "text/plain": [
       "<Figure size 432x288 with 1 Axes>"
      ]
     },
     "metadata": {
      "needs_background": "light"
     },
     "output_type": "display_data"
    },
    {
     "data": {
      "image/png": "[encoded data removed]",
      "text/plain": [
       "<Figure size 432x288 with 1 Axes>"
      ]
     },
     "metadata": {
      "needs_background": "light"
     },
     "output_type": "display_data"
    },
    {
     "data": {
      "image/png": "[encoded data removed]",
      "text/plain": [
       "<Figure size 432x288 with 1 Axes>"
      ]
     },
     "metadata": {
      "needs_background": "light"
     },
     "output_type": "display_data"
    },
    {
     "name": "stdout",
     "output_type": "stream",
     "text": [
      "calculating percentage covered when 1,2,3,&4 sigma away\n",
      "sigma: 1 0.911\n",
      "sigma: 2 0.993\n",
      "sigma: 3 1.0\n",
      "sigma: 4 1.0\n",
      "test ---------------------------------------\n"
     ]
    },
    {
     "data": {
      "image/png": "[encoded data removed]",
      "text/plain": [
       "<Figure size 432x288 with 1 Axes>"
      ]
     },
     "metadata": {
      "needs_background": "light"
     },
     "output_type": "display_data"
    },
    {
     "data": {
      "image/png": "[encoded data removed]",
      "text/plain": [
       "<Figure size 432x288 with 1 Axes>"
      ]
     },
     "metadata": {
      "needs_background": "light"
     },
     "output_type": "display_data"
    },
    {
     "data": {
      "image/png": "[encoded data removed]",
      "text/plain": [
       "<Figure size 432x288 with 1 Axes>"
      ]
     },
     "metadata": {
      "needs_background": "light"
     },
     "output_type": "display_data"
    },
    {
     "name": "stdout",
     "output_type": "stream",
     "text": [
      "calculating percentage covered when 1,2,3,&4 sigma away\n",
      "sigma: 1 0.736\n",
      "sigma: 2 0.918\n",
      "sigma: 3 0.982\n",
      "sigma: 4 0.991\n",
      "f1 : 0.55\n",
      "f2 : 0.54\n",
      "f3 : 0.86\n"
     ]
    }
   ],
   "source": [
    "data.info(sklearn_gpr)"
   ]
  },
  {
   "cell_type": "code",
   "execution_count": null,
   "metadata": {},
   "outputs": [],
   "source": []
  },
  {
   "cell_type": "code",
   "execution_count": null,
   "metadata": {},
   "outputs": [],
   "source": []
  }
 ],
 "metadata": {
  "kernelspec": {
   "display_name": "Python 3",
   "language": "python",
   "name": "python3"
  },
  "language_info": {
   "codemirror_mode": {
    "name": "ipython",
    "version": 3
   },
   "file_extension": ".py",
   "mimetype": "text/x-python",
   "name": "python",
   "nbconvert_exporter": "python",
   "pygments_lexer": "ipython3",
   "version": "3.7.7"
  }
 },
 "nbformat": 4,
 "nbformat_minor": 4
}
