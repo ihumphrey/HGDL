{
 "cells": [
  {
   "cell_type": "code",
   "execution_count": null,
   "metadata": {},
   "outputs": [],
   "source": [
    "import numpy as np\n",
    "import matplotlib.pyplot as plt"
   ]
  },
  {
   "cell_type": "markdown",
   "metadata": {},
   "source": [
    "## Testing\n",
    "### Rastringin function"
   ]
  },
  {
   "cell_type": "markdown",
   "metadata": {},
   "source": [
    "### Rastringin function - Simple (no args, no params)"
   ]
  },
  {
   "cell_type": "code",
   "execution_count": null,
   "metadata": {},
   "outputs": [],
   "source": [
    "A = 10\n",
    "d = 2\n",
    "def Rastringin(x):\n",
    "    return (A*d + np.dot(x,x) - A*np.sum(np.cos(2.*np.pi*x)))"
   ]
  },
  {
   "cell_type": "code",
   "execution_count": null,
   "metadata": {},
   "outputs": [],
   "source": [
    "def Rastringin_gradient(x):\n",
    "    grad = np.empty(len(x))\n",
    "    for i in range(len(grad)):\n",
    "        grad[i] = (2.*x[i] + A*np.sin(2.*np.pi*x[i])*2.*np.pi)\n",
    "    return grad"
   ]
  },
  {
   "cell_type": "code",
   "execution_count": null,
   "metadata": {},
   "outputs": [],
   "source": [
    "def Rastringin_hessian(x):\n",
    "    hess = np.zeros((len(x),len(x)))\n",
    "    for i in range(len(hess)):\n",
    "        hess[i,i] = (2 + A*np.cos(2.*np.pi*x[i])*(4.*np.pi*np.pi))\n",
    "    return hess"
   ]
  },
  {
   "cell_type": "code",
   "execution_count": null,
   "metadata": {},
   "outputs": [],
   "source": [
    "X = np.arange(-5,5,1e-1)\n",
    "Y = np.arange(-5,5,1e-1)"
   ]
  },
  {
   "cell_type": "code",
   "execution_count": null,
   "metadata": {},
   "outputs": [],
   "source": [
    "Z = np.empty((len(X),len(Y)))"
   ]
  },
  {
   "cell_type": "code",
   "execution_count": null,
   "metadata": {},
   "outputs": [],
   "source": [
    "for i in range(len(X)):\n",
    "    for j in range((len(Y))):\n",
    "        Z[i,j] = Rastringin(np.array([X[i],Y[j]]))"
   ]
  },
  {
   "cell_type": "code",
   "execution_count": null,
   "metadata": {},
   "outputs": [],
   "source": [
    "plt.contourf(X,Y,Z); plt.colorbar();"
   ]
  },
  {
   "cell_type": "code",
   "execution_count": null,
   "metadata": {},
   "outputs": [],
   "source": [
    "k = 2\n",
    "bounds = np.ones((k,2))*5; bounds[:,0] = bounds[:,1]*(-1);\n",
    "bounds;"
   ]
  },
  {
   "cell_type": "code",
   "execution_count": null,
   "metadata": {},
   "outputs": [],
   "source": [
    "%run HXDY.ipynb"
   ]
  },
  {
   "cell_type": "code",
   "execution_count": null,
   "metadata": {},
   "outputs": [],
   "source": [
    "res = HXDY(fun=Rastringin, bounds=bounds, hess=Rastringin_hessian, jac=Rastringin_gradient, method='Newton-CG')"
   ]
  },
  {
   "cell_type": "code",
   "execution_count": null,
   "metadata": {},
   "outputs": [],
   "source": [
    "plt.scatter(res[:,0], res[:,1], color='black');\n",
    "plt.contour(X,Y,Z); plt.colorbar();"
   ]
  },
  {
   "cell_type": "markdown",
   "metadata": {},
   "source": [
    "### Rastringin function - With args (no params)"
   ]
  },
  {
   "cell_type": "code",
   "execution_count": null,
   "metadata": {},
   "outputs": [],
   "source": [
    "A = 10\n",
    "d = 2\n",
    "def Rastringin(x, origin):\n",
    "    x = x - origin\n",
    "    return (A*d + np.dot(x,x) - A*np.sum(np.cos(2.*np.pi*x)))"
   ]
  },
  {
   "cell_type": "code",
   "execution_count": null,
   "metadata": {},
   "outputs": [],
   "source": [
    "def Rastringin_gradient(x, origin):\n",
    "    x = x - origin\n",
    "    grad = np.empty(len(x))\n",
    "    for i in range(len(grad)):\n",
    "        grad[i] = (2.*x[i] + A*np.sin(2.*np.pi*x[i])*2.*np.pi)\n",
    "    return grad"
   ]
  },
  {
   "cell_type": "code",
   "execution_count": null,
   "metadata": {},
   "outputs": [],
   "source": [
    "def Rastringin_hessian(x, origin):\n",
    "    x = x - origin\n",
    "    hess = np.zeros((len(x),len(x)))\n",
    "    for i in range(len(hess)):\n",
    "        hess[i,i] = (2 + A*np.cos(2.*np.pi*x[i])*(4.*np.pi*np.pi))\n",
    "    return hess"
   ]
  },
  {
   "cell_type": "code",
   "execution_count": null,
   "metadata": {},
   "outputs": [],
   "source": [
    "X = np.arange(0,10,1e-1)\n",
    "Y = np.arange(0,10,1e-1)"
   ]
  },
  {
   "cell_type": "code",
   "execution_count": null,
   "metadata": {},
   "outputs": [],
   "source": [
    "Z = np.empty((len(X),len(Y)))"
   ]
  },
  {
   "cell_type": "code",
   "execution_count": null,
   "metadata": {},
   "outputs": [],
   "source": [
    "for i in range(len(X)):\n",
    "    for j in range((len(Y))):\n",
    "        Z[i,j] = Rastringin(np.array([X[i],Y[j]]), 5*np.ones(2))"
   ]
  },
  {
   "cell_type": "markdown",
   "metadata": {},
   "source": [
    "### Notice that the center is shifted"
   ]
  },
  {
   "cell_type": "code",
   "execution_count": null,
   "metadata": {},
   "outputs": [],
   "source": [
    "plt.contourf(X,Y,Z); plt.colorbar();"
   ]
  },
  {
   "cell_type": "code",
   "execution_count": null,
   "metadata": {},
   "outputs": [],
   "source": [
    "k = 2\n",
    "bounds = np.ones((k,2))*10; bounds[:,0] = 0;\n",
    "bounds"
   ]
  },
  {
   "cell_type": "markdown",
   "metadata": {},
   "source": [
    "### Notice this little switcheroo, where I put in the origin that I want"
   ]
  },
  {
   "cell_type": "code",
   "execution_count": null,
   "metadata": {},
   "outputs": [],
   "source": [
    "from functools import partial"
   ]
  },
  {
   "cell_type": "code",
   "execution_count": null,
   "metadata": {},
   "outputs": [],
   "source": [
    "o = 5*np.ones(2)\n",
    "NewRastringin = partial(Rastringin, origin = o)\n",
    "NewRastringin_gradient = partial(Rastringin_gradient, origin = o)\n",
    "NewRastringin_hessian = partial(Rastringin_hessian, origin = o)"
   ]
  },
  {
   "cell_type": "code",
   "execution_count": null,
   "metadata": {
    "jupyter": {
     "outputs_hidden": true
    }
   },
   "outputs": [],
   "source": [
    "res = HXDY(fun=NewRastringin, bounds=bounds, hess=NewRastringin_hessian, jac=NewRastringin_gradient)"
   ]
  },
  {
   "cell_type": "code",
   "execution_count": null,
   "metadata": {},
   "outputs": [],
   "source": [
    "plt.scatter(res[:,0], res[:,1], color='black');\n",
    "plt.contour(X,Y,Z); plt.colorbar();"
   ]
  },
  {
   "cell_type": "markdown",
   "metadata": {},
   "source": [
    "### And you can see that the modified function works too!"
   ]
  },
  {
   "cell_type": "markdown",
   "metadata": {},
   "source": [
    "### Rastringin function - With args and custom params"
   ]
  },
  {
   "cell_type": "markdown",
   "metadata": {},
   "source": [
    "Notice that the rastringin function is staying the same as the last time"
   ]
  },
  {
   "cell_type": "code",
   "execution_count": null,
   "metadata": {},
   "outputs": [],
   "source": [
    "p = defaultParams()"
   ]
  },
  {
   "cell_type": "code",
   "execution_count": null,
   "metadata": {},
   "outputs": [],
   "source": [
    "#p is of this type:\n",
    "np.dtype([('numWorkers','i2'),\n",
    "                            ('epsilon','f8'),\n",
    "                            ('radius_squared','f8'),\n",
    "                            ('maxCount','i4'),\n",
    "                            ('alpha','f8'),\n",
    "                            ('unfairness','f8'),\n",
    "                            ('wildness','f8'),\n",
    "                            ('minImprovement','f8'),\n",
    "                            ('N','i4'),\n",
    "                            ('keepLastX','i2'),\n",
    "                            ('maxRuns','i4'),\n",
    "                            ('returnedThreshold','f8'),\n",
    "                            ('verbose','b'),\n",
    "                            ('k','i4'),\n",
    "                            ('numGenerations','i4'),\n",
    "                          ]);"
   ]
  },
  {
   "cell_type": "code",
   "execution_count": null,
   "metadata": {},
   "outputs": [],
   "source": [
    "p.epsilon"
   ]
  },
  {
   "cell_type": "code",
   "execution_count": null,
   "metadata": {},
   "outputs": [],
   "source": [
    "p.N"
   ]
  },
  {
   "cell_type": "code",
   "execution_count": null,
   "metadata": {},
   "outputs": [],
   "source": [
    "p.N = 3"
   ]
  },
  {
   "cell_type": "code",
   "execution_count": null,
   "metadata": {
    "jupyter": {
     "outputs_hidden": true
    }
   },
   "outputs": [],
   "source": [
    "res = HXDY(fun=NewRastringin, bounds=bounds, hess=NewRastringin_hessian, jac=NewRastringin_gradient, parameters=p)"
   ]
  },
  {
   "cell_type": "code",
   "execution_count": null,
   "metadata": {},
   "outputs": [],
   "source": [
    "plt.scatter(res[:,0], res[:,1], color='black');\n",
    "plt.contour(X,Y,Z); plt.colorbar();"
   ]
  },
  {
   "cell_type": "markdown",
   "metadata": {},
   "source": [
    "### And you can see that when I used N=3 it was able to explore far less"
   ]
  },
  {
   "cell_type": "markdown",
   "metadata": {},
   "source": [
    "### Schwefel Function"
   ]
  },
  {
   "cell_type": "code",
   "execution_count": null,
   "metadata": {},
   "outputs": [],
   "source": [
    "def Schwefel(x):\n",
    "    total = 0\n",
    "    for i in range(len(x)):\n",
    "        if np.abs(x[i]) <= 500:\n",
    "            total += -x[i]*np.sin(np.sqrt(np.abs(x[i])))\n",
    "        else:\n",
    "            total += .02*x[i]*x[i]\n",
    "    return -(-418.9829*(len(x)+1) - total)"
   ]
  },
  {
   "cell_type": "code",
   "execution_count": null,
   "metadata": {},
   "outputs": [],
   "source": [
    "def Schwefel_gradient(X):\n",
    "    y = np.empty(len(X))\n",
    "\n",
    "    Sin = np.sin\n",
    "    Abs = np.abs\n",
    "    Cos = np.cos\n",
    "    Sqrt = np.sqrt\n",
    "\n",
    "    for i in range(len(X)):\n",
    "        x = X[i]\n",
    "\n",
    "        if x<0:\n",
    "            slope = -1.\n",
    "        else:\n",
    "            slope = 1.\n",
    "\n",
    "        y[i] = -Sin(Sqrt(Abs(x))) - x*Cos(Sqrt(Abs(x)))*slope/(2.*Sqrt(Abs(x)))\n",
    "    return -y"
   ]
  },
  {
   "cell_type": "code",
   "execution_count": null,
   "metadata": {},
   "outputs": [],
   "source": [
    "def Schwefel_hessian(x):\n",
    "    Sin = np.sin\n",
    "    Abs = np.abs\n",
    "    Cos = np.cos\n",
    "    Sqrt = np.sqrt\n",
    "        \n",
    "    hess = np.zeros((len(x), len(x)))\n",
    "    \n",
    "    for i in range(len(x)):\n",
    "        xi = x[i]\n",
    "        if xi<0:\n",
    "            slope = -1.\n",
    "        else:\n",
    "            slope = 1.\n",
    "\n",
    "        factor = 1./(4.*Abs(xi)**1.5)\n",
    "        term1 = xi*Sqrt(Abs(xi))*Sin(Sqrt(Abs(xi)))\n",
    "        term2 = Cos(Sqrt(Abs(xi)))*(xi-2.*Abs(xi)*(2.*slope))\n",
    "        hess[i,i] = factor*(term1+term2)\n",
    "    return - hess"
   ]
  },
  {
   "cell_type": "code",
   "execution_count": null,
   "metadata": {},
   "outputs": [],
   "source": [
    "X = np.arange(-500,500,1e0)\n",
    "Y = np.arange(-500,500,1e0)"
   ]
  },
  {
   "cell_type": "code",
   "execution_count": null,
   "metadata": {},
   "outputs": [],
   "source": [
    "Z = np.empty((len(X),len(Y)))"
   ]
  },
  {
   "cell_type": "code",
   "execution_count": null,
   "metadata": {},
   "outputs": [],
   "source": [
    "for i in range(len(X)):\n",
    "    for j in range((len(Y))):\n",
    "        Z[i,j] = Schwefel(np.array([X[i],Y[j]]))"
   ]
  },
  {
   "cell_type": "code",
   "execution_count": null,
   "metadata": {},
   "outputs": [],
   "source": [
    "plt.contourf(X,Y,Z); plt.colorbar();"
   ]
  },
  {
   "cell_type": "code",
   "execution_count": null,
   "metadata": {},
   "outputs": [],
   "source": [
    "k = 2\n",
    "bounds = np.ones((k,2))*500; bounds[:,0] = bounds[:,1]*(-1);\n",
    "bounds;"
   ]
  },
  {
   "cell_type": "code",
   "execution_count": null,
   "metadata": {},
   "outputs": [],
   "source": [
    "res = HXDY(fun=Schwefel, bounds=bounds, args=(), jac=Schwefel_gradient, tol=1e-4, \n",
    "                                  hess=Schwefel_hessian, epsilon=1e-8, maxCount=20, alpha=1., \n",
    "                                  unfairness=5, N=100, keepLastX = 3, numWorkers=-1, method='L-BFGS-B',\n",
    "          extraStoppingCriterion=lambda res: True if len(res)>30 else False); "
   ]
  },
  {
   "cell_type": "code",
   "execution_count": null,
   "metadata": {},
   "outputs": [],
   "source": [
    "plt.scatter(res[:,0], res[:,1], color='black');\n",
    "plt.contour(X,Y,Z); plt.colorbar();"
   ]
  },
  {
   "cell_type": "code",
   "execution_count": null,
   "metadata": {},
   "outputs": [],
   "source": [
    "k = 4\n",
    "bounds = np.ones((k,2))*500; bounds[:,0] = bounds[:,1]*(-1);\n",
    "bounds;"
   ]
  },
  {
   "cell_type": "code",
   "execution_count": null,
   "metadata": {},
   "outputs": [],
   "source": [
    "%run HXDY.ipynb"
   ]
  },
  {
   "cell_type": "markdown",
   "metadata": {},
   "source": [
    "This call is taking a long time"
   ]
  },
  {
   "cell_type": "code",
   "execution_count": null,
   "metadata": {},
   "outputs": [],
   "source": [
    "res = HXDY(fun=Schwefel, bounds=bounds, jac=Schwefel_gradient, hess=Schwefel_hessian); "
   ]
  },
  {
   "cell_type": "code",
   "execution_count": null,
   "metadata": {},
   "outputs": [],
   "source": [
    "plt.scatter(res[:,0], res[:,1], color='black');\n",
    "plt.contour(X,Y,Z); plt.colorbar();"
   ]
  },
  {
   "cell_type": "code",
   "execution_count": null,
   "metadata": {},
   "outputs": [],
   "source": [
    "res[:7].round(4)"
   ]
  },
  {
   "cell_type": "code",
   "execution_count": null,
   "metadata": {},
   "outputs": [],
   "source": []
  },
  {
   "cell_type": "markdown",
   "metadata": {},
   "source": [
    "### Rosen function"
   ]
  },
  {
   "cell_type": "code",
   "execution_count": null,
   "metadata": {},
   "outputs": [],
   "source": [
    "from scipy.optimize import rosen, rosen_der, rosen_hess"
   ]
  },
  {
   "cell_type": "code",
   "execution_count": null,
   "metadata": {},
   "outputs": [],
   "source": [
    "X = np.arange(-2.5, 2.5, 1e-2)\n",
    "Y = np.arange(-2.5, 2.5, 1e-2)"
   ]
  },
  {
   "cell_type": "code",
   "execution_count": null,
   "metadata": {},
   "outputs": [],
   "source": [
    "Z = np.empty((len(X),len(Y)))"
   ]
  },
  {
   "cell_type": "code",
   "execution_count": null,
   "metadata": {},
   "outputs": [],
   "source": [
    "for i in range(len(X)):\n",
    "    for j in range((len(Y))):\n",
    "        Z[i,j] = rosen(np.array([X[i],Y[j]]))"
   ]
  },
  {
   "cell_type": "code",
   "execution_count": null,
   "metadata": {},
   "outputs": [],
   "source": [
    "plt.contourf(X,Y,Z); plt.colorbar();"
   ]
  },
  {
   "cell_type": "code",
   "execution_count": null,
   "metadata": {},
   "outputs": [],
   "source": [
    "k = 2\n",
    "bounds = np.ones((k,2))*3; bounds[:,0] = bounds[:,1]*(-1);\n",
    "bounds;"
   ]
  },
  {
   "cell_type": "code",
   "execution_count": null,
   "metadata": {},
   "outputs": [],
   "source": [
    "res = HXDY(fun=rosen, bounds=bounds, args=(), jac=rosen_der, tol=1e-8, \n",
    "                                  hess=rosen_hess, epsilon=1e-8, maxCount=50, alpha=.1, cauchy_wildness=50,\n",
    "                                  unfairness=2, N=100, keepLastX = 10, numWorkers=-1, method='Newton-CG'); "
   ]
  },
  {
   "cell_type": "code",
   "execution_count": null,
   "metadata": {},
   "outputs": [],
   "source": [
    "plt.scatter(res[:,0], res[:,1], color='black');\n",
    "plt.contour(X,Y,Z); plt.colorbar();"
   ]
  },
  {
   "cell_type": "code",
   "execution_count": null,
   "metadata": {},
   "outputs": [],
   "source": [
    "res"
   ]
  },
  {
   "cell_type": "code",
   "execution_count": null,
   "metadata": {},
   "outputs": [],
   "source": [
    "def f(x,scale=1., sub=0):\n",
    "    return np.sum(x)*scale-sub"
   ]
  },
  {
   "cell_type": "code",
   "execution_count": null,
   "metadata": {},
   "outputs": [],
   "source": [
    "def wrapper(x0, fun, *args, **kwargs):\n",
    "    return fun(x0, *args, **kwargs)"
   ]
  },
  {
   "cell_type": "code",
   "execution_count": null,
   "metadata": {},
   "outputs": [],
   "source": [
    "wrapper(np.ones(2), f, *(2, 1))"
   ]
  },
  {
   "cell_type": "code",
   "execution_count": null,
   "metadata": {},
   "outputs": [],
   "source": []
  }
 ],
 "metadata": {
  "kernelspec": {
   "display_name": "Python 3",
   "language": "python",
   "name": "python3"
  },
  "language_info": {
   "codemirror_mode": {
    "name": "ipython",
    "version": 3
   },
   "file_extension": ".py",
   "mimetype": "text/x-python",
   "name": "python",
   "nbconvert_exporter": "python",
   "pygments_lexer": "ipython3",
   "version": "3.6.8"
  }
 },
 "nbformat": 4,
 "nbformat_minor": 4
}
