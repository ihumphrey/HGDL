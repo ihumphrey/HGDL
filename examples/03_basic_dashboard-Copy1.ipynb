{
 "cells": [
  {
   "cell_type": "markdown",
   "metadata": {},
   "source": [
    "## Using HGDL and the dask dashboard"
   ]
  },
  {
   "cell_type": "code",
   "execution_count": 1,
   "metadata": {},
   "outputs": [
    {
     "name": "stdout",
     "output_type": "stream",
     "text": [
      "Processing /home/elliott/Documents/hgdl\n",
      "Requirement already satisfied: wheel in /home/elliott/anaconda3/lib/python3.7/site-packages (from hgdl==1.0) (0.34.2)\n",
      "Requirement already satisfied: numpy in /home/elliott/anaconda3/lib/python3.7/site-packages (from hgdl==1.0) (1.18.5)\n",
      "Requirement already satisfied: versioneer in /home/elliott/anaconda3/lib/python3.7/site-packages/versioneer-0.18-py3.7.egg (from hgdl==1.0) (0.18)\n",
      "Requirement already satisfied: scipy in /home/elliott/anaconda3/lib/python3.7/site-packages (from hgdl==1.0) (1.5.0)\n",
      "Requirement already satisfied: matplotlib in /home/elliott/anaconda3/lib/python3.7/site-packages (from hgdl==1.0) (3.2.2)\n",
      "Requirement already satisfied: dask in /home/elliott/anaconda3/lib/python3.7/site-packages (from hgdl==1.0) (2.20.0)\n",
      "Requirement already satisfied: torch in /home/elliott/anaconda3/lib/python3.7/site-packages (from hgdl==1.0) (1.5.0)\n",
      "Requirement already satisfied: distributed in /home/elliott/anaconda3/lib/python3.7/site-packages (from hgdl==1.0) (2.20.0)\n",
      "Requirement already satisfied: cycler>=0.10 in /home/elliott/anaconda3/lib/python3.7/site-packages (from matplotlib->hgdl==1.0) (0.10.0)\n",
      "Requirement already satisfied: python-dateutil>=2.1 in /home/elliott/anaconda3/lib/python3.7/site-packages (from matplotlib->hgdl==1.0) (2.8.1)\n",
      "Requirement already satisfied: pyparsing!=2.0.4,!=2.1.2,!=2.1.6,>=2.0.1 in /home/elliott/anaconda3/lib/python3.7/site-packages (from matplotlib->hgdl==1.0) (2.4.7)\n",
      "Requirement already satisfied: kiwisolver>=1.0.1 in /home/elliott/anaconda3/lib/python3.7/site-packages (from matplotlib->hgdl==1.0) (1.2.0)\n",
      "Requirement already satisfied: pyyaml in /home/elliott/anaconda3/lib/python3.7/site-packages (from dask->hgdl==1.0) (5.3.1)\n",
      "Requirement already satisfied: future in /home/elliott/anaconda3/lib/python3.7/site-packages (from torch->hgdl==1.0) (0.18.2)\n",
      "Requirement already satisfied: tblib>=1.6.0 in /home/elliott/anaconda3/lib/python3.7/site-packages (from distributed->hgdl==1.0) (1.6.0)\n",
      "Requirement already satisfied: setuptools in /home/elliott/anaconda3/lib/python3.7/site-packages (from distributed->hgdl==1.0) (49.2.0.post20200714)\n",
      "Requirement already satisfied: tornado>=5; python_version < \"3.8\" in /home/elliott/anaconda3/lib/python3.7/site-packages (from distributed->hgdl==1.0) (6.0.4)\n",
      "Requirement already satisfied: click>=6.6 in /home/elliott/anaconda3/lib/python3.7/site-packages (from distributed->hgdl==1.0) (7.1.2)\n",
      "Requirement already satisfied: toolz>=0.8.2 in /home/elliott/anaconda3/lib/python3.7/site-packages (from distributed->hgdl==1.0) (0.10.0)\n",
      "Requirement already satisfied: psutil>=5.0 in /home/elliott/anaconda3/lib/python3.7/site-packages (from distributed->hgdl==1.0) (5.7.0)\n",
      "Requirement already satisfied: msgpack>=0.6.0 in /home/elliott/anaconda3/lib/python3.7/site-packages (from distributed->hgdl==1.0) (1.0.0)\n",
      "Requirement already satisfied: sortedcontainers!=2.0.0,!=2.0.1 in /home/elliott/anaconda3/lib/python3.7/site-packages (from distributed->hgdl==1.0) (2.2.2)\n",
      "Requirement already satisfied: cloudpickle>=1.3.0 in /home/elliott/anaconda3/lib/python3.7/site-packages (from distributed->hgdl==1.0) (1.5.0)\n",
      "Requirement already satisfied: zict>=0.1.3 in /home/elliott/anaconda3/lib/python3.7/site-packages (from distributed->hgdl==1.0) (2.0.0)\n",
      "Requirement already satisfied: six in /home/elliott/anaconda3/lib/python3.7/site-packages (from cycler>=0.10->matplotlib->hgdl==1.0) (1.15.0)\n",
      "Requirement already satisfied: heapdict in /home/elliott/anaconda3/lib/python3.7/site-packages (from zict>=0.1.3->distributed->hgdl==1.0) (1.0.1)\n",
      "Building wheels for collected packages: hgdl\n",
      "  Building wheel for hgdl (setup.py) ... \u001b[?25ldone\n",
      "\u001b[?25h  Created wheel for hgdl: filename=hgdl-1.0-py3-none-any.whl size=10741 sha256=72728472a4f6dde00f49aa702c58fb787f965acaf2df5ea12d6824cd4d725456\n",
      "  Stored in directory: /tmp/pip-ephem-wheel-cache-o6mnqadt/wheels/6b/c9/23/792ad4bdbe555082c55c8811620c083ede102ae1e0a722bea4\n",
      "Successfully built hgdl\n",
      "Installing collected packages: hgdl\n",
      "  Attempting uninstall: hgdl\n",
      "    Found existing installation: hgdl 1.0\n",
      "    Uninstalling hgdl-1.0:\n",
      "      Successfully uninstalled hgdl-1.0\n",
      "Successfully installed hgdl-1.0\n"
     ]
    }
   ],
   "source": [
    "!pip install ../"
   ]
  },
  {
   "cell_type": "code",
   "execution_count": 2,
   "metadata": {},
   "outputs": [],
   "source": [
    "from hgdl.hgdl import HGDL"
   ]
  },
  {
   "cell_type": "code",
   "execution_count": 3,
   "metadata": {},
   "outputs": [
    {
     "data": {
      "text/plain": [
       "\u001b[0;31mInit signature:\u001b[0m \u001b[0mHGDL\u001b[0m\u001b[0;34m(\u001b[0m\u001b[0;34m*\u001b[0m\u001b[0margs\u001b[0m\u001b[0;34m,\u001b[0m \u001b[0;34m**\u001b[0m\u001b[0mkwargs\u001b[0m\u001b[0;34m)\u001b[0m\u001b[0;34m\u001b[0m\u001b[0;34m\u001b[0m\u001b[0m\n",
       "\u001b[0;31mDocstring:\u001b[0m     \n",
       "HGDL\n",
       "    * Hybrid - uses both local and global optimization\n",
       "    * G - uses global optimizer\n",
       "    * D - uses deflation\n",
       "    * L - uses local extremum localMethod\n",
       "    Mandatory Parameters:\n",
       "        * func - should return a scalar given a numpy array x\n",
       "        -- note: use functools.partial if you have optional params\n",
       "        * grad - gradient vector at x\n",
       "        * bounds - numpy array of bounds in same format as scipy.optimize\n",
       "    Optional Parameters:\n",
       "        * Overall Parameters -----------------------------------\n",
       "        * hess (None) - hessian array at x - you may need this depending on the local method\n",
       "        * client - (None->HGDL initializes if None) dask.distributed.Client object\n",
       "            -- this lets you interface with clusters via dask with Client(myCluster)\n",
       "        * num_epochs (10) - the number of epochs. 1 epoch is 1 global step + 1 local run\n",
       "        * numWorkers (logical cpu cores -1) - how many processes to use\n",
       "        * fix_rng (True) - sets random numbers to be fixed (for reproducibility)\n",
       "        * bestX (5) - maximum number of minima and global results to put in get_final()\n",
       "        * num_individuals (25) - the number of individuals to run for both global and local methods\n",
       "        * x0 (None) starting points to probe\n",
       "        * global_method ('gaussian') - these control what global and local methods\n",
       "        * local_method ('scipy') -    are used by HGDL\n",
       "\n",
       "        * Global Method Parameters -----------------------------\n",
       "        * global_args ((,)) - arguments to global method\n",
       "        * global_kwargs({}) - kwargs for global method\n",
       "            -- note: these let you pass custom info to your method of choice\n",
       "\n",
       "        * Deflation Parameters ---------------------------------\n",
       "        * alpha (0.1) - the alpha term of the bump function\n",
       "        * r (.3) - the radius for the bump function\n",
       "            -- these define how deflation behaves\n",
       "\n",
       "        * Local Method Parameters ------------------------------\n",
       "        * local_args ((,)) - arguments to global method\n",
       "        * local_kwargs({}) - kwargs for global method\n",
       "            -- note: these let you pass custom info to your method of choice\n",
       "        * max_local (5) - the maximum number of local runs to do\n",
       "\n",
       "    Returns:\n",
       "        an HGDL object that has the following functions:\n",
       "        get_best(): yields a dict of the form\n",
       "            {\"best_x\":best_x_ndarray, \"best_y\":best_y_value}\n",
       "        get_final(): yields a dict of the form\n",
       "            {\"best_x\":best_x_ndarray, \"best_y\":best_y_value,\n",
       "            \"minima_x\":minima_x_ndarray, \"minima_y\":minima_y_values,\n",
       "            \"global_x\":global_x_ndarray, \"global_y\":global_y_values,\n",
       "            }\n",
       "\u001b[0;31mFile:\u001b[0m           ~/anaconda3/lib/python3.7/site-packages/hgdl/hgdl.py\n",
       "\u001b[0;31mType:\u001b[0m           type\n",
       "\u001b[0;31mSubclasses:\u001b[0m     \n"
      ]
     },
     "metadata": {},
     "output_type": "display_data"
    }
   ],
   "source": [
    "HGDL?"
   ]
  },
  {
   "cell_type": "markdown",
   "metadata": {},
   "source": [
    "Let's use the most simple version here on the rosenbrock function from scipy.optimize"
   ]
  },
  {
   "cell_type": "code",
   "execution_count": 4,
   "metadata": {},
   "outputs": [],
   "source": [
    "from scipy.optimize import rosen, rosen_der, rosen_hess\n",
    "import numpy as np"
   ]
  },
  {
   "cell_type": "code",
   "execution_count": 5,
   "metadata": {},
   "outputs": [],
   "source": [
    "bounds = np.array([[-2,2.],[-4,45],[-3,3]])"
   ]
  },
  {
   "cell_type": "code",
   "execution_count": 6,
   "metadata": {},
   "outputs": [],
   "source": [
    "from dask.distributed import Client"
   ]
  },
  {
   "cell_type": "code",
   "execution_count": 7,
   "metadata": {},
   "outputs": [],
   "source": [
    "from dask.distributed import LocalCluster"
   ]
  },
  {
   "cell_type": "code",
   "execution_count": 8,
   "metadata": {},
   "outputs": [],
   "source": [
    "c = Client(LocalCluster(n_workers=3, threads_per_worker=2, dashboard_address=':0'))"
   ]
  },
  {
   "cell_type": "code",
   "execution_count": 9,
   "metadata": {},
   "outputs": [
    {
     "data": {
      "text/plain": [
       "'http://127.0.0.1:46299/status'"
      ]
     },
     "execution_count": 9,
     "metadata": {},
     "output_type": "execute_result"
    }
   ],
   "source": [
    "c.dashboard_link"
   ]
  },
  {
   "cell_type": "code",
   "execution_count": 10,
   "metadata": {},
   "outputs": [
    {
     "name": "stdout",
     "output_type": "stream",
     "text": [
      "01_basic_usage.ipynb              11_bump_function.ipynb  \u001b[0m\u001b[01;34mdask-worker-space\u001b[0m/\n",
      "02_understanding_hgdl_args.ipynb  12_global.ipynb         \u001b[01;32m__init__.py\u001b[0m*\n",
      "03_basic_dashboard-Copy1.ipynb    13_newton.ipynb         scheduler.json\n"
     ]
    }
   ],
   "source": [
    "ls"
   ]
  },
  {
   "cell_type": "code",
   "execution_count": 11,
   "metadata": {},
   "outputs": [],
   "source": [
    "c.scheduler_file"
   ]
  },
  {
   "cell_type": "code",
   "execution_count": 12,
   "metadata": {},
   "outputs": [
    {
     "name": "stdout",
     "output_type": "stream",
     "text": [
      "CPU times: user 60 s, sys: 7.04 s, total: 1min 7s\n",
      "Wall time: 4min 6s\n"
     ]
    },
    {
     "data": {
      "text/plain": [
       "{'best_x': array([1.00000001, 1.00000002, 1.00000004]),\n",
       " 'best_y': 1.190304529892752e-15,\n",
       " 'minima_x': array([[1.00000001, 1.00000002, 1.00000004]]),\n",
       " 'minima_y': array([1.19030453e-15]),\n",
       " 'global_x': array([[ 0.07836477,  0.07505431,  0.07143454],\n",
       "        [-0.58408731,  0.44585692,  0.13685647],\n",
       "        [ 0.23114597, -0.13769978, -0.02365913],\n",
       "        [-0.35327022,  0.01211651,  0.19297759],\n",
       "        [ 0.92874526,  0.65289053,  0.75063829]]),\n",
       " 'global_y': array([ 2.61282231,  4.29615025,  5.7201472 ,  7.79537846, 15.04375141])}"
      ]
     },
     "execution_count": 12,
     "metadata": {},
     "output_type": "execute_result"
    }
   ],
   "source": [
    "%%time\n",
    "hgdl = HGDL(rosen, rosen_der, bounds, hess=rosen_hess, client=c, num_individuals=10**3)\n",
    "\n",
    "hgdl.get_best()\n",
    "\n",
    "hgdl.get_final()"
   ]
  },
  {
   "cell_type": "code",
   "execution_count": 13,
   "metadata": {},
   "outputs": [],
   "source": [
    "hgdl = HGDL(rosen, rosen_der, bounds, hess=rosen_hess, client=c, num_individuals=10**2)"
   ]
  },
  {
   "cell_type": "markdown",
   "metadata": {},
   "source": [
    "Now I can open up the localhost on a new tab and see what's happening"
   ]
  },
  {
   "cell_type": "code",
   "execution_count": 14,
   "metadata": {},
   "outputs": [
    {
     "data": {
      "text/plain": [
       "{'best_x': array([1.00000001, 1.00000002, 1.00000004]),\n",
       " 'best_y': 1.190304529892752e-15}"
      ]
     },
     "execution_count": 14,
     "metadata": {},
     "output_type": "execute_result"
    }
   ],
   "source": [
    "hgdl.get_best()"
   ]
  },
  {
   "cell_type": "code",
   "execution_count": 15,
   "metadata": {},
   "outputs": [
    {
     "data": {
      "text/plain": [
       "{'best_x': array([1.00000001, 1.00000002, 1.00000004]),\n",
       " 'best_y': 1.190304529892752e-15,\n",
       " 'minima_x': array([[1.00000001, 1.00000002, 1.00000004]]),\n",
       " 'minima_y': array([1.19030453e-15]),\n",
       " 'global_x': array([[ 0.51945058,  0.09069819,  0.16583997],\n",
       "        [-0.68960821,  0.31122714, -0.14499328],\n",
       "        [-0.33554902, -0.32454441, -0.40405736],\n",
       "        [ 1.07458997,  1.27930635,  2.49607107],\n",
       "        [-0.31253475,  0.98055592,  0.46652794]]),\n",
       " 'global_y': array([  6.7507499 ,  11.87910942,  48.59448673,  75.49996289,\n",
       "        104.16920923])}"
      ]
     },
     "execution_count": 15,
     "metadata": {},
     "output_type": "execute_result"
    }
   ],
   "source": [
    "hgdl.get_final()"
   ]
  },
  {
   "cell_type": "markdown",
   "metadata": {},
   "source": [
    "### The true minimum is [1,1,1], so this is it, that's all that's strictly necessary."
   ]
  }
 ],
 "metadata": {
  "kernelspec": {
   "display_name": "Python 3",
   "language": "python",
   "name": "python3"
  },
  "language_info": {
   "codemirror_mode": {
    "name": "ipython",
    "version": 3
   },
   "file_extension": ".py",
   "mimetype": "text/x-python",
   "name": "python",
   "nbconvert_exporter": "python",
   "pygments_lexer": "ipython3",
   "version": "3.7.7"
  }
 },
 "nbformat": 4,
 "nbformat_minor": 4
}
