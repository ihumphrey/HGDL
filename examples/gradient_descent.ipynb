{
 "cells": [
  {
   "cell_type": "code",
   "execution_count": null,
   "metadata": {},
   "outputs": [],
   "source": [
    "def gradient_descent(ObjectiveFunction, GradientFunction,bounds,x0, radius, *args):\n",
    "    dim = len(bounds)\n",
    "    bounds = np.array(bounds)\n",
    "    epsilon = np.inf\n",
    "    step_counter = 0\n",
    "    beta = 0.8\n",
    "    x = np.array(x0)\n",
    "    success = True\n",
    "    while epsilon > 1e-6:\n",
    "        step_counter += 1\n",
    "        #d = defl.deflation_function(x,x_defl,radius)\n",
    "        gradient = GradientFunction(x, *args) #* d\n",
    "        counter = 0\n",
    "        step = 1.0\n",
    "        while out_of_bounds(x - (step * gradient), bounds) or \\\n",
    "              ObjectiveFunction(x - (step * gradient), *args) > \\\n",
    "              ObjectiveFunction(x, *args) - ((step / 2.0) * np.linalg.norm(gradient) ** 2):\n",
    "            step = step * beta\n",
    "            counter += 1\n",
    "            if counter > 100:\n",
    "                break\n",
    "        x = x - (step * gradient)\n",
    "        print(step_counter,x,gradient)\n",
    "        epsilon = np.linalg.norm(gradient)\n",
    "        if step_counter > 100:\n",
    "            success = False\n",
    "            break\n",
    "    return x, ObjectiveFunction(x, *args), True\n",
    "\n",
    "def out_of_bounds(x,bounds):\n",
    "    for i in range(len(x)):\n",
    "        if x[i] < bounds[i,0] or x[i] > bounds[i,1]:\n",
    "            return True\n",
    "    return False"
   ]
  },
  {
   "cell_type": "code",
   "execution_count": null,
   "metadata": {},
   "outputs": [],
   "source": [
    "from scipy.optimize import rosen, rosen_der\n",
    "import numpy as np\n"
   ]
  },
  {
   "cell_type": "code",
   "execution_count": null,
   "metadata": {},
   "outputs": [],
   "source": [
    "x,f,b = gradient_descent(rosen,rosen_der, [[-300,900],[-300,900]],[-10,10],0.1)\n",
    "print(x)\n"
   ]
  }
 ],
 "metadata": {
  "kernelspec": {
   "display_name": "Python 3",
   "language": "python",
   "name": "python3"
  },
  "language_info": {
   "codemirror_mode": {
    "name": "ipython",
    "version": 3
   },
   "file_extension": ".py",
   "mimetype": "text/x-python",
   "name": "python",
   "nbconvert_exporter": "python",
   "pygments_lexer": "ipython3",
   "version": "3.8.10"
  }
 },
 "nbformat": 4,
 "nbformat_minor": 4
}
