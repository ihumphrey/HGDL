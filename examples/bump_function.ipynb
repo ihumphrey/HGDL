{
 "cells": [
  {
   "cell_type": "code",
   "execution_count": null,
   "metadata": {},
   "outputs": [],
   "source": [
    "def bumpM(x,x0,M):\n",
    "    d = (x - x0).T @ M @ (x - x0)\n",
    "    b = np.zeros((d.shape)) \n",
    "    a = 1.0-d\n",
    "    if a < 0: return 0.0 \n",
    "    else: return np.exp(-1.0/a) * np.exp(1.0)\n",
    "\n",
    "def bump_derM(x,x0,M):\n",
    "    d = (x - x0).T @ M @ (x - x0)\n",
    "    d2= (x - x0)\n",
    "    gr = np.zeros((d2.shape)) \n",
    "    a = 1.0-d\n",
    "    if a < 0: return 0.0\n",
    "    else: return ((-2.0*d2)/(a**2)) * np.exp(-1.0/a) * np.exp(1.0)"
   ]
  },
  {
   "cell_type": "code",
   "execution_count": null,
   "metadata": {},
   "outputs": [],
   "source": [
    "def bump(x,x0,r):\n",
    "    d = np.sqrt((x - x0).T @ (x - x0))\n",
    "    b = np.zeros((d.shape)) \n",
    "    a = 1.0-(d**2/r**2)\n",
    "    if a <= 0: return 0.0 \n",
    "    else: return np.exp(-1.0/a) * np.exp(1.0)\n",
    "\n",
    "def bump_der(x,x0,r):\n",
    "    d = np.sqrt((x - x0).T @ (x - x0))\n",
    "    d2= (x - x0)\n",
    "    gr = np.zeros((d2.shape)) \n",
    "    a = 1.0-(d**2/r**2)\n",
    "    if a <= 0: return np.zeros((len(x)))\n",
    "    else: return (bump(x,x0,r) * ((-2.0*d2)/(a**2))) /r**2"
   ]
  },
  {
   "cell_type": "code",
   "execution_count": null,
   "metadata": {},
   "outputs": [],
   "source": [
    "import numpy as np\n",
    "import matplotlib.pyplot as plt"
   ]
  },
  {
   "cell_type": "code",
   "execution_count": null,
   "metadata": {},
   "outputs": [],
   "source": [
    "import numpy as np\n",
    "import matplotlib.pyplot as plt\n",
    "from matplotlib import cm\n",
    "from mpl_toolkits.mplot3d import Axes3D\n",
    "\n",
    "X = np.arange(-5, 5, 0.1)\n",
    "Y = np.arange(-5, 5, 0.1)\n",
    "X, Y = np.meshgrid(X, Y)\n",
    "b = np.empty((X.shape))\n",
    "g = np.empty((len(X),len(X),2))\n",
    "x = np.empty((len(X)**2,2))\n",
    "x0= np.zeros((2,2))\n",
    "x0 = np.array([0,0])\n",
    "index = 0 \n",
    "M = np.zeros((2,2))\n",
    "M[0,0] = 1.0\n",
    "M[1,1] = 5.0\n",
    "r = 2.0\n",
    "for i in range(len(X)):\n",
    "    for j in range(len(Y)):\n",
    "        x[index,0] = X[i,j]\n",
    "        x[index,1] = Y[i,j]\n",
    "        b[i,j] = bump(x[index],x0,r)\n",
    "        g[i,j] = bump_der(x[index],x0,r)\n",
    "        index += 1\n",
    "\n",
    "#der = bump_der(x,x0,1.0)\n",
    "#B = np.empty((X.shape))\n",
    "#D = np.empty((X.shape))\n",
    "#index = 0 \n",
    "#for i in range(len(X)):\n",
    "#    for j in range(len(Y)):\n",
    "#        B[i,j] = b[index]\n",
    "#        D[i,j] = der[index,1]\n",
    "#        index += 1\n",
    "\n",
    "fig = plt.figure()\n",
    "ax = Axes3D(fig)\n",
    "ax.plot_surface(X, Y, b, rstride=1, cstride=1, cmap=cm.viridis)\n",
    "\n",
    "fig = plt.figure()\n",
    "ax = Axes3D(fig)\n",
    "ax.plot_surface(X, Y, g[:,:,1] , rstride=1, cstride=1, cmap=cm.viridis)#plt.show()\n",
    "\n",
    "fig = plt.figure()\n",
    "ax = Axes3D(fig)\n",
    "gx,gy = np.gradient(b,0.1,0.1)\n",
    "ax.plot_surface(X, Y, gx, rstride=1, cstride=1, cmap=cm.viridis)\n",
    "plt.show()"
   ]
  },
  {
   "cell_type": "code",
   "execution_count": null,
   "metadata": {},
   "outputs": [],
   "source": []
  },
  {
   "cell_type": "code",
   "execution_count": null,
   "metadata": {},
   "outputs": [],
   "source": []
  }
 ],
 "metadata": {
  "kernelspec": {
   "display_name": "Python 3",
   "language": "python",
   "name": "python3"
  },
  "language_info": {
   "codemirror_mode": {
    "name": "ipython",
    "version": 3
   },
   "file_extension": ".py",
   "mimetype": "text/x-python",
   "name": "python",
   "nbconvert_exporter": "python",
   "pygments_lexer": "ipython3",
   "version": "3.8.10"
  }
 },
 "nbformat": 4,
 "nbformat_minor": 4
}
