{
 "cells": [
  {
   "cell_type": "markdown",
   "metadata": {},
   "source": [
    "## Most basic usage of HGDL\n",
    "First, let's just look at how to import it and what sort of function definition it has"
   ]
  },
  {
   "cell_type": "code",
   "execution_count": 1,
   "metadata": {},
   "outputs": [],
   "source": [
    "from hgdl.hgdl import HGDL"
   ]
  },
  {
   "cell_type": "code",
   "execution_count": 2,
   "metadata": {},
   "outputs": [
    {
     "data": {
      "text/plain": [
       "\u001b[0;31mInit signature:\u001b[0m \u001b[0mHGDL\u001b[0m\u001b[0;34m(\u001b[0m\u001b[0;34m*\u001b[0m\u001b[0margs\u001b[0m\u001b[0;34m,\u001b[0m \u001b[0;34m**\u001b[0m\u001b[0mkwargs\u001b[0m\u001b[0;34m)\u001b[0m\u001b[0;34m\u001b[0m\u001b[0;34m\u001b[0m\u001b[0m\n",
       "\u001b[0;31mDocstring:\u001b[0m     \n",
       "HGDL\n",
       "    * Hybrid - uses both local and global optimization\n",
       "    * G - uses global optimizer\n",
       "    * D - uses deflation\n",
       "    * L - uses local extremum localMethod\n",
       "    Mandatory Parameters:\n",
       "        * func - should return a scalar given a numpy array x\n",
       "        -- note: use functools.partial if you have optional params\n",
       "        * grad - gradient vector at x\n",
       "        * bounds - numpy array of bounds in same format as scipy.optimize\n",
       "    Optional Parameters:\n",
       "        * Overall Parameters -----------------------------------\n",
       "        * hess (None) - hessian array at x - you may need this depending on the local method\n",
       "        * client - (None->HGDL initializes if None) dask.distributed.Client object\n",
       "            -- this lets you interface with clusters via dask with Client(myCluster)\n",
       "        * num_epochs (10) - the number of epochs. 1 epoch is 1 global step + 1 local run\n",
       "        * numWorkers (logical cpu cores -1) - how many processes to use\n",
       "        * fix_rng (True) - sets random numbers to be fixed (for reproducibility)\n",
       "        * bestX (5) - maximum number of minima and global results to put in get_final()\n",
       "        * num_individuals (25) - the number of individuals to run for both global and local methods\n",
       "        * x0 (None) starting points to probe\n",
       "        * global_method ('gaussian') - these control what global and local methods\n",
       "        * local_method ('scipy') -    are used by HGDL\n",
       "\n",
       "        * Global Method Parameters -----------------------------\n",
       "        * global_args ((,)) - arguments to global method\n",
       "        * global_kwargs({}) - kwargs for global method\n",
       "            -- note: these let you pass custom info to your method of choice\n",
       "\n",
       "        * Deflation Parameters ---------------------------------\n",
       "        * alpha (0.1) - the alpha term of the bump function\n",
       "        * r (.3) - the radius for the bump function\n",
       "            -- these define how deflation behaves\n",
       "\n",
       "        * Local Method Parameters ------------------------------\n",
       "        * local_args ((,)) - arguments to global method\n",
       "        * local_kwargs({}) - kwargs for global method\n",
       "            -- note: these let you pass custom info to your method of choice\n",
       "        * max_local (5) - the maximum number of local runs to do\n",
       "\n",
       "    Returns:\n",
       "        an HGDL object that has the following functions:\n",
       "        get_best(): yields a dict of the form\n",
       "            {\"best_x\":best_x_ndarray, \"best_y\":best_y_value}\n",
       "        get_final(): yields a dict of the form\n",
       "            {\"best_x\":best_x_ndarray, \"best_y\":best_y_value,\n",
       "            \"minima_x\":minima_x_ndarray, \"minima_y\":minima_y_values,\n",
       "            \"global_x\":global_x_ndarray, \"global_y\":global_y_values,\n",
       "            }\n",
       "\u001b[0;31mFile:\u001b[0m           ~/anaconda3/envs/test/lib/python3.7/site-packages/hgdl/hgdl.py\n",
       "\u001b[0;31mType:\u001b[0m           type\n"
      ]
     },
     "metadata": {},
     "output_type": "display_data"
    }
   ],
   "source": [
    "HGDL?"
   ]
  },
  {
   "cell_type": "markdown",
   "metadata": {},
   "source": [
    "Let's use the most simple version here on the rosenbrock function from scipy.optimize"
   ]
  },
  {
   "cell_type": "code",
   "execution_count": 3,
   "metadata": {},
   "outputs": [],
   "source": [
    "from scipy.optimize import rosen, rosen_der, rosen_hess\n",
    "import numpy as np"
   ]
  },
  {
   "cell_type": "code",
   "execution_count": 4,
   "metadata": {},
   "outputs": [],
   "source": [
    "bounds = np.array([[-2,2.],[-4,45],[-3,3]])"
   ]
  },
  {
   "cell_type": "code",
   "execution_count": 5,
   "metadata": {},
   "outputs": [],
   "source": [
    "hgdl = HGDL(rosen, rosen_der, bounds, hess=rosen_hess)"
   ]
  },
  {
   "cell_type": "code",
   "execution_count": 6,
   "metadata": {},
   "outputs": [
    {
     "data": {
      "text/plain": [
       "{'best_x': array([1., 1., 1.]), 'best_y': 3.0981196551798726e-18}"
      ]
     },
     "execution_count": 6,
     "metadata": {},
     "output_type": "execute_result"
    }
   ],
   "source": [
    "hgdl.get_best()"
   ]
  },
  {
   "cell_type": "code",
   "execution_count": 7,
   "metadata": {},
   "outputs": [
    {
     "data": {
      "text/plain": [
       "{'best_x': array([1., 1., 1.]),\n",
       " 'best_y': 3.0981196551798726e-18,\n",
       " 'minima_x': array([[1., 1., 1.]]),\n",
       " 'minima_y': array([3.09811966e-18]),\n",
       " 'global_x': array([[-0.51075283,  0.20406905, -0.76157517],\n",
       "        [ 0.78947212,  0.61469005,  2.85373411],\n",
       "        [ 0.72998202,  2.8478717 , -1.80055079],\n",
       "        [ 0.27496478,  2.85005291, -2.31281956],\n",
       "        [-1.82478494,  3.56018511,  1.09829372]]),\n",
       " 'global_y': array([   67.7546296 ,   613.20339708, 10362.05051933, 11663.92299543,\n",
       "        13421.66287707])}"
      ]
     },
     "execution_count": 7,
     "metadata": {},
     "output_type": "execute_result"
    }
   ],
   "source": [
    "hgdl.get_final()"
   ]
  },
  {
   "cell_type": "markdown",
   "metadata": {},
   "source": [
    "### The true minimum is [1,1,1], so this is it, that's all that's strictly necessary."
   ]
  }
 ],
 "metadata": {
  "kernelspec": {
   "display_name": "Python 3",
   "language": "python",
   "name": "python3"
  },
  "language_info": {
   "codemirror_mode": {
    "name": "ipython",
    "version": 3
   },
   "file_extension": ".py",
   "mimetype": "text/x-python",
   "name": "python",
   "nbconvert_exporter": "python",
   "pygments_lexer": "ipython3",
   "version": "3.7.8"
  }
 },
 "nbformat": 4,
 "nbformat_minor": 4
}
