{
 "cells": [
  {
   "cell_type": "markdown",
   "metadata": {},
   "source": [
    "# HGDL\n",
    "    * Hybrid - uses both local and global optimization\n",
    "    * G - uses global optimizer\n",
    "    * D - uses deflation\n",
    "    * L - uses local extremum method\n",
    "The goal of this is to be modular and robust to a variety of functions\n",
    "## Imports"
   ]
  },
  {
   "cell_type": "code",
   "execution_count": 1,
   "metadata": {},
   "outputs": [],
   "source": [
    "import numpy as np\n",
    "import matplotlib.pyplot as plt\n",
    "from multiprocessing import Pool\n",
    "from functools import partial\n",
    "from math import ceil\n",
    "import numba as nb\n",
    "from multiprocessing import cpu_count\n",
    "from scipy.optimize import minimize"
   ]
  },
  {
   "cell_type": "code",
   "execution_count": 2,
   "metadata": {},
   "outputs": [],
   "source": [
    "DEBUG = True\n",
    "VERBOSE = True"
   ]
  },
  {
   "cell_type": "markdown",
   "metadata": {},
   "source": [
    "## Minimization\n",
    "### Define deflation operator and derivatives"
   ]
  },
  {
   "cell_type": "code",
   "execution_count": 3,
   "metadata": {},
   "outputs": [],
   "source": [
    "#@nb.vectorize(nopython=True, cache=True)\n",
    "def bump_function(dist2center, radius_squared, alpha):\n",
    "    \"\"\"\n",
    "    This actually takes the squared distances to the center, |x-x0|^2\n",
    "    This is vectorized over distances\n",
    "    Marcus's bump function\n",
    "        - find it at https://www.sciencedirect.com/science/article/pii/S037704271730225X\n",
    "    \"\"\"\n",
    "    if dist2center==radius_squared: return 0\n",
    "    bump_term = np.exp( (-alpha)/(radius_squared - dist2center) + (alpha/radius_squared) )\n",
    "    return 1./(1.-bump_term)"
   ]
  },
  {
   "cell_type": "code",
   "execution_count": 4,
   "metadata": {},
   "outputs": [],
   "source": [
    "#@nb.vectorize(nopython=True, cache=True)\n",
    "def bump_derivative(dist2center, radius_squared, alpha):\n",
    "    \"\"\"\n",
    "    This actually takes the squared distances to the center, |x-x0|^2\n",
    "    This is vectorized over distances\n",
    "    Marcus's bump function\n",
    "        - find it at https://www.sciencedirect.com/science/article/pii/S037704271730225X\n",
    "    \"\"\"\n",
    "    if dist2center==radius_squared: return 0\n",
    "    bump_der = np.exp( (-alpha)/(radius_squared - dist2center) + (alpha/radius_squared) )\n",
    "    bump_der *= -2*alpha*np.power(dist2center,.5)/np.power(radius_squared-dist2center,2)\n",
    "    return -1.*np.power(bump_function(dist2center,radius_squared,alpha),2)*bump_der"
   ]
  },
  {
   "cell_type": "code",
   "execution_count": 5,
   "metadata": {},
   "outputs": [],
   "source": [
    "#@nb.jit(nopython=True, cache=True)\n",
    "def deflation_factor(x, minima, radius_squared, alpha):\n",
    "    \"\"\"\n",
    "    This calculates:\n",
    "        * what minima is this x in range of\n",
    "        * for the minima in range, what is their deflation factor\n",
    "        * combined defaltion factor\n",
    "    \"\"\"\n",
    "    # initialize scaling factor\n",
    "    factor = 1.\n",
    "    xLen = len(x)\n",
    "    zLen = len(minima)\n",
    "    \n",
    "    # doing all the math in matrix form is much faster \n",
    "    c = x-minima[:,:xLen]\n",
    "    dists2center = np.sum(c*c,axis=1)\n",
    "    withinRange = dists2center < radius_squared\n",
    "    return np.prod(bump_function(dists2center[withinRange], radius_squared, alpha)) "
   ]
  },
  {
   "cell_type": "code",
   "execution_count": 6,
   "metadata": {},
   "outputs": [],
   "source": [
    "#@nb.jit(nopython=True, cache=True)\n",
    "def deflation_derivative(x, minima, radius_squared, alpha):\n",
    "    \"\"\"\n",
    "    This calculates:\n",
    "        * what minima is this x in range of\n",
    "        * for the minima in range, what is their deflation factor\n",
    "        * combined defaltion factor\n",
    "    \"\"\"\n",
    "    # initialize scaling factor\n",
    "    factor = 1.\n",
    "    xLen = len(x)\n",
    "    zLen = len(minima)\n",
    "    \n",
    "    # doing all the math in matrix form is much faster \n",
    "    c = x-minima[:,:xLen]\n",
    "    dists2center = np.sum(c*c,axis=1)\n",
    "    withinRange = dists2center < radius_squared\n",
    "    return np.prod(bump_derivative(dists2center[withinRange], radius_squared, alpha)) "
   ]
  },
  {
   "cell_type": "markdown",
   "metadata": {},
   "source": [
    "### Define wrappers to make interface generic"
   ]
  },
  {
   "cell_type": "code",
   "execution_count": 8,
   "metadata": {},
   "outputs": [],
   "source": [
    "def deflated_gradient(x, gradient, minima, radius_squared, alpha):\n",
    "    return gradient(x)*deflation_factor(x, minima, radius_squared, alpha)"
   ]
  },
  {
   "cell_type": "code",
   "execution_count": 9,
   "metadata": {},
   "outputs": [],
   "source": [
    "def deflated_hessian(x, gradient, hessian, minima, radius_squared, alpha):\n",
    "    term1 = hessian(x)*deflation_derivative(x, minima, radius_squared, alpha)\n",
    "    term2 = gradient(x)*deflation_factor(x, minima, radius_squared, alpha)\n",
    "    return term1 + term2"
   ]
  },
  {
   "cell_type": "code",
   "execution_count": 10,
   "metadata": {},
   "outputs": [],
   "source": [
    "def minimize_wrapper(x0, fun, *args, **kwargs):\n",
    "    return minimize(fun, x0, *args, **kwargs)"
   ]
  },
  {
   "cell_type": "markdown",
   "metadata": {},
   "source": [
    "### Define checks (necessary bc of parallelism)"
   ]
  },
  {
   "cell_type": "code",
   "execution_count": 11,
   "metadata": {},
   "outputs": [],
   "source": [
    "#@nb.jit(nopython=True, cache=True)\n",
    "def alreadyFound(newMinima, oldMinima, xLen, squared_radius):\n",
    "    c = oldMinima[:,:xLen] - newMinima[0,:xLen]\n",
    "    return (np.sum(c*c,1)<squared_radius).any()"
   ]
  },
  {
   "cell_type": "markdown",
   "metadata": {},
   "source": [
    "### Define parallelized deflated local step"
   ]
  },
  {
   "cell_type": "code",
   "execution_count": 14,
   "metadata": {},
   "outputs": [],
   "source": [
    "def walk_individuals(individuals, bounds, objective, gradient, Hessian, radius_squared, \n",
    "                     workers, epsilon, maxCount, alpha, maxRuns, returnedThreshold, method,\n",
    "                     minima=None, args=()):\n",
    "    \n",
    "\n",
    "    xLen = len(individuals[0])\n",
    "    N = len(individuals)\n",
    "    if minima is None: minima = np.empty((0, xLen+1))\n",
    "    \n",
    "    newMinima = np.empty((0, xLen+1))\n",
    "    \n",
    "    for i in range(maxRuns):\n",
    "        numNone = 0\n",
    "\n",
    "        jac = partial(deflated_gradient, gradient=gradient, \n",
    "                      minima=minima, radius_squared=radius_squared, alpha=alpha)\n",
    "        hess = Hessian\n",
    "        if hess is not None: hess = partial(deflated_hessian, gradient=gradient, \n",
    "                                            hessian=Hessian, minima=minima, radius_squared=radius_squared, alpha=alpha)\n",
    "            \n",
    "        walkerOutput = workers.imap_unordered(partial(minimize_wrapper, fun=objective, \n",
    "                                                      args=args, method=method, jac=jac, hess=hess, bounds=bounds,\n",
    "                                                      tol=radius_squared, options={'maxiter':maxCount}),\n",
    "                                              individuals, chunksize=ceil(0.3*len(individuals)/cpu_count()))\n",
    "                                                      \n",
    "        # redo this where it can stop before everything returns\n",
    "        for i,x_found in enumerate(walkerOutput):\n",
    "            if x_found.success==False: \n",
    "                numNone += 1\n",
    "                if numNone/N > returnedThreshold:\n",
    "                    return minima\n",
    "            else:\n",
    "                if not in_bounds(x_found.x, bounds): \n",
    "                    numNone += 1\n",
    "                    if numNone/N > returnedThreshold:\n",
    "                        return minima                        \n",
    "                else:\n",
    "                    newMinima = np.array([*x_found.x, x_found.fun]).reshape(1,-1)\n",
    "                    if not alreadyFound(newMinima, minima, xLen, radius_squared): \n",
    "                        minima = np.concatenate((newMinima, minima), axis=0)\n",
    "\n",
    "    return minima"
   ]
  },
  {
   "cell_type": "markdown",
   "metadata": {},
   "source": [
    "### Define a global optimizer"
   ]
  },
  {
   "cell_type": "code",
   "execution_count": 15,
   "metadata": {},
   "outputs": [],
   "source": [
    "def Procreate(X, y, unfairness, cauchy_wildness):\n",
    "    \"\"\"\n",
    "    Input:\n",
    "    X is the individuals - points on a surface\n",
    "    y is the performance - f(X)\n",
    "    \n",
    "    Parameters:\n",
    "    unfairness is a metric from (1,infinity), where higher numbers skew more towards well performing individuals having more kids\n",
    "    cauchy wildness is a scaling factor for the standard cauchy distribution, where higher values mean less variation\n",
    "        (although it's still a nonstationary function...)\n",
    "    \n",
    "    Notes:\n",
    "    some of the children can (and will) be outside of the bounds!\n",
    "    \"\"\"\n",
    "    N = len(X)\n",
    "    k = len(X[0])\n",
    "    \n",
    "    # normalize the performances to (0,1)\n",
    "    p = y - np.amin(y)\n",
    "    maxVal = np.amax(p)\n",
    "    if maxVal == 0: p = np.ones(len(p))/len(p) # if the distribution of performance has no width, give everyone an equal shot\n",
    "    else: p /= maxVal\n",
    "\n",
    "    #This chooses from the sample based on the power law, allowing replacement means that the the individuals can have multiple kids\n",
    "    p = unfairness*np.power(p,unfairness-1)\n",
    "    p /= np.sum(p)\n",
    "    if np.isnan(p).any():\n",
    "        return p, X, y\n",
    "    moms = np.random.choice(np.arange(len(p)), N, replace=True, p = p)\n",
    "    dads = np.random.choice(np.arange(len(p)), N, replace=True, p = p)\n",
    "    \n",
    "    # calculate a perturbation to the median of each individuals parents\n",
    "    perturbation = np.random.standard_normal(size=(N,k))\n",
    "    perturbation *= cauchy_wildness\n",
    "    \n",
    "    # the children are the median of their parents plus a perturbation (with a chance to deviate wildly)\n",
    "    children = (X[moms]+X[dads])/2. + perturbation*(X[moms]-X[dads])\n",
    "\n",
    "    return children"
   ]
  },
  {
   "cell_type": "markdown",
   "metadata": {},
   "source": [
    "### Check boundary conditions"
   ]
  },
  {
   "cell_type": "code",
   "execution_count": 16,
   "metadata": {},
   "outputs": [],
   "source": [
    "def in_bounds(x, bounds):\n",
    "    if (bounds[:,1]-x > 0).all() and (bounds[:,0] - x < 0).all(): return True\n",
    "    return False"
   ]
  },
  {
   "cell_type": "markdown",
   "metadata": {},
   "source": [
    "### Sample within bounds"
   ]
  },
  {
   "cell_type": "code",
   "execution_count": 17,
   "metadata": {},
   "outputs": [],
   "source": [
    "def random_sample(N,k,bounds):\n",
    "    sample = np.random.random((N,k))\n",
    "    sample *= bounds[:,1]-bounds[:,0]\n",
    "    sample += bounds[:,0]\n",
    "    return sample"
   ]
  },
  {
   "cell_type": "markdown",
   "metadata": {},
   "source": [
    "### Wrap everything together"
   ]
  },
  {
   "cell_type": "code",
   "execution_count": 18,
   "metadata": {},
   "outputs": [],
   "source": [
    "def HXDY(fun, bounds, jac, args=(), method='L-BFGS-B', hess=None, x0=None,\n",
    "    numWorkers = -1,\n",
    "    epsilon = 1e-5,\n",
    "    tol = .01,\n",
    "    maxCount = 50,\n",
    "    alpha = .1,\n",
    "    unfairness = 1,\n",
    "    cauchy_wildness = 1,\n",
    "    minImprovement = 1.1,\n",
    "    N = 100,\n",
    "    keepLastX = 10, maxRuns=30, returnedThreshold=0.7,\n",
    "    extraStoppingCriterion=None,\n",
    "    verbose = True\n",
    "        ):\n",
    "\n",
    "    \n",
    "    k = len(bounds)\n",
    "    if numWorkers == -1: numWorkers = cpu_count()\n",
    "    N = int(N)\n",
    "    if x0 is None: starts = random_sample(N,k,bounds)\n",
    "    else: starts = x0\n",
    "    objective = fun\n",
    "    hessian = hess\n",
    "    gradient = jac\n",
    "    radius_squared = tol\n",
    "    if extraStoppingCriterion is None: extraStoppingCriterion = lambda x: True\n",
    "        \n",
    "    workers = Pool(numWorkers)\n",
    "      \n",
    "    res = walk_individuals(starts, bounds, objective, gradient, hessian, \n",
    "                           radius_squared, workers, epsilon, maxCount, alpha, \n",
    "                           maxRuns, returnedThreshold, args=args, method=method)\n",
    "\n",
    "    numGenerations = 0\n",
    "\n",
    "    res = res[res[:,-1].argsort()]\n",
    "    best = np.inf*np.ones(keepLastX); \n",
    "    if len(res)==0: best[0] = np.nan_to_num(np.inf)-1\n",
    "    else: best[0] = res[0,-1]\n",
    "        \n",
    "    while not np.allclose(best[0],best) and extraStoppingCriterion(res):\n",
    "        numGenerations += 1\n",
    "\n",
    "        if res.shape[0]!=0: \n",
    "            new_starts = Procreate(res[:,:k], res[:,-1], unfairness=unfairness, cauchy_wildness=cauchy_wildness)\n",
    "            for i in range(len(new_starts)): \n",
    "                if not in_bounds(new_starts[i], bounds): new_starts[i] = random_sample(1,k,bounds)\n",
    "        else:\n",
    "            new_starts = random_sample(N,k,bounds)\n",
    "        res = walk_individuals(new_starts, bounds, objective, gradient, hessian,\n",
    "                               radius_squared, workers, epsilon, maxCount, alpha, \n",
    "                               maxRuns, returnedThreshold, minima=res, args=args, method=method)\n",
    "        res = res[res[:,-1].argsort()]\n",
    "        best[numGenerations%keepLastX] = res[0,-1]\n",
    "        if verbose: print(best.round())\n",
    "    workers.close()\n",
    "    return res"
   ]
  },
  {
   "cell_type": "code",
   "execution_count": null,
   "metadata": {},
   "outputs": [],
   "source": []
  },
  {
   "cell_type": "code",
   "execution_count": null,
   "metadata": {},
   "outputs": [],
   "source": []
  }
 ],
 "metadata": {
  "kernelspec": {
   "display_name": "Python 3",
   "language": "python",
   "name": "python3"
  },
  "language_info": {
   "codemirror_mode": {
    "name": "ipython",
    "version": 3
   },
   "file_extension": ".py",
   "mimetype": "text/x-python",
   "name": "python",
   "nbconvert_exporter": "python",
   "pygments_lexer": "ipython3",
   "version": "3.6.8"
  }
 },
 "nbformat": 4,
 "nbformat_minor": 4
}
